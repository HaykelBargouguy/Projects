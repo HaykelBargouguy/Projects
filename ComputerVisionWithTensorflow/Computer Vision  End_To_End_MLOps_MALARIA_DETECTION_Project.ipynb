{
  "cells": [
    {
      "cell_type": "code",
      "execution_count": null,
      "metadata": {
        "id": "EvWlzgko8SKb"
      },
      "outputs": [],
      "source": []
    },
    {
      "cell_type": "markdown",
      "metadata": {
        "id": "4rgmMCOn8l6Z"
      },
      "source": [
        "# **Imports :**"
      ]
    },
    {
      "cell_type": "code",
      "execution_count": 3,
      "metadata": {
        "id": "K0jCQUjWdISP"
      },
      "outputs": [],
      "source": [
        "import warnings\n",
        "warnings.filterwarnings('ignore')"
      ]
    },
    {
      "cell_type": "code",
      "execution_count": 4,
      "metadata": {
        "id": "KWgNAWoqw6Vg"
      },
      "outputs": [],
      "source": [
        "import tensorflow as tf\n",
        "import numpy as np\n",
        "import datetime\n",
        "from tensorboard.plugins.hparams import api as hp\n",
        "from tensorflow.keras.layers import Layer, Conv2D, MaxPool2D, Dense, Flatten, InputLayer, BatchNormalization, Input, Dropout, RandomFlip,RandomContrast , RandomRotation, Resizing, Rescaling\n",
        "from tensorflow.keras.regularizers  import L2, L1\n",
        "import tensorflow_probability as tfp\n",
        "import matplotlib.pyplot as plt### plots\n",
        "import sklearn### machine learning library\n",
        "import cv2## image processing\n",
        "from sklearn.metrics import confusion_matrix, roc_curve### metrics\n",
        "import seaborn as sns ###\n",
        "from tensorflow.keras.losses import BinaryCrossentropy , Loss\n",
        "from tensorflow.keras.metrics import Metric ,  BinaryAccuracy, FalsePositives, FalseNegatives, TruePositives, TrueNegatives, Precision, Recall, AUC, binary_accuracy\n",
        "from google.colab import drive\n",
        "#import albumentations as A\n",
        "from tensorflow.keras.callbacks import TensorBoard , LearningRateScheduler , Callback, CSVLogger, EarlyStopping, LearningRateScheduler, ModelCheckpoint, ReduceLROnPlateau\n",
        "from tensorflow.keras.optimizers import Adam\n",
        "from tensorflow.keras.models import Model\n",
        "import tensorflow_datasets as tfds\n"
      ]
    },
    {
      "cell_type": "code",
      "execution_count": 5,
      "metadata": {
        "id": "kL3anUsQAXbE"
      },
      "outputs": [],
      "source": [
        "CONFIGURATION = {\n",
        "    \"LEARNING_RATE\": 0.001,\n",
        "    \"N_EPOCHS\": 5,\n",
        "    \"BATCH_SIZE\": 128,\n",
        "    \"DROPOUT_RATE\": 0.0,\n",
        "    \"IM_SIZE\": 224,\n",
        "    \"REGULARIZATION_RATE\": 0.0,\n",
        "    \"N_FILTERS\": 6,\n",
        "    \"KERNEL_SIZE\": 3,\n",
        "    \"N_STRIDES\": 1,\n",
        "    \"POOL_SIZE\": 2,\n",
        "    \"N_DENSE_1\": 100,\n",
        "    \"N_DENSE_2\": 10,\n",
        "    }"
      ]
    },
    {
      "cell_type": "markdown",
      "metadata": {
        "id": "jtbD6-emBa1k"
      },
      "source": [
        "# **Data Preparation :**\n"
      ]
    },
    {
      "cell_type": "markdown",
      "metadata": {
        "id": "9m6zE-BFBiwE"
      },
      "source": [
        "### Data Loading :\n"
      ]
    },
    {
      "cell_type": "code",
      "execution_count": 6,
      "metadata": {
        "colab": {
          "base_uri": "https://localhost:8080/",
          "height": 168,
          "referenced_widgets": [
            "5a1e653e4d5d4f5cbb00aafefc099861",
            "a0b83278d3914dc0a44447c0d93e609b",
            "7a39a1aa8e44461f8e03e9d9eef81dee",
            "8d89c741ba8b4608a3c3e4b3df3c5e17",
            "441cb178a0034fa281cb8fab537d427c",
            "4d2e2d92f8b74022b3d428358c33b3aa",
            "d49ba4aa01824fd384dc21e1fba1dcf6",
            "c0d8b8a2972b4fb09a64b7ed39dff964",
            "32ebe796058045b6ac489e388172a9fe",
            "f7e1c33a391e4669bb4e7559499da5fc",
            "485c35b44d0f4a79b41d836f7840207e",
            "3491d64f75224965922f3196c2eab35a",
            "a5e252d996f84136bfda5a09088f6964",
            "fdeac6c9ec154f81bc3ba571100d7a7a",
            "fe5fb30a2cb745589021b174b34e02d2",
            "375a4bba6ee644fca059145a886f003f",
            "3368736ed1bc480aa1bdd81a022b2102",
            "526d4626fc974317b62524d504d7e617",
            "e5f5384b80b84168bf87d4bfcccbb389",
            "021a247d0bd84e86ba9b39bbcef2c381",
            "4f133573f24f4fc3b37212da4eca4cce",
            "8320bffb04e848cb9691f51e29aa4445",
            "7d4312044f774f6aa36054f39e4bb337",
            "d0b617c303554f6b83114b70deb7cb43",
            "58807a7123e24ff2b74044dbe553b5a0",
            "f933193e809743a5be63e475021940cd",
            "d8fb922cc8524cbf96216998e9fbad72",
            "694c478f53eb4d51b718725d27eca287",
            "c761197a4a9f435cb77d9a0512f3ca7b",
            "2763448364b84a5ca11d446d7d1f3eeb",
            "8708a3cca099498dada3fcaf9cb2c5e4",
            "4a4867a1ddf34a8490a76f654207e420",
            "92da05be76654fe6a84211bc9d6fc0c1",
            "f6722c01d7c0443a95cae30c0b101717",
            "f90ce616b5b347d5bb577413c974e48a",
            "c958eceeb67a40dc9b86d88b53df67a2",
            "8134ae1ab0af4f20bf152d0565c1cc2f",
            "22607baac4414320a3135f208f99d251",
            "b128606d1537466bae6f77c644ee90b2",
            "0d734e18201448c985adcd9125f7d9af",
            "d8a312ef0a04454b9131a4388dd38418",
            "2863a20b2b3a4f8593192e6850452950",
            "97fcf992ee5e4dca923d8a4ffceb0544",
            "960ee6a5a46e4d40a20be9a8ff1c0078",
            "79d1dd3ed0dd4eeaa132859e644c4ca8",
            "53001e53285f4c8db57e4d753194c16a",
            "693410574b8d44709172102771ea670d",
            "bceab133aedf4258b040aa9b9b738ddc",
            "4370601277d1425a85a62d699d48a1bb",
            "3edb0eb9eb974462a0adbae204e37ea1",
            "27430a78727c4809801bf7d774bd3e2f",
            "effb12877dce4afab87d445e042e11dd",
            "ffbb0c06d74e425795872dbe1f79565c",
            "8f91e781326f4f3184401080bd4eb74e",
            "7cfc6be0163047cfa2627d8f6616791c",
            "cfe8e179fb14499b921400ce84a17a82",
            "aae1008ae1bf44cd91bfc36b0218a7ae",
            "4ef719175bc74cb5b590f0b32d27dd92",
            "04e1bb8ef94842f1b7262644ab4a9afd",
            "a8f5e1b92e674502875221bc3eb5520a",
            "75c15289a68e44a683175fc1637987ec",
            "05dd01ea690b4a999819cdaeaa7438b0",
            "d6de6e0da5304d9990e8fefb162691a6",
            "17a54d40eddd489185ab4ff5edc92bba",
            "9dba7d410e214f25b8df0f506efa509a",
            "07b967bfb30245f59b6492d64cb5dec9"
          ]
        },
        "id": "MjJR6Bq096Z_",
        "outputId": "8ffd7b55-9b33-477d-a021-6e308eb7134e"
      },
      "outputs": [
        {
          "output_type": "stream",
          "name": "stdout",
          "text": [
            "Downloading and preparing dataset 337.08 MiB (download: 337.08 MiB, generated: Unknown size, total: 337.08 MiB) to /root/tensorflow_datasets/malaria/1.0.0...\n"
          ]
        },
        {
          "output_type": "display_data",
          "data": {
            "text/plain": [
              "Dl Completed...: 0 url [00:00, ? url/s]"
            ],
            "application/vnd.jupyter.widget-view+json": {
              "version_major": 2,
              "version_minor": 0,
              "model_id": "5a1e653e4d5d4f5cbb00aafefc099861"
            }
          },
          "metadata": {}
        },
        {
          "output_type": "display_data",
          "data": {
            "text/plain": [
              "Dl Size...: 0 MiB [00:00, ? MiB/s]"
            ],
            "application/vnd.jupyter.widget-view+json": {
              "version_major": 2,
              "version_minor": 0,
              "model_id": "3491d64f75224965922f3196c2eab35a"
            }
          },
          "metadata": {}
        },
        {
          "output_type": "display_data",
          "data": {
            "text/plain": [
              "Extraction completed...: 0 file [00:00, ? file/s]"
            ],
            "application/vnd.jupyter.widget-view+json": {
              "version_major": 2,
              "version_minor": 0,
              "model_id": "7d4312044f774f6aa36054f39e4bb337"
            }
          },
          "metadata": {}
        },
        {
          "output_type": "display_data",
          "data": {
            "text/plain": [
              "Generating splits...:   0%|          | 0/1 [00:00<?, ? splits/s]"
            ],
            "application/vnd.jupyter.widget-view+json": {
              "version_major": 2,
              "version_minor": 0,
              "model_id": "f6722c01d7c0443a95cae30c0b101717"
            }
          },
          "metadata": {}
        },
        {
          "output_type": "display_data",
          "data": {
            "text/plain": [
              "Generating train examples...:   0%|          | 0/27558 [00:00<?, ? examples/s]"
            ],
            "application/vnd.jupyter.widget-view+json": {
              "version_major": 2,
              "version_minor": 0,
              "model_id": "79d1dd3ed0dd4eeaa132859e644c4ca8"
            }
          },
          "metadata": {}
        },
        {
          "output_type": "display_data",
          "data": {
            "text/plain": [
              "Shuffling /root/tensorflow_datasets/malaria/1.0.0.incompleteY1UDWM/malaria-train.tfrecord*...:   0%|          …"
            ],
            "application/vnd.jupyter.widget-view+json": {
              "version_major": 2,
              "version_minor": 0,
              "model_id": "cfe8e179fb14499b921400ce84a17a82"
            }
          },
          "metadata": {}
        },
        {
          "output_type": "stream",
          "name": "stdout",
          "text": [
            "Dataset malaria downloaded and prepared to /root/tensorflow_datasets/malaria/1.0.0. Subsequent calls will reuse this data.\n"
          ]
        }
      ],
      "source": [
        "dataset, dataset_info = tfds.load('malaria', with_info=True, as_supervised=True, shuffle_files = True, split=['train'])"
      ]
    },
    {
      "cell_type": "code",
      "execution_count": 4,
      "metadata": {
        "colab": {
          "base_uri": "https://localhost:8080/"
        },
        "id": "_IS-LNeRB9Md",
        "outputId": "033c286e-288c-4a6c-d835-f066f315e7fc"
      },
      "outputs": [
        {
          "output_type": "execute_result",
          "data": {
            "text/plain": [
              "[<_PrefetchDataset element_spec=(TensorSpec(shape=(None, None, 3), dtype=tf.uint8, name=None), TensorSpec(shape=(), dtype=tf.int64, name=None))>]"
            ]
          },
          "metadata": {},
          "execution_count": 4
        }
      ],
      "source": [
        "dataset\n",
        "#prefetchedDataset maaneha  we have sotocked the dataset malaria locally ,\n",
        "#element_spect are the element of our dataset , which are features ( images) and labels (classes )"
      ]
    },
    {
      "cell_type": "code",
      "execution_count": 6,
      "metadata": {
        "colab": {
          "base_uri": "https://localhost:8080/"
        },
        "id": "MrbqWWxwCfq2",
        "outputId": "5c7fa122-1400-4c03-913e-1bf707457eaa"
      },
      "outputs": [
        {
          "output_type": "execute_result",
          "data": {
            "text/plain": [
              "<_PrefetchDataset element_spec=(TensorSpec(shape=(None, None, 3), dtype=tf.uint8, name=None), TensorSpec(shape=(), dtype=tf.int64, name=None))>"
            ]
          },
          "metadata": {},
          "execution_count": 6
        }
      ],
      "source": [
        "dataset[0]"
      ]
    },
    {
      "cell_type": "code",
      "execution_count": 7,
      "metadata": {
        "colab": {
          "base_uri": "https://localhost:8080/"
        },
        "id": "6_lOrrt1D_He",
        "outputId": "b69e8487-b5f1-47f5-893d-a223e37457a0"
      },
      "outputs": [
        {
          "output_type": "execute_result",
          "data": {
            "text/plain": [
              "<_TakeDataset element_spec=(TensorSpec(shape=(None, None, 3), dtype=tf.uint8, name=None), TensorSpec(shape=(), dtype=tf.int64, name=None))>"
            ]
          },
          "metadata": {},
          "execution_count": 7
        }
      ],
      "source": [
        "data = dataset[0].take(1)\n",
        "data #its a takedataset"
      ]
    },
    {
      "cell_type": "code",
      "source": [
        "rank_3_tensor = tf.constant([\n",
        "  [[0, 1, 2, 3, 4],\n",
        "   [5, 6, 7, 8, 9]],\n",
        "\n",
        "  [[10, 11, 12, 13, 14],\n",
        "   [15, 16, 17, 18, 19]],\n",
        "\n",
        "  [[20, 21, 22, 23, 24],\n",
        "   [25, 26, 27, 28, 29]],\n",
        "  ])"
      ],
      "metadata": {
        "id": "jo14vNxTqtV4"
      },
      "execution_count": 9,
      "outputs": []
    },
    {
      "cell_type": "code",
      "source": [
        "print(rank_3_tensor)\n"
      ],
      "metadata": {
        "colab": {
          "base_uri": "https://localhost:8080/"
        },
        "id": "b5SaCVFSqxRs",
        "outputId": "d1ea57b0-2df6-40f8-f014-5ec93580a945"
      },
      "execution_count": 10,
      "outputs": [
        {
          "output_type": "stream",
          "name": "stdout",
          "text": [
            "tf.Tensor(\n",
            "[[[ 0  1  2  3  4]\n",
            "  [ 5  6  7  8  9]]\n",
            "\n",
            " [[10 11 12 13 14]\n",
            "  [15 16 17 18 19]]\n",
            "\n",
            " [[20 21 22 23 24]\n",
            "  [25 26 27 28 29]]], shape=(3, 2, 5), dtype=int32)\n"
          ]
        }
      ]
    },
    {
      "cell_type": "code",
      "execution_count": 5,
      "metadata": {
        "colab": {
          "base_uri": "https://localhost:8080/"
        },
        "id": "Uf5N4wFYECia",
        "outputId": "c1399b61-1310-40b3-b426-0f252b9ada93"
      },
      "outputs": [
        {
          "output_type": "execute_result",
          "data": {
            "text/plain": [
              "tfds.core.DatasetInfo(\n",
              "    name='malaria',\n",
              "    full_name='malaria/1.0.0',\n",
              "    description=\"\"\"\n",
              "    The Malaria dataset contains a total of 27,558 cell images with equal instances\n",
              "    of parasitized and uninfected cells from the thin blood smear slide images of\n",
              "    segmented cells.\n",
              "    \"\"\",\n",
              "    homepage='https://lhncbc.nlm.nih.gov/publication/pub9932',\n",
              "    data_dir='/root/tensorflow_datasets/malaria/1.0.0',\n",
              "    file_format=tfrecord,\n",
              "    download_size=337.08 MiB,\n",
              "    dataset_size=317.62 MiB,\n",
              "    features=FeaturesDict({\n",
              "        'image': Image(shape=(None, None, 3), dtype=uint8),\n",
              "        'label': ClassLabel(shape=(), dtype=int64, num_classes=2),\n",
              "    }),\n",
              "    supervised_keys=('image', 'label'),\n",
              "    disable_shuffling=False,\n",
              "    splits={\n",
              "        'train': <SplitInfo num_examples=27558, num_shards=4>,\n",
              "    },\n",
              "    citation=\"\"\"@article{rajaraman2018pre,\n",
              "      title={Pre-trained convolutional neural networks as feature extractors toward\n",
              "      improved malaria parasite detection in thin blood smear images},\n",
              "      author={Rajaraman, Sivaramakrishnan and Antani, Sameer K and Poostchi, Mahdieh\n",
              "      and Silamut, Kamolrat and Hossain, Md A and Maude, Richard J and Jaeger,\n",
              "      Stefan and Thoma, George R},\n",
              "      journal={PeerJ},\n",
              "      volume={6},\n",
              "      pages={e4568},\n",
              "      year={2018},\n",
              "      publisher={PeerJ Inc.}\n",
              "    }\"\"\",\n",
              ")"
            ]
          },
          "metadata": {},
          "execution_count": 5
        }
      ],
      "source": [
        "dataset_info"
      ]
    },
    {
      "cell_type": "code",
      "execution_count": 25,
      "metadata": {
        "id": "OEqsDKQKFL44"
      },
      "outputs": [],
      "source": [
        "def splits(dataset, TRAIN_RATIO, VAL_RATIO, TEST_RATIO):\n",
        "   DATASET_SIZE = len(dataset)\n",
        "   train_dataset = dataset.take(int(TRAIN_RATIO*DATASET_SIZE))\n",
        "   val_test_dataset = dataset.skip(int(TRAIN_RATIO*DATASET_SIZE))\n",
        "   val_dataset = val_test_dataset.take(int(VAL_RATIO*DATASET_SIZE))\n",
        "   test_dataset = val_test_dataset.skip(int(VAL_RATIO*DATASET_SIZE))\n",
        "   return train_dataset, val_dataset, test_dataset"
      ]
    },
    {
      "cell_type": "code",
      "execution_count": 42,
      "metadata": {
        "id": "YLZKVJdaFMjM"
      },
      "outputs": [],
      "source": [
        "TRAIN_RATIO = 0.8\n",
        "VAL_RATIO = 0.1\n",
        "TEST_RATIO = 0.1\n",
        "train_dataset, val_dataset, test_dataset = splits(dataset[0], TRAIN_RATIO, VAL_RATIO, TEST_RATIO )"
      ]
    },
    {
      "cell_type": "code",
      "execution_count": 43,
      "metadata": {
        "colab": {
          "base_uri": "https://localhost:8080/"
        },
        "id": "Ax64bDalHDMQ",
        "outputId": "42c6fb63-1e07-4e29-aac8-de819ba518ea"
      },
      "outputs": [
        {
          "output_type": "execute_result",
          "data": {
            "text/plain": [
              "<_TakeDataset element_spec=(TensorSpec(shape=(None, None, 3), dtype=tf.uint8, name=None), TensorSpec(shape=(), dtype=tf.int64, name=None))>"
            ]
          },
          "metadata": {},
          "execution_count": 43
        }
      ],
      "source": [
        "val_dataset"
      ]
    },
    {
      "cell_type": "code",
      "execution_count": 15,
      "metadata": {
        "id": "dySVMy8gF1MB"
      },
      "outputs": [],
      "source": [
        "#print(list(train_dataset.take(1))[0][0])\n",
        "#print(list(train_dataset.take(1).as_numpy_iterator())[0][0])\n",
        "#as_numpy_iterator() pour l'iterer comme array et non pas trensor\n",
        "# whithout hte list its an object , with the list we will have the continue in the list"
      ]
    },
    {
      "cell_type": "markdown",
      "metadata": {
        "id": "EivSG5ZCIzGm"
      },
      "source": [
        "# **Dataset Visualization :**\n"
      ]
    },
    {
      "cell_type": "code",
      "execution_count": 16,
      "metadata": {
        "id": "tURIWtvvJMUe",
        "outputId": "84593456-0c19-44c4-964a-a0eca800f1ea",
        "colab": {
          "base_uri": "https://localhost:8080/",
          "height": 428
        }
      },
      "outputs": [
        {
          "output_type": "display_data",
          "data": {
            "text/plain": [
              "<Figure size 640x480 with 16 Axes>"
            ],
            "image/png": "[encoded data removed]"
          },
          "metadata": {}
        }
      ],
      "source": [
        "for i, (image, label) in enumerate(train_dataset.take(16)):\n",
        "   ax = plt.subplot(4, 4, i + 1)\n",
        "   plt.imshow(image)\n",
        "   plt.title(dataset_info.features['label'].int2str(label))\n",
        "   plt.axis('off')"
      ]
    },
    {
      "cell_type": "markdown",
      "metadata": {
        "id": "oJzCMarNSPeU"
      },
      "source": [
        "# **Data Preprocessing :**\n"
      ]
    },
    {
      "cell_type": "code",
      "execution_count": 17,
      "metadata": {
        "id": "JF41PkcWMO51"
      },
      "outputs": [],
      "source": [
        "def visualize(original, augmented):\n",
        "  plt.subplot(1,2,1)\n",
        "  plt.imshow(original)\n",
        "  plt.subplot(1,2,2)\n",
        "  plt.imshow(augmented)"
      ]
    },
    {
      "cell_type": "code",
      "execution_count": 18,
      "metadata": {
        "id": "7ABX-843SlM_"
      },
      "outputs": [],
      "source": [
        "original_image, label = next(iter(train_dataset))"
      ]
    },
    {
      "cell_type": "markdown",
      "metadata": {
        "id": "8GbGKJYqYToZ"
      },
      "source": [
        "## **Normalisation : resize and rescale :**"
      ]
    },
    {
      "cell_type": "code",
      "execution_count": 8,
      "metadata": {
        "id": "994_gHZsS4w2"
      },
      "outputs": [],
      "source": [
        "IM_SIZE = 224"
      ]
    },
    {
      "cell_type": "code",
      "execution_count": 36,
      "metadata": {
        "id": "xRoviv1YUiMs"
      },
      "outputs": [],
      "source": [
        "@tf.function\n",
        "def resize_rescale(image, label):\n",
        "  #print(\"I was here\")\n",
        "  #tf.print(\"I was here\")\n",
        "  return tf.image.resize(image, (IM_SIZE, IM_SIZE))/255, label"
      ]
    },
    {
      "cell_type": "code",
      "execution_count": 10,
      "metadata": {
        "id": "4Zz5QPIeWGQP"
      },
      "outputs": [],
      "source": [
        "# tf.keras.layer resizing and rescaling\n",
        "resize_rescale_layers = tf.keras.Sequential([\n",
        "     Resizing(IM_SIZE, IM_SIZE),\n",
        "     Rescaling(1./255),\n",
        "     ])"
      ]
    },
    {
      "cell_type": "markdown",
      "metadata": {
        "id": "MdMSyZw3X_R5"
      },
      "source": [
        "## **Data Augmentation :**\n"
      ]
    },
    {
      "cell_type": "code",
      "execution_count": 11,
      "metadata": {
        "id": "yTODvoigWj0N"
      },
      "outputs": [],
      "source": [
        "### tf.image augment\n",
        "@tf.function\n",
        "def augment(image, label):\n",
        "  image, label = resize_rescale(image, label)\n",
        "\n",
        "  image = tf.image.rot90(image)\n",
        "  image = tf.image.adjust_saturation(image, saturation_factor = 0.3)\n",
        "  image = tf.image.flip_left_right(image)\n",
        "\n",
        "  return image, label"
      ]
    },
    {
      "cell_type": "code",
      "execution_count": 12,
      "metadata": {
        "id": "skEsTs-QYP7_"
      },
      "outputs": [],
      "source": [
        "### with class\n",
        "class RotNinety(Layer):\n",
        "   def __init__(self):\n",
        "    super.__init__()\n",
        "\n",
        "    @tf.function\n",
        "    def call(self ,image):\n",
        "      return tf.image.rot90(image)"
      ]
    },
    {
      "cell_type": "code",
      "execution_count": 13,
      "metadata": {
        "id": "THCOYRNNZy4U"
      },
      "outputs": [],
      "source": [
        "### tf.keras.layer augment\n",
        "augment_layers = tf.keras.Sequential([\n",
        "       RandomRotation(factor = (0.25, 0.2501)),\n",
        "       RandomFlip(mode='horizontal',),\n",
        "       RandomContrast(factor=0.1),\n",
        "])"
      ]
    },
    {
      "cell_type": "code",
      "execution_count": 14,
      "metadata": {
        "id": "BSe_ZWubbXzT"
      },
      "outputs": [],
      "source": [
        "@tf.function\n",
        "def augment_layer(image, label):\n",
        "  return augment_layers(resize_rescale_layers(image), training = True), label"
      ]
    },
    {
      "cell_type": "markdown",
      "metadata": {
        "id": "QV5St_mOlvYJ"
      },
      "source": [
        "### **MIxup Data Augmentation : sommation de deux images**"
      ]
    },
    {
      "cell_type": "code",
      "execution_count": 16,
      "metadata": {
        "id": "1jtvIha4ltKR",
        "outputId": "6e5f7b02-6c21-4640-9b14-992c439eab60",
        "colab": {
          "base_uri": "https://localhost:8080/"
        }
      },
      "outputs": [
        {
          "output_type": "execute_result",
          "data": {
            "text/plain": [
              "<_ZipDataset element_spec=((TensorSpec(shape=(224, 224, 3), dtype=tf.float32, name=None), TensorSpec(shape=(), dtype=tf.int64, name=None)), (TensorSpec(shape=(224, 224, 3), dtype=tf.float32, name=None), TensorSpec(shape=(), dtype=tf.int64, name=None)))>"
            ]
          },
          "metadata": {},
          "execution_count": 16
        }
      ],
      "source": [
        "train_dataset_1 = train_dataset.shuffle(buffer_size = 4096, ).map(resize_rescale, num_parallel_calls = tf.data.AUTOTUNE)\n",
        "train_dataset_2 = train_dataset.shuffle(buffer_size = 4096, ).map(resize_rescale, num_parallel_calls = tf.data.AUTOTUNE)\n",
        "\n",
        "mixed_dataset = tf.data.Dataset.zip((train_dataset_1, train_dataset_2))\n",
        "mixed_dataset"
      ]
    },
    {
      "cell_type": "code",
      "execution_count": 17,
      "metadata": {
        "id": "6jfXCXzGm93D"
      },
      "outputs": [],
      "source": [
        "@tf.function\n",
        "\n",
        "def mixup(train_dataset_1, train_dataset_2):\n",
        "  (image_1,label_1), (image_2, label_2) = train_dataset_1, train_dataset_2\n",
        "\n",
        "  lamda = tfp.distributions.Beta(0.2,0.2)\n",
        "  lamda = lamda.sample(1)[0]\n",
        "\n",
        "  image = lamda*image_1 + (1-lamda)*image_2\n",
        "  label = lamda*tf.cast(label_1, dtype = tf.float32) + (1-lamda)*tf.cast(label_2, dtype = tf.float32)\n",
        "  return image, label"
      ]
    },
    {
      "cell_type": "code",
      "execution_count": 18,
      "metadata": {
        "id": "s5EwhyAedISY"
      },
      "outputs": [],
      "source": [
        "train_dataset = (\n",
        "     mixed_dataset\n",
        "    .shuffle(buffer_size = 4096, reshuffle_each_iteration = True)\n",
        "    .map(mixup)\n",
        ")"
      ]
    },
    {
      "cell_type": "code",
      "execution_count": 19,
      "metadata": {
        "colab": {
          "base_uri": "https://localhost:8080/",
          "height": 435
        },
        "id": "KuiidwCX2GD4",
        "outputId": "9512a808-8591-4479-a8c4-52e1449bf7e3"
      },
      "outputs": [
        {
          "output_type": "display_data",
          "data": {
            "text/plain": [
              "<Figure size 640x480 with 9 Axes>"
            ],
            "image/png": "[encoded data removed]"
          },
          "metadata": {}
        }
      ],
      "source": [
        "for i , (a,b) in enumerate(train_dataset.take(9)):\n",
        "  ax = plt.subplot( 3  , 3 , i +1 )\n",
        "  plt.imshow(a)"
      ]
    },
    {
      "cell_type": "markdown",
      "metadata": {
        "id": "-DyHvdi6Tbi6"
      },
      "source": [
        "### CutMix Data *Augmentation* : metter des images sur des autres:"
      ]
    },
    {
      "cell_type": "code",
      "execution_count": 20,
      "metadata": {
        "id": "u-OMQEAPdISY"
      },
      "outputs": [],
      "source": [
        "train_dataset_1 = train_dataset.shuffle(buffer_size = 4096, )\n",
        "train_dataset_2 = train_dataset.shuffle(buffer_size = 4096, )\n",
        "\n",
        "mixed_dataset = tf.data.Dataset.zip((train_dataset_1, train_dataset_2))"
      ]
    },
    {
      "cell_type": "code",
      "execution_count": 21,
      "metadata": {
        "id": "tpCXhZXDTcrF"
      },
      "outputs": [],
      "source": [
        "def box(lamda):\n",
        "\n",
        "  r_x = tf.cast(tfp.distributions.Uniform(0, IM_SIZE).sample(1)[0], dtype = tf.int32)\n",
        "  r_y = tf.cast(tfp.distributions.Uniform(0, IM_SIZE).sample(1)[0], dtype = tf.int32)\n",
        "\n",
        "  r_w = tf.cast(IM_SIZE*tf.math.sqrt(1-lamda), dtype = tf.int32)\n",
        "  r_h = tf.cast(IM_SIZE*tf.math.sqrt(1-lamda), dtype = tf.int32)\n",
        "\n",
        "  r_x = tf.clip_by_value(r_x - r_w//2, 0, IM_SIZE)\n",
        "  r_y = tf.clip_by_value(r_y - r_h//2, 0, IM_SIZE)\n",
        "\n",
        "  x_b_r = tf.clip_by_value(r_x + r_w//2, 0, IM_SIZE)\n",
        "  y_b_r = tf.clip_by_value(r_y + r_h//2, 0, IM_SIZE)\n",
        "\n",
        "  r_w = x_b_r - r_x\n",
        "  if(r_w == 0):\n",
        "    r_w  = 1\n",
        "\n",
        "  r_h = y_b_r - r_y\n",
        "  if(r_h == 0):\n",
        "    r_h = 1\n",
        "\n",
        "  return r_y, r_x, r_h, r_w"
      ]
    },
    {
      "cell_type": "code",
      "execution_count": 22,
      "metadata": {
        "id": "hyYElXtcTfZt"
      },
      "outputs": [],
      "source": [
        "def cutmix(train_dataset_1, train_dataset_2):\n",
        "  (image_1,label_1), (image_2, label_2) = train_dataset_1, train_dataset_2\n",
        "\n",
        "  lamda = tfp.distributions.Beta(0.2,0.2)\n",
        "  lamda = lamda.sample(1)[0]\n",
        "\n",
        "  r_y, r_x, r_h, r_w = box(lamda)\n",
        "  crop_2 = tf.image.crop_to_bounding_box(image_2, r_y, r_x, r_h, r_w)\n",
        "  pad_2 = tf.image.pad_to_bounding_box(crop_2, r_y, r_x, IM_SIZE, IM_SIZE)\n",
        "\n",
        "  crop_1 = tf.image.crop_to_bounding_box(image_1, r_y, r_x, r_h, r_w)\n",
        "  pad_1 = tf.image.pad_to_bounding_box(crop_1, r_y, r_x, IM_SIZE, IM_SIZE)\n",
        "\n",
        "  image = image_1 - pad_1 + pad_2\n",
        "\n",
        "  lamda = tf.cast(1- (r_w*r_h)/(IM_SIZE*IM_SIZE), dtype = tf.float32)\n",
        "  label = lamda*tf.cast(label_1, dtype = tf.float32) + (1-lamda)*tf.cast(label_2, dtype = tf.float32)\n",
        "\n",
        "  return image, label"
      ]
    },
    {
      "cell_type": "code",
      "execution_count": 23,
      "metadata": {
        "id": "CqLPVzfrdISY"
      },
      "outputs": [],
      "source": [
        "BATCH_SIZE = 32\n",
        "train_dataset = (\n",
        "     mixed_dataset\n",
        "    .shuffle(buffer_size = 4096, reshuffle_each_iteration = True)\n",
        "    .map(cutmix, num_parallel_calls = tf.data.AUTOTUNE)\n",
        "    .batch(BATCH_SIZE)\n",
        "    .prefetch(tf.data.AUTOTUNE)\n",
        ")"
      ]
    },
    {
      "cell_type": "code",
      "execution_count": null,
      "metadata": {
        "id": "8mwVY3pidISY"
      },
      "outputs": [],
      "source": [
        "for i , (a,b) in enumerate(train_dataset.take(9)):\n",
        "  ax = plt.subplot( 3  , 3 , i +1 )\n",
        "  plt.imshow(a[0])"
      ]
    },
    {
      "cell_type": "markdown",
      "metadata": {
        "id": "blnD6X16fQpC"
      },
      "source": [
        "### **Albumentation :**"
      ]
    },
    {
      "cell_type": "code",
      "execution_count": null,
      "metadata": {
        "id": "fqtj6Y1efQWs"
      },
      "outputs": [],
      "source": [
        "!pip install -U git+https://github.com/albu/albumentations --no-cache-dir"
      ]
    },
    {
      "cell_type": "code",
      "execution_count": null,
      "metadata": {
        "id": "L4jrDxzbgP_I"
      },
      "outputs": [],
      "source": []
    },
    {
      "cell_type": "code",
      "execution_count": null,
      "metadata": {
        "id": "ioCgmYnofQaM"
      },
      "outputs": [],
      "source": [
        "transforms = A.Compose([\n",
        "      A.Resize(IM_SIZE, IM_SIZE),\n",
        "\n",
        "      A.OneOf([A.HorizontalFlip(),\n",
        "                A.VerticalFlip(),], p = 0.3),\n",
        "\n",
        "      A.RandomRotate90(),\n",
        "      #A.RandomGridShuffle(grid=(3, 3), always_apply=False, p=0.5),\n",
        "      A.RandomBrightnessContrast(brightness_limit=0.2,\n",
        "                                contrast_limit=0.2,\n",
        "                                always_apply=False, p=0.5),\n",
        "      #A.Cutout(num_holes=8, max_h_size=8, max_w_size=8, fill_value=0, always_apply=False, p=0.5),\n",
        "      A.Sharpen(alpha=(0.2, 0.5), lightness=(0.5, 1.0), always_apply=False, p=0.5),\n",
        "])"
      ]
    },
    {
      "cell_type": "code",
      "execution_count": null,
      "metadata": {
        "id": "Qbxm85Mlga8E"
      },
      "outputs": [],
      "source": [
        "def aug_albument(image):\n",
        "  data = {\"image\":image}\n",
        "  image = transforms(**data)\n",
        "  image = image[\"image\"]\n",
        "  image = tf.cast(image/255., tf.float32)\n",
        "  return image"
      ]
    },
    {
      "cell_type": "code",
      "execution_count": null,
      "metadata": {
        "id": "Djy2Fkc8gnSM"
      },
      "outputs": [],
      "source": [
        "def process_data(image, label):\n",
        "    aug_img = tf.numpy_function(func=aug_albument, inp=[image], Tout=tf.float32)\n",
        "    aug_img.set_shape((IM_SIZE, IM_SIZE, 3))\n",
        "    return aug_img, label"
      ]
    },
    {
      "cell_type": "code",
      "execution_count": null,
      "metadata": {
        "id": "5JI7riJvgptn"
      },
      "outputs": [],
      "source": [
        "train_dataset = train_dataset.map(process_data)"
      ]
    },
    {
      "cell_type": "code",
      "execution_count": null,
      "metadata": {
        "id": "lqXaygKa_ti3"
      },
      "outputs": [],
      "source": [
        "for i in train_dataset.take(1):\n",
        "  print(i)\n",
        "  break"
      ]
    },
    {
      "cell_type": "code",
      "execution_count": null,
      "metadata": {
        "id": "tbCph5-_1j1F"
      },
      "outputs": [],
      "source": [
        "#for i , (a,b) in enumerate(train_dataset.take(9)):\n",
        "  ax = plt.subplot(3  ,3 ,i +1)\n",
        "  plt.imshow(a)"
      ]
    },
    {
      "cell_type": "code",
      "execution_count": null,
      "metadata": {
        "id": "sRTE8c0XBTD4"
      },
      "outputs": [],
      "source": [
        "train_dataset"
      ]
    },
    {
      "cell_type": "code",
      "execution_count": null,
      "metadata": {
        "id": "PfW1pWXBBUDh"
      },
      "outputs": [],
      "source": [
        "train_dataset.take(1)"
      ]
    },
    {
      "cell_type": "code",
      "execution_count": null,
      "metadata": {
        "id": "CA6N_FtUDC6X"
      },
      "outputs": [],
      "source": []
    },
    {
      "cell_type": "markdown",
      "metadata": {
        "id": "J6X9dHLrKAGN"
      },
      "source": []
    },
    {
      "cell_type": "markdown",
      "metadata": {
        "id": "1LI7HiUVKAOd"
      },
      "source": []
    },
    {
      "cell_type": "markdown",
      "metadata": {
        "id": "3SKfgwQfDFqA"
      },
      "source": [
        "### **Repeating the dataset (x5)**"
      ]
    },
    {
      "cell_type": "code",
      "execution_count": null,
      "metadata": {
        "id": "NgIqlrgWDXQG"
      },
      "outputs": [],
      "source": [
        "def augment_1(image, label):\n",
        "  image, label = resize_rescale(image, label)\n",
        "\n",
        "  image = tf.image.random_brightness(image, 0.2)\n",
        "  return image, label"
      ]
    },
    {
      "cell_type": "code",
      "execution_count": null,
      "metadata": {
        "id": "fIpPb-KWERrq"
      },
      "outputs": [],
      "source": [
        "def augment_2(image, label):\n",
        "  image, label = resize_rescale(image, label)\n",
        "\n",
        "  image = tf.image.random_flip_up_down(image)\n",
        "  return image, label"
      ]
    },
    {
      "cell_type": "code",
      "execution_count": null,
      "metadata": {
        "id": "fkc8ZJFiESPt"
      },
      "outputs": [],
      "source": [
        "def augment_3(image, label):\n",
        "  image, label = resize_rescale(image, label)\n",
        "\n",
        "  image = tf.image.flip_left_right(image)\n",
        "  return image, label"
      ]
    },
    {
      "cell_type": "code",
      "execution_count": null,
      "metadata": {
        "id": "R1RoYJbZEWMY"
      },
      "outputs": [],
      "source": [
        "def augment_4(image, label):\n",
        "  image, label = resize_rescale(image, label)\n",
        "\n",
        "  image = tf.image.rot90(image)\n",
        "  return image, label"
      ]
    },
    {
      "cell_type": "code",
      "execution_count": null,
      "metadata": {
        "id": "3s8pZ6wXEWWV"
      },
      "outputs": [],
      "source": [
        "def augment_5(image, label):\n",
        "  image, label = resize_rescale(image, label)\n",
        "\n",
        "  return image, label"
      ]
    },
    {
      "cell_type": "code",
      "execution_count": null,
      "metadata": {
        "id": "YOMz50E-EiGQ"
      },
      "outputs": [],
      "source": [
        "train_dataset_1 = (\n",
        "    train_dataset\n",
        "    .shuffle(buffer_size = 1024, reshuffle_each_iteration = True)\n",
        "    .map(augment_1)\n",
        ")"
      ]
    },
    {
      "cell_type": "code",
      "execution_count": null,
      "metadata": {
        "id": "94jcFeTMEkdp"
      },
      "outputs": [],
      "source": [
        "train_dataset_2 = (\n",
        "    train_dataset\n",
        "    .shuffle(buffer_size = 1024, reshuffle_each_iteration = True)\n",
        "    .map(augment_2)\n",
        ")"
      ]
    },
    {
      "cell_type": "code",
      "execution_count": null,
      "metadata": {
        "id": "Sd_am0QmIt07"
      },
      "outputs": [],
      "source": [
        "train_dataset_3 = (\n",
        "    train_dataset\n",
        "    .shuffle(buffer_size = 1024, reshuffle_each_iteration = True)\n",
        "    .map(augment_3)\n",
        ")"
      ]
    },
    {
      "cell_type": "code",
      "execution_count": null,
      "metadata": {
        "id": "vZyIG9xmItg7"
      },
      "outputs": [],
      "source": [
        "train_dataset_4 = (\n",
        "    train_dataset\n",
        "    .shuffle(buffer_size = 1024, reshuffle_each_iteration = True)\n",
        "    .map(augment_4)\n",
        ")"
      ]
    },
    {
      "cell_type": "code",
      "execution_count": null,
      "metadata": {
        "id": "nC5NXMkzIs2d"
      },
      "outputs": [],
      "source": [
        "train_dataset_5 = (\n",
        "    train_dataset\n",
        "    .shuffle(buffer_size = 1024, reshuffle_each_iteration = True)\n",
        "    .map(augment_5)\n",
        ")"
      ]
    },
    {
      "cell_type": "code",
      "execution_count": null,
      "metadata": {
        "id": "27-wY_01Hc6d"
      },
      "outputs": [],
      "source": [
        "full_dataset = train_dataset_1.concatenate(train_dataset_2).concatenate(train_dataset_3).concatenate(train_dataset_4).concatenate(train_dataset_5)"
      ]
    },
    {
      "cell_type": "code",
      "execution_count": null,
      "metadata": {
        "colab": {
          "base_uri": "https://localhost:8080/"
        },
        "id": "_wjgple3HmzS",
        "outputId": "242fbb4a-a1da-4cc2-95d8-7421e967c8ee"
      },
      "outputs": [
        {
          "data": {
            "text/plain": [
              "<_ConcatenateDataset element_spec=(TensorSpec(shape=(None, 224, 224, 3), dtype=tf.float32, name=None), TensorSpec(shape=(None,), dtype=tf.float32, name=None))>"
            ]
          },
          "execution_count": 44,
          "metadata": {},
          "output_type": "execute_result"
        }
      ],
      "source": [
        "full_dataset"
      ]
    },
    {
      "cell_type": "code",
      "execution_count": null,
      "metadata": {
        "id": "ifkdkFH6I30-"
      },
      "outputs": [],
      "source": [
        "full_dataset = (\n",
        "    full_dataset\n",
        "    .shuffle(buffer_size = 1024, reshuffle_each_iteration = True)\n",
        "    .batch(BATCH_SIZE)\n",
        "    .prefetch(tf.data.AUTOTUNE)\n",
        ")"
      ]
    },
    {
      "cell_type": "code",
      "execution_count": null,
      "metadata": {
        "id": "_Epx-y21I-MB"
      },
      "outputs": [],
      "source": []
    },
    {
      "cell_type": "markdown",
      "metadata": {
        "id": "GH8SFQ0EKCis"
      },
      "source": []
    },
    {
      "cell_type": "markdown",
      "metadata": {
        "id": "c-MtyvsXl1uI"
      },
      "source": [
        "# MODELING  :"
      ]
    },
    {
      "cell_type": "code",
      "execution_count": 23,
      "metadata": {
        "id": "VTUzm-7Byvec"
      },
      "outputs": [],
      "source": [
        "CONFIGURATION = {\n",
        "  \"LEARNING_RATE\": 0.001,\n",
        "  \"N_EPOCHS\": 3,\n",
        "  \"BATCH_SIZE\": 32,\n",
        "  \"DROPOUT_RATE\": 0.0,\n",
        "  \"IM_SIZE\": 224,\n",
        "  \"REGULARIZATION_RATE\": 0.0,\n",
        "  \"N_FILTERS\": 6,\n",
        "  \"KERNEL_SIZE\": 3,\n",
        "  \"N_STRIDES\": 1,\n",
        "  \"POOL_SIZE\": 2,\n",
        "  \"N_DENSE_1\": 20,\n",
        "  \"N_DENSE_2\": 5,\n",
        "}\n",
        "\n",
        "IM_SIZE = CONFIGURATION['IM_SIZE']\n",
        "DROPOUT_RATE = CONFIGURATION['DROPOUT_RATE']\n",
        "REGULARIZATION_RATE = CONFIGURATION['REGULARIZATION_RATE']\n",
        "N_FILTERS = CONFIGURATION['N_FILTERS']\n",
        "KERNEL_SIZE = CONFIGURATION['KERNEL_SIZE']\n",
        "POOL_SIZE = CONFIGURATION['POOL_SIZE']\n",
        "N_STRIDES = CONFIGURATION['N_STRIDES']"
      ]
    },
    {
      "cell_type": "code",
      "execution_count": 24,
      "metadata": {
        "colab": {
          "base_uri": "https://localhost:8080/"
        },
        "id": "fJuxc9HDyZqG",
        "outputId": "615ff80b-5b14-4609-f315-dabd2df1e2e6"
      },
      "outputs": [
        {
          "output_type": "stream",
          "name": "stdout",
          "text": [
            "Model: \"sequential\"\n",
            "_________________________________________________________________\n",
            " Layer (type)                Output Shape              Param #   \n",
            "=================================================================\n",
            " conv2d (Conv2D)             (None, 222, 222, 6)       168       \n",
            "                                                                 \n",
            " batch_normalization (Batch  (None, 222, 222, 6)       24        \n",
            " Normalization)                                                  \n",
            "                                                                 \n",
            " max_pooling2d (MaxPooling2  (None, 111, 111, 6)       0         \n",
            " D)                                                              \n",
            "                                                                 \n",
            " dropout (Dropout)           (None, 111, 111, 6)       0         \n",
            "                                                                 \n",
            " conv2d_1 (Conv2D)           (None, 109, 109, 16)      880       \n",
            "                                                                 \n",
            " batch_normalization_1 (Bat  (None, 109, 109, 16)      64        \n",
            " chNormalization)                                                \n",
            "                                                                 \n",
            " max_pooling2d_1 (MaxPoolin  (None, 54, 54, 16)        0         \n",
            " g2D)                                                            \n",
            "                                                                 \n",
            " flatten (Flatten)           (None, 46656)             0         \n",
            "                                                                 \n",
            " dense (Dense)               (None, 20)                933140    \n",
            "                                                                 \n",
            " batch_normalization_2 (Bat  (None, 20)                80        \n",
            " chNormalization)                                                \n",
            "                                                                 \n",
            " dense_1 (Dense)             (None, 5)                 105       \n",
            "                                                                 \n",
            " batch_normalization_3 (Bat  (None, 5)                 20        \n",
            " chNormalization)                                                \n",
            "                                                                 \n",
            " dense_2 (Dense)             (None, 1)                 6         \n",
            "                                                                 \n",
            "=================================================================\n",
            "Total params: 934487 (3.56 MB)\n",
            "Trainable params: 934393 (3.56 MB)\n",
            "Non-trainable params: 94 (376.00 Byte)\n",
            "_________________________________________________________________\n"
          ]
        }
      ],
      "source": [
        "###https://poloclub.github.io/cnn-explainer/\n",
        "seq_model = tf.keras.Sequential([\n",
        "    InputLayer(input_shape = (IM_SIZE, IM_SIZE, 3)),\n",
        "\n",
        "    Conv2D(filters = N_FILTERS ,\n",
        "          kernel_size = KERNEL_SIZE,\n",
        "          strides = N_STRIDES ,\n",
        "          padding='valid',\n",
        "          activation = 'relu',\n",
        "          kernel_regularizer = L2(REGULARIZATION_RATE)),\n",
        "\n",
        "    BatchNormalization(),\n",
        "\n",
        "    MaxPool2D(pool_size = POOL_SIZE,\n",
        "              strides= N_STRIDES*2),\n",
        "              Dropout(rate = DROPOUT_RATE ),\n",
        "\n",
        "    Conv2D(filters = N_FILTERS*2 + 4,\n",
        "           kernel_size = KERNEL_SIZE,\n",
        "           strides=N_STRIDES,\n",
        "           padding='valid',\n",
        "           activation = 'relu',\n",
        "           kernel_regularizer = L2(REGULARIZATION_RATE)),\n",
        "\n",
        "    BatchNormalization(),\n",
        "\n",
        "    MaxPool2D (pool_size = POOL_SIZE,\n",
        "               strides= N_STRIDES*2),\n",
        "\n",
        "    Flatten(),\n",
        "\n",
        "    Dense( CONFIGURATION['N_DENSE_1'],\n",
        "          activation = \"relu\",\n",
        "           kernel_regularizer = L2(REGULARIZATION_RATE)),\n",
        "\n",
        "    BatchNormalization(),\n",
        "\n",
        "\n",
        "    Dense( CONFIGURATION['N_DENSE_2'],\n",
        "          activation = \"relu\",\n",
        "          kernel_regularizer = L2(REGULARIZATION_RATE)),\n",
        "\n",
        "    BatchNormalization(),\n",
        "\n",
        "    Dense(1, activation = \"sigmoid\"),\n",
        "\n",
        "])\n",
        "\n",
        "seq_model.summary()"
      ]
    },
    {
      "cell_type": "code",
      "execution_count": null,
      "metadata": {
        "colab": {
          "base_uri": "https://localhost:8080/"
        },
        "id": "qd4bwSWuKpad",
        "outputId": "46063fac-5ffe-4c1b-8e34-32458a10ebb7"
      },
      "outputs": [
        {
          "name": "stdout",
          "output_type": "stream",
          "text": [
            "Model: \"sequential_3\"\n",
            "_________________________________________________________________\n",
            " Layer (type)                Output Shape              Param #   \n",
            "=================================================================\n",
            " conv2d_2 (Conv2D)           (None, 222, 222, 6)       168       \n",
            "                                                                 \n",
            " batch_normalization_4 (Bat  (None, 222, 222, 6)       24        \n",
            " chNormalization)                                                \n",
            "                                                                 \n",
            " max_pooling2d_2 (MaxPoolin  (None, 111, 111, 6)       0         \n",
            " g2D)                                                            \n",
            "                                                                 \n",
            " conv2d_3 (Conv2D)           (None, 109, 109, 16)      880       \n",
            "                                                                 \n",
            " batch_normalization_5 (Bat  (None, 109, 109, 16)      64        \n",
            " chNormalization)                                                \n",
            "                                                                 \n",
            " max_pooling2d_3 (MaxPoolin  (None, 54, 54, 16)        0         \n",
            " g2D)                                                            \n",
            "                                                                 \n",
            "=================================================================\n",
            "Total params: 1136 (4.44 KB)\n",
            "Trainable params: 1092 (4.27 KB)\n",
            "Non-trainable params: 44 (176.00 Byte)\n",
            "_________________________________________________________________\n"
          ]
        }
      ],
      "source": [
        "feature_extractor_seq_model = tf.keras.Sequential([\n",
        "                             InputLayer(input_shape = (IM_SIZE, IM_SIZE, 3)),\n",
        "\n",
        "                             Conv2D(filters = 6, kernel_size = 3, strides=1, padding='valid', activation = 'relu'),\n",
        "                             BatchNormalization(),\n",
        "                             MaxPool2D (pool_size = 2, strides= 2),\n",
        "\n",
        "                             Conv2D(filters = 16, kernel_size = 3, strides=1, padding='valid', activation = 'relu'),\n",
        "                             BatchNormalization(),\n",
        "                             MaxPool2D (pool_size = 2, strides= 2),])\n",
        "\n",
        "feature_extractor_seq_model.summary()"
      ]
    },
    {
      "cell_type": "markdown",
      "metadata": {
        "id": "K_LhczayOUdH"
      },
      "source": [
        "# **Model Subclassing**"
      ]
    },
    {
      "cell_type": "code",
      "execution_count": null,
      "metadata": {
        "id": "P09GiwYWLsTG"
      },
      "outputs": [],
      "source": [
        "class FeatureExtractor(Layer):\n",
        "  def __init__(self, filters, kernel_size, strides, padding, activation, pool_size,):\n",
        "    super(FeatureExtractor, self).__init__()\n",
        "\n",
        "    self.conv_1 = Conv2D(filters = filters, kernel_size = kernel_size, strides = strides, padding = padding, activation = activation)\n",
        "    self.batch_1 = BatchNormalization()\n",
        "    self.pool_1 = MaxPool2D (pool_size = pool_size, strides= 2*strides)\n",
        "\n",
        "    self.conv_2 = Conv2D(filters = filters*2, kernel_size = kernel_size, strides = strides, padding = padding, activation = activation)\n",
        "    self.batch_2 = BatchNormalization()\n",
        "    self.pool_2 = MaxPool2D (pool_size = pool_size, strides= 2*strides)\n",
        "\n",
        "  def call(self, x, training):\n",
        "\n",
        "    x = self.conv_1(x)\n",
        "    x = self.batch_1(x)\n",
        "    x = self.pool_1(x)\n",
        "\n",
        "    x = self.conv_2(x)\n",
        "    x = self.batch_2(x)\n",
        "    x = self.pool_2(x)\n",
        "\n",
        "    return x\n",
        "\n",
        "feature_sub_classed = FeatureExtractor(8, 3, 1, \"valid\", \"relu\", 2)"
      ]
    },
    {
      "cell_type": "markdown",
      "metadata": {
        "id": "WyZFq4Q3KF0I"
      },
      "source": [
        "# **Functional API:**"
      ]
    },
    {
      "cell_type": "code",
      "execution_count": null,
      "metadata": {
        "colab": {
          "base_uri": "https://localhost:8080/"
        },
        "id": "J5bD1Hp_McJF",
        "outputId": "de791f3e-8fcd-4692-e8b2-bec53a961832"
      },
      "outputs": [
        {
          "name": "stdout",
          "output_type": "stream",
          "text": [
            "Model: \"func_model\"\n",
            "_________________________________________________________________\n",
            " Layer (type)                Output Shape              Param #   \n",
            "=================================================================\n",
            " Input Image (InputLayer)    [(None, 224, 224, 3)]     0         \n",
            "                                                                 \n",
            " sequential_3 (Sequential)   (None, 54, 54, 16)        1136      \n",
            "                                                                 \n",
            " flatten_1 (Flatten)         (None, 46656)             0         \n",
            "                                                                 \n",
            " dense_3 (Dense)             (None, 120)               5598840   \n",
            "                                                                 \n",
            " batch_normalization_8 (Bat  (None, 120)               480       \n",
            " chNormalization)                                                \n",
            "                                                                 \n",
            " dense_4 (Dense)             (None, 84)                10164     \n",
            "                                                                 \n",
            " batch_normalization_9 (Bat  (None, 84)                336       \n",
            " chNormalization)                                                \n",
            "                                                                 \n",
            " dense_5 (Dense)             (None, 1)                 85        \n",
            "                                                                 \n",
            "=================================================================\n",
            "Total params: 5611041 (21.40 MB)\n",
            "Trainable params: 5610589 (21.40 MB)\n",
            "Non-trainable params: 452 (1.77 KB)\n",
            "_________________________________________________________________\n"
          ]
        }
      ],
      "source": [
        "func_input = Input(shape = (IM_SIZE, IM_SIZE, 3), name = \"Input Image\")\n",
        "\n",
        "x = feature_extractor_seq_model(func_input)\n",
        "#x = feature_sub_classed(func_input) # with the subclass method\n",
        "\n",
        "\n",
        "x = Flatten()(x)\n",
        "\n",
        "x = Dense(120, activation = \"relu\")(x)\n",
        "x = BatchNormalization()(x)\n",
        "\n",
        "x = Dense(84, activation = \"relu\")(x)\n",
        "x = BatchNormalization()(x)\n",
        "\n",
        "func_output = Dense(1, activation = \"sigmoid\")(x)\n",
        "\n",
        "func_model = Model(func_input, func_output, name = \"func_model\")\n",
        "func_model.summary()"
      ]
    },
    {
      "cell_type": "code",
      "execution_count": null,
      "metadata": {
        "colab": {
          "base_uri": "https://localhost:8080/"
        },
        "id": "c2BeRNbwQDPS",
        "outputId": "c8cf358c-d50f-420e-dafd-74f297390ca2"
      },
      "outputs": [
        {
          "name": "stdout",
          "output_type": "stream",
          "text": [
            "Model: \"class_model\"\n",
            "_________________________________________________________________\n",
            " Layer (type)                Output Shape              Param #   \n",
            "=================================================================\n",
            " feature_extractor_1 (Featu  multiple                  1488      \n",
            " reExtractor)                                                    \n",
            "                                                                 \n",
            " flatten_2 (Flatten)         multiple                  0         \n",
            "                                                                 \n",
            " dense_6 (Dense)             multiple                  4665700   \n",
            "                                                                 \n",
            " batch_normalization_12 (Ba  multiple                  400       \n",
            " tchNormalization)                                               \n",
            "                                                                 \n",
            " dense_7 (Dense)             multiple                  1010      \n",
            "                                                                 \n",
            " batch_normalization_13 (Ba  multiple                  40        \n",
            " tchNormalization)                                               \n",
            "                                                                 \n",
            " dense_8 (Dense)             multiple                  11        \n",
            "                                                                 \n",
            "=================================================================\n",
            "Total params: 4668649 (17.81 MB)\n",
            "Trainable params: 4668381 (17.81 MB)\n",
            "Non-trainable params: 268 (1.05 KB)\n",
            "_________________________________________________________________\n"
          ]
        }
      ],
      "source": [
        "class ClassModel(Model):\n",
        "  def __init__(self):\n",
        "    super(ClassModel, self).__init__()\n",
        "\n",
        "    self.feature_extractor = FeatureExtractor(8, 3, 1, \"valid\", \"relu\", 2)\n",
        "\n",
        "    self.flatten = Flatten()\n",
        "\n",
        "    self.dense_1 = Dense(100, activation = \"relu\")\n",
        "    self.batch_1 = BatchNormalization()\n",
        "\n",
        "    self.dense_2 = Dense(10, activation = \"relu\")\n",
        "    self.batch_2 = BatchNormalization()\n",
        "\n",
        "    self.dense_3 = Dense(1, activation = \"sigmoid\")\n",
        "\n",
        "  def call(self, x, training):\n",
        "\n",
        "    x = self.feature_extractor(x)\n",
        "    x = self.flatten(x)\n",
        "    x = self.dense_1(x)\n",
        "    x = self.batch_1(x)\n",
        "    x = self.dense_2(x)\n",
        "    x = self.batch_2(x)\n",
        "    x = self.dense_3(x)\n",
        "\n",
        "    return x\n",
        "\n",
        "sub_classed_model = ClassModel()\n",
        "sub_classed_model(tf.zeros([1,224,224,3])) #initilaisation du model ::::: construction du modole\n",
        "sub_classed_model.summary()"
      ]
    },
    {
      "cell_type": "markdown",
      "metadata": {
        "id": "6rRvGIOXRnEq"
      },
      "source": [
        "# **Customisation**"
      ]
    },
    {
      "cell_type": "markdown",
      "metadata": {
        "id": "hqe_EMOSsJk9"
      },
      "source": [
        "## Layer :"
      ]
    },
    {
      "cell_type": "code",
      "execution_count": null,
      "metadata": {
        "id": "hIxtoQ7-RpH6"
      },
      "outputs": [],
      "source": [
        "class CusomDense(Layer):\n",
        "  def __init__(self, output_units, activation):\n",
        "    super(CusomDense, self).__init__()\n",
        "    self.output_units = output_units\n",
        "    self.activation = activation\n",
        "\n",
        "  def build(self, input_features_shape):\n",
        "    self.w = self.add_weight(shape = (input_features_shape[-1], self.output_units), initializer = \"random_normal\",)\n",
        "    self.b = self.add_weight(shape = (self.output_units,), initializer = \"random_normal\", )\n",
        "\n",
        "  def call(self, input_features):\n",
        "\n",
        "    pre_output = tf.matmul(input_features, self.w) + self.b\n",
        "\n",
        "    if(self.activation == \"relu\"):\n",
        "      return tf.nn.relu(pre_output)\n",
        "\n",
        "    elif(self.activation == \"sigmoid\"):\n",
        "      return tf.math.sigmoid(pre_output)\n",
        "\n",
        "    else:\n",
        "      return pre_output"
      ]
    },
    {
      "cell_type": "markdown",
      "metadata": {
        "id": "CdliCqmhsIc7"
      },
      "source": [
        "## model"
      ]
    },
    {
      "cell_type": "code",
      "execution_count": null,
      "metadata": {
        "colab": {
          "base_uri": "https://localhost:8080/"
        },
        "id": "63042wp_VV-C",
        "outputId": "5b1a7159-f3ad-4c36-a7b1-c0573a4c0e6c"
      },
      "outputs": [
        {
          "name": "stdout",
          "output_type": "stream",
          "text": [
            "Model: \"sequential_4\"\n",
            "_________________________________________________________________\n",
            " Layer (type)                Output Shape              Param #   \n",
            "=================================================================\n",
            " conv2d_8 (Conv2D)           (None, 222, 222, 6)       168       \n",
            "                                                                 \n",
            " batch_normalization_14 (Ba  (None, 222, 222, 6)       24        \n",
            " tchNormalization)                                               \n",
            "                                                                 \n",
            " max_pooling2d_8 (MaxPoolin  (None, 111, 111, 6)       0         \n",
            " g2D)                                                            \n",
            "                                                                 \n",
            " conv2d_9 (Conv2D)           (None, 109, 109, 16)      880       \n",
            "                                                                 \n",
            " batch_normalization_15 (Ba  (None, 109, 109, 16)      64        \n",
            " tchNormalization)                                               \n",
            "                                                                 \n",
            " max_pooling2d_9 (MaxPoolin  (None, 54, 54, 16)        0         \n",
            " g2D)                                                            \n",
            "                                                                 \n",
            " flatten_3 (Flatten)         (None, 46656)             0         \n",
            "                                                                 \n",
            " cusom_dense (CusomDense)    (None, 100)               4665700   \n",
            "                                                                 \n",
            " batch_normalization_16 (Ba  (None, 100)               400       \n",
            " tchNormalization)                                               \n",
            "                                                                 \n",
            " cusom_dense_1 (CusomDense)  (None, 10)                1010      \n",
            "                                                                 \n",
            " batch_normalization_17 (Ba  (None, 10)                40        \n",
            " tchNormalization)                                               \n",
            "                                                                 \n",
            " cusom_dense_2 (CusomDense)  (None, 1)                 11        \n",
            "                                                                 \n",
            "=================================================================\n",
            "Total params: 4668297 (17.81 MB)\n",
            "Trainable params: 4668033 (17.81 MB)\n",
            "Non-trainable params: 264 (1.03 KB)\n",
            "_________________________________________________________________\n"
          ]
        }
      ],
      "source": [
        "IM_SIZE = 224\n",
        "custom_seq_model = tf.keras.Sequential([\n",
        "                             InputLayer(input_shape = (IM_SIZE, IM_SIZE, 3)),\n",
        "\n",
        "                             Conv2D(filters = 6, kernel_size = 3, strides=1, padding='valid', activation = 'relu'),\n",
        "                             BatchNormalization(),\n",
        "                             MaxPool2D (pool_size = 2, strides= 2),\n",
        "\n",
        "                             Conv2D(filters = 16, kernel_size = 3, strides=1, padding='valid', activation = 'relu'),\n",
        "                             BatchNormalization(),\n",
        "                             MaxPool2D (pool_size = 2, strides= 2),\n",
        "\n",
        "                             Flatten(),\n",
        "\n",
        "                             CusomDense(100, activation = \"relu\"),\n",
        "                             BatchNormalization(),\n",
        "\n",
        "                             CusomDense(10, activation = \"relu\"),\n",
        "                             BatchNormalization(),\n",
        "\n",
        "                             CusomDense(1, activation = \"sigmoid\"),\n",
        "\n",
        "])\n",
        "custom_seq_model.summary()"
      ]
    },
    {
      "cell_type": "markdown",
      "metadata": {
        "id": "exE0nUoO_AY_"
      },
      "source": [
        "## Loss Class"
      ]
    },
    {
      "cell_type": "code",
      "execution_count": null,
      "metadata": {
        "id": "LZHD2EQH_Bb8"
      },
      "outputs": [],
      "source": [
        "class CustomBCE(Loss):\n",
        "  def __init__(self, FACTOR):\n",
        "    super(CustomBCE, self).__init__()\n",
        "    self.FACTOR = FACTOR\n",
        "  def call(self, y_true, y_pred):\n",
        "    bce = BinaryCrossentropy()\n",
        "    return bce(y_true, y_pred)* self.FACTOR"
      ]
    },
    {
      "cell_type": "code",
      "execution_count": null,
      "metadata": {
        "id": "KNXQIwuu_B3G"
      },
      "outputs": [],
      "source": [
        "def custom_bce(FACTOR):\n",
        "  def loss(y_true, y_pred):\n",
        "    bce = BinaryCrossentropy()\n",
        "    return bce(y_true, y_pred)* FACTOR\n",
        "  return loss"
      ]
    },
    {
      "cell_type": "code",
      "execution_count": null,
      "metadata": {
        "id": "9EyfR1yK_JwY"
      },
      "outputs": [],
      "source": [
        "def custom_bce(y_true, y_pred):\n",
        "  bce = BinaryCrossentropy()\n",
        "  return bce(y_true, y_pred)"
      ]
    },
    {
      "cell_type": "markdown",
      "metadata": {
        "id": "FK9zTlrSsoRP"
      },
      "source": [
        "## accuracy"
      ]
    },
    {
      "cell_type": "code",
      "execution_count": null,
      "metadata": {
        "id": "6Kyj1DYHBTPv"
      },
      "outputs": [],
      "source": [
        "class CustomAccuracy(Metric):\n",
        "  def __init__(self, name = 'Custom_Accuracy', FACTOR = 1):\n",
        "    super(CustomAccuracy, self).__init__()\n",
        "    self.FACTOR = FACTOR\n",
        "    self.accuracy = self.add_weight(name = name, initializer = 'zeros')\n",
        "\n",
        "  def update_state(self, y_true, y_pred, sample_weight = None):\n",
        "    output = binary_accuracy(tf.cast(y_true, dtype = tf.float32), y_pred)*self.FACTOR\n",
        "    self.accuracy.assign(tf.math.count_nonzero(output, dtype = tf.float32)/tf.cast(len(output), dtype = tf.float32))\n",
        "\n",
        "  def result(self):\n",
        "    return self.accuracy\n",
        "\n",
        "  def reset_states(self):\n",
        "    self.accuracy.assign(0.)"
      ]
    },
    {
      "cell_type": "code",
      "execution_count": null,
      "metadata": {
        "id": "oWVFFiL0ALh0"
      },
      "outputs": [],
      "source": [
        "def custom_accuracy(y_true, y_pred):\n",
        "  return binary_accuracy(y_true, y_pred)"
      ]
    },
    {
      "cell_type": "code",
      "execution_count": null,
      "metadata": {
        "id": "fwF_GDZxBQON"
      },
      "outputs": [],
      "source": [
        "def custom_accuracy(FACTOR):\n",
        "  def metric(y_true, y_pred):\n",
        "    return binary_accuracy(y_true, y_pred)* FACTOR\n",
        "  return metric"
      ]
    },
    {
      "cell_type": "markdown",
      "metadata": {
        "id": "Ij2oK0mFIp0f"
      },
      "source": [
        "# Custon Training loop :"
      ]
    },
    {
      "cell_type": "code",
      "execution_count": null,
      "metadata": {
        "id": "FAbYubbOIp33"
      },
      "outputs": [],
      "source": [
        "OPTIMIZER = Adam(learning_rate = 0.01)\n",
        "METRIC = BinaryAccuracy()\n",
        "METRIC_VAL = BinaryAccuracy()\n",
        "EPOCHS = CONFIGURATION['N_EPOCHS']"
      ]
    },
    {
      "cell_type": "code",
      "execution_count": null,
      "metadata": {
        "id": "fbaZhMtidISe"
      },
      "outputs": [],
      "source": [
        "CURRENT_TIME = datetime.datetime.now().strftime('%d%m%y - %h%m%s')\n",
        "CUSTOM_TRAIN_DIR = './logs/' + CURRENT_TIME + '/custom/train'\n",
        "CUSTOM_VAL_DIR = './logs/' + CURRENT_TIME + '/custom/val'\n",
        "\n",
        "custom_train_writer = tf.summary.create_file_writer(CUSTOM_TRAIN_DIR)\n",
        "custom_val_writer = tf.summary.create_file_writer(CUSTOM_VAL_DIR)"
      ]
    },
    {
      "cell_type": "code",
      "execution_count": null,
      "metadata": {
        "id": "H25NY9tNrjxA"
      },
      "outputs": [],
      "source": [
        "@tf.function\n",
        "def training_block(x_batch, y_batch):\n",
        "  with tf.GradientTape() as recorder:\n",
        "      y_pred = seq_model(x_batch, training = True)\n",
        "      loss = custom_bce(y_batch, y_pred)\n",
        "\n",
        "  #wandb.log({'loss':loss.numpy()})\n",
        "  partial_derivatives = recorder.gradient(loss, seq_model.trainable_weights)\n",
        "  OPTIMIZER.apply_gradients(zip(partial_derivatives, seq_model.trainable_weights))\n",
        "  METRIC.update_state(y_batch, y_pred)\n",
        "  return loss\n",
        "\n",
        "@tf.function\n",
        "def val_block(x_batch_val, y_batch_val):\n",
        "    y_pred_val = seq_model(x_batch_val, training = False)\n",
        "    loss_val = custom_bce(y_batch_val, y_pred_val)\n",
        "    METRIC_VAL.update_state(y_batch_val, y_pred_val)\n",
        "    return loss_val"
      ]
    },
    {
      "cell_type": "code",
      "execution_count": null,
      "metadata": {
        "id": "pWbGyS36wr5M"
      },
      "outputs": [],
      "source": [
        "def malaria_custom_model(model, loss_function, METRIC, VAL_METRIC, OPTIMIZER, train_dataset, val_dataset, EPOCHS):\n",
        "  for epoch in range(EPOCHS):\n",
        "    print(\"Training starts for epoch number {}\".format(epoch+1))\n",
        "    for step, (x_batch, y_batch) in enumerate(train_dataset):\n",
        "      loss = training_block(x_batch, y_batch)\n",
        "\n",
        "    print(\"Training Loss\", loss)\n",
        "    print(\"The accuracy is: \", METRIC.result())\n",
        "\n",
        "    with custom_train_writer.as_default():\n",
        "      tf.summary.scalar('Training Loss', data = loss, step = epoch)\n",
        "    with custom_train_writer.as_default():\n",
        "      tf.summary.scalar('Training Accuracy', data = METRIC.result(), step = epoch)\n",
        "\n",
        "    METRIC.reset_states()\n",
        "\n",
        "    for (x_batch_val, y_batch_val) in val_dataset:\n",
        "      loss_val = val_block(x_batch_val, y_batch_val)\n",
        "\n",
        "    print(\"The Validation loss\", loss_val)\n",
        "    print(\"The Validation accuracy is: \", METRIC_VAL.result())\n",
        "\n",
        "    with custom_val_writer.as_default():\n",
        "      tf.summary.scalar('Validation Loss', data = loss_val, step = epoch)\n",
        "    with custom_val_writer.as_default():\n",
        "      tf.summary.scalar('Validation Accuracy', data = METRIC_VAL.result(), step = epoch)\n",
        "\n",
        "    METRIC_VAL.reset_states()\n",
        "  print(\"Training Complete!!!!\")"
      ]
    },
    {
      "cell_type": "code",
      "execution_count": null,
      "metadata": {
        "id": "VzBQrv9ddISf"
      },
      "outputs": [],
      "source": [
        "malaria_custom_model(custom_seq_model, custom_bce, METRIC, METRIC_VAL, OPTIMIZER, train_dataset, val_dataset, EPOCHS)"
      ]
    },
    {
      "cell_type": "markdown",
      "metadata": {
        "id": "Bv-mn7uewtDE"
      },
      "source": [
        "# Training"
      ]
    },
    {
      "cell_type": "code",
      "execution_count": null,
      "metadata": {
        "id": "jm_75QHewtWI"
      },
      "outputs": [],
      "source": [
        "metrics = [TruePositives(name='tp'),FalsePositives(name='fp'), TrueNegatives(name='tn'), FalseNegatives(name='fn'),\n",
        "            BinaryAccuracy(name='accuracy'), Precision(name='precision'), Recall(name='recall'), AUC(name='auc')]\n",
        "FACTOR = 1\n",
        "LABELS = ['Parasitized', 'Uninfected']"
      ]
    },
    {
      "cell_type": "code",
      "execution_count": null,
      "metadata": {
        "id": "gzUXHqgAdISf"
      },
      "outputs": [],
      "source": [
        "BATCH_SIZE = 32\n",
        "val_dataset = (\n",
        "     val_dataset\n",
        "    .map(resize_rescale)\n",
        "    .batch(BATCH_SIZE)\n",
        "    .prefetch(tf.data.AUTOTUNE)\n",
        ")"
      ]
    },
    {
      "cell_type": "code",
      "execution_count": null,
      "metadata": {
        "id": "LRcvW5kxwtZs"
      },
      "outputs": [],
      "source": [
        "seq_model.compile(optimizer = Adam(learning_rate = CONFIGURATION['LEARNING_RATE']),\n",
        "      loss = BinaryCrossentropy(),\n",
        "      #metrics = metrics\n",
        "                 )"
      ]
    },
    {
      "cell_type": "code",
      "execution_count": null,
      "metadata": {
        "id": "4YlN6ULwdISf",
        "outputId": "fc28ec47-65c4-452a-f9f8-cb210a7305fc"
      },
      "outputs": [
        {
          "data": {
            "text/plain": [
              "<_PrefetchDataset element_spec=(TensorSpec(shape=(None, 224, 224, 3), dtype=tf.float32, name=None), TensorSpec(shape=(None,), dtype=tf.int64, name=None))>"
            ]
          },
          "execution_count": 52,
          "metadata": {},
          "output_type": "execute_result"
        }
      ],
      "source": [
        "val_dataset"
      ]
    },
    {
      "cell_type": "code",
      "execution_count": null,
      "metadata": {
        "colab": {
          "base_uri": "https://localhost:8080/",
          "height": 192
        },
        "id": "fA2N6TxmxDCX",
        "outputId": "cec9d87c-d192-48d9-e02b-e6a0b6e5a06e"
      },
      "outputs": [
        {
          "name": "stdout",
          "output_type": "stream",
          "text": [
            "689/689 [==============================] - ETA: 0s - loss: 0.4493WARNING:tensorflow:Can save best model only with val_precision available, skipping.\n"
          ]
        },
        {
          "name": "stderr",
          "output_type": "stream",
          "text": [
            "WARNING:tensorflow:Can save best model only with val_precision available, skipping.\n"
          ]
        },
        {
          "name": "stdout",
          "output_type": "stream",
          "text": [
            "689/689 [==============================] - 108s 142ms/step - loss: 0.4493 - val_loss: 0.2452\n"
          ]
        }
      ],
      "source": [
        "history = seq_model.fit(train_dataset,epochs = 1, validation_data=val_dataset ,\n",
        "                        callbacks=[tensorboard_callback , checkpoint_callback]\n",
        "                       )"
      ]
    },
    {
      "cell_type": "markdown",
      "metadata": {
        "id": "fktyEIoxvm5R"
      },
      "source": [
        "# Callback"
      ]
    },
    {
      "cell_type": "markdown",
      "metadata": {
        "id": "Jw1ww_7OdISg"
      },
      "source": [
        "## Custom"
      ]
    },
    {
      "cell_type": "code",
      "execution_count": null,
      "metadata": {
        "id": "gzrdZGz2vnQW"
      },
      "outputs": [],
      "source": [
        "class LossCallback(Callback):\n",
        "  def on_epoch_end(self, epoch, logs):\n",
        "    print(\"\\n For Epoch Number {} the model has a loss of {} \".format(epoch+1, logs[\"loss\"]))\n",
        "  def on_batch_end(self, batch, logs):\n",
        "    print(\"\\n For Batch Number {} the model has a loss of {} \".format(batch+1, logs))"
      ]
    },
    {
      "cell_type": "code",
      "execution_count": null,
      "metadata": {
        "id": "HdLV-5xK1ikP"
      },
      "outputs": [],
      "source": [
        "class LogImagesCallbackTensorBoard(Callback):\n",
        "  def on_epoch_end(self, epoch, logs):\n",
        "    labels = []\n",
        "    inp = []\n",
        "\n",
        "    for x,y in test_dataset.as_numpy_iterator():\n",
        "      labels.append(y)\n",
        "      inp.append(x)\n",
        "    labels = np.array([i[0] for i in labels])\n",
        "    predicted = seq_model.predict(np.array(inp)[:,0,...])\n",
        "\n",
        "    threshold = 0.5\n",
        "\n",
        "    cm = confusion_matrix(labels, predicted > threshold)\n",
        "\n",
        "    plt.figure(figsize=(8,8))\n",
        "\n",
        "    sns.heatmap(cm, annot=True,)\n",
        "    plt.title('Confusion matrix - {}'.format(threshold))\n",
        "    plt.ylabel('Actual')\n",
        "    plt.xlabel('Predicted')\n",
        "    plt.axis('off')\n",
        "\n",
        "    buffer = io.BytesIO()\n",
        "    plt.savefig(buffer, format = 'png')\n",
        "\n",
        "    image = tf.image.decode_png(buffer.getvalue(), channels=3)\n",
        "    image = tf.expand_dims(image, axis = 0)\n",
        "\n",
        "    CURRENT_TIME = datetime.datetime.now().strftime('%d%m%y - %h%m%s')\n",
        "    IMAGE_DIR = './logs/' + CURRENT_TIME + '/images'\n",
        "    image_writer = tf.summary.create_file_writer(IMAGE_DIR)\n",
        "\n",
        "    with image_writer.as_default():\n",
        "      tf.summary.image(\"Training data\", image, step = epoch)"
      ]
    },
    {
      "cell_type": "code",
      "execution_count": null,
      "metadata": {
        "id": "pIHOznQ4HAKU"
      },
      "outputs": [],
      "source": [
        "### LearningRateScheduler\n",
        "def scheduler(epoch, lr):\n",
        "\n",
        "  if epoch <= 1:\n",
        "    learning_rate = lr\n",
        "  else:\n",
        "    learning_rate = lr * tf.math.exp(-0.1)\n",
        "    learning_rate = learning_rate.numpy()\n",
        "\n",
        "  with train_writer.as_default():\n",
        "    tf.summary.scalar('Learning Rate', data = learning_rate, step = epoch)\n",
        "  return learning_rate\n",
        "scheduler_callback = LearningRateScheduler(scheduler, verbose = 1)"
      ]
    },
    {
      "cell_type": "markdown",
      "metadata": {
        "id": "iGERs9x1dISg"
      },
      "source": [
        "## from keras.callbacks:"
      ]
    },
    {
      "cell_type": "code",
      "execution_count": null,
      "metadata": {
        "id": "FQKHu9S_HEX7"
      },
      "outputs": [],
      "source": [
        "### ModelCheckpointing : un callback pour sauvegarder les poids du meilleur modèle\n",
        "checkpoint_callback = ModelCheckpoint(\n",
        "    'weights.{epoch:02d}-{val_loss:.2f}.hdf5',\n",
        "    monitor='val_precision', verbose=0, save_best_only=True,\n",
        "    save_weights_only=True, mode='auto', save_freq='epoch',\n",
        ")"
      ]
    },
    {
      "cell_type": "code",
      "execution_count": null,
      "metadata": {
        "id": "nQogsx0QHHow"
      },
      "outputs": [],
      "source": [
        "### ReduceLearningRateOnPlateau :un callback d'arrêt anticipé\n",
        "plateau_callback = ReduceLROnPlateau(\n",
        "    monitor='val_accuracy', factor=0.1, patience=5, verbose=1\n",
        ")"
      ]
    },
    {
      "cell_type": "code",
      "execution_count": null,
      "metadata": {
        "id": "2sCPKF8q2u3y"
      },
      "outputs": [],
      "source": [
        "CURRENT_TIME = datetime.datetime.now().strftime('%d%m%Y - %H%M%S')"
      ]
    },
    {
      "cell_type": "code",
      "execution_count": null,
      "metadata": {
        "id": "RXWSJVHg2vTX"
      },
      "outputs": [],
      "source": [
        "LOG_DIR = './logs/'+ CURRENT_TIME"
      ]
    },
    {
      "cell_type": "code",
      "execution_count": null,
      "metadata": {
        "id": "UTh11xvydISh"
      },
      "outputs": [],
      "source": [
        "### un callback pour TensorBoard\n",
        "tensorboard_callback = TensorBoard(\n",
        "    log_dir=LOG_DIR, histogram_freq = 1, profile_batch = '100,132'\n",
        ")"
      ]
    },
    {
      "cell_type": "code",
      "execution_count": null,
      "metadata": {
        "colab": {
          "base_uri": "https://localhost:8080/"
        },
        "id": "8Bz0ftfMvnio",
        "outputId": "249f6d9d-dcbc-4a1b-bdac-6d6120a0f96a"
      },
      "outputs": [
        {
          "name": "stdout",
          "output_type": "stream",
          "text": [
            "Requirement already satisfied: tensorboard_plugin_profile in c:\\users\\haykel bargugui\\anaconda3\\lib\\site-packages (2.15.1)\n",
            "Requirement already satisfied: gviz-api>=1.9.0 in c:\\users\\haykel bargugui\\anaconda3\\lib\\site-packages (from tensorboard_plugin_profile) (1.10.0)\n",
            "Requirement already satisfied: protobuf<5.0.0dev,>=3.19.6 in c:\\users\\haykel bargugui\\anaconda3\\lib\\site-packages (from tensorboard_plugin_profile) (3.20.3)\n",
            "Requirement already satisfied: setuptools>=41.0.0 in c:\\users\\haykel bargugui\\anaconda3\\lib\\site-packages (from tensorboard_plugin_profile) (68.0.0)\n",
            "Requirement already satisfied: six>=1.10.0 in c:\\users\\haykel bargugui\\anaconda3\\lib\\site-packages (from tensorboard_plugin_profile) (1.16.0)\n",
            "Requirement already satisfied: werkzeug>=0.11.15 in c:\\users\\haykel bargugui\\anaconda3\\lib\\site-packages (from tensorboard_plugin_profile) (2.2.3)\n",
            "Requirement already satisfied: MarkupSafe>=2.1.1 in c:\\users\\haykel bargugui\\anaconda3\\lib\\site-packages (from werkzeug>=0.11.15->tensorboard_plugin_profile) (2.1.1)\n",
            "Note: you may need to restart the kernel to use updated packages.\n"
          ]
        }
      ],
      "source": [
        "pip install -U tensorboard_plugin_profile"
      ]
    },
    {
      "cell_type": "code",
      "execution_count": null,
      "metadata": {
        "id": "2FLfITIbdISh"
      },
      "outputs": [],
      "source": [
        "%load_ext tensorboard"
      ]
    },
    {
      "cell_type": "code",
      "execution_count": null,
      "metadata": {
        "id": "DAe7U14hwWoH",
        "outputId": "9ca0b0c5-d4b2-407b-95d7-27f4cf04b404"
      },
      "outputs": [
        {
          "data": {
            "text/plain": [
              "Reusing TensorBoard on port 6006 (pid 4160), started 2:34:31 ago. (Use '!kill 4160' to kill it.)"
            ]
          },
          "metadata": {},
          "output_type": "display_data"
        },
        {
          "data": {
            "text/html": [
              "\n",
              "      <iframe id=\"tensorboard-frame-66df60599bd1e8ec\" width=\"100%\" height=\"800\" frameborder=\"0\">\n",
              "      </iframe>\n",
              "      <script>\n",
              "        (function() {\n",
              "          const frame = document.getElementById(\"tensorboard-frame-66df60599bd1e8ec\");\n",
              "          const url = new URL(\"/\", window.location);\n",
              "          const port = 6006;\n",
              "          if (port) {\n",
              "            url.port = port;\n",
              "          }\n",
              "          frame.src = url;\n",
              "        })();\n",
              "      </script>\n",
              "    "
            ],
            "text/plain": [
              "<IPython.core.display.HTML object>"
            ]
          },
          "metadata": {},
          "output_type": "display_data"
        }
      ],
      "source": [
        "%tensorboard --logdir=logs"
      ]
    },
    {
      "cell_type": "markdown",
      "metadata": {
        "id": "HexBvc0edISh"
      },
      "source": [
        "# Hyperparameter Tuning"
      ]
    },
    {
      "cell_type": "code",
      "execution_count": null,
      "metadata": {
        "id": "a4zI-7QjdISh"
      },
      "outputs": [],
      "source": [
        "IM_SIZE = 224\n",
        "def model_tune(hparams):\n",
        "  seq_model = tf.keras.Sequential([\n",
        "    InputLayer(input_shape = (IM_SIZE, IM_SIZE, 3)),\n",
        "\n",
        "    Conv2D(filters = 6, kernel_size = 3, strides=1, padding='valid',\n",
        "          activation = 'relu',kernel_regularizer = L2(hparams[HP_REGULARIZATION_RATE])),\n",
        "    BatchNormalization(),\n",
        "    MaxPool2D (pool_size = 2, strides= 2),\n",
        "    Dropout(rate = hparams[HP_DROPOUT]),\n",
        "\n",
        "    Conv2D(filters = 16, kernel_size = 3, strides=1, padding='valid',\n",
        "          activation = 'relu', kernel_regularizer = L2(hparams[HP_REGULARIZATION_RATE])),\n",
        "    BatchNormalization(),\n",
        "    MaxPool2D (pool_size = 2, strides= 2),\n",
        "\n",
        "    Flatten(),\n",
        "\n",
        "    Dense( hparams[HP_NUM_UNITS_1], activation = \"relu\", kernel_regularizer = L2(hparams[HP_REGULARIZATION_RATE])),\n",
        "    BatchNormalization(),\n",
        "    Dropout(rate = hparams[HP_DROPOUT]),\n",
        "\n",
        "    Dense(hparams[HP_NUM_UNITS_2], activation = \"relu\", kernel_regularizer = L2(hparams[HP_REGULARIZATION_RATE])),\n",
        "    BatchNormalization(),\n",
        "\n",
        "    Dense(1, activation = \"sigmoid\"),\n",
        "  ])\n",
        "\n",
        "  seq_model.compile(\n",
        "        optimizer= Adam(learning_rate = hparams[HP_LEARNING_RATE]),\n",
        "        loss='binary_crossentropy',\n",
        "        metrics=['accuracy'],\n",
        "    )\n",
        "\n",
        "  seq_model.fit(val_dataset, epochs=2)\n",
        "  results = seq_model.evaluate(val_dataset)\n",
        "  accuracy = results[1]\n",
        "  return accuracy"
      ]
    },
    {
      "cell_type": "code",
      "execution_count": null,
      "metadata": {
        "id": "elLD0tUfdISh"
      },
      "outputs": [],
      "source": [
        "HP_NUM_UNITS_1 = hp.HParam('num_units_1', hp.Discrete([32,64]))\n",
        "HP_NUM_UNITS_2 = hp.HParam('num_units_2', hp.Discrete([32,64]))\n",
        "HP_DROPOUT = hp.HParam('dropout_rate', hp.Discrete([0.2,0.3]))\n",
        "HP_REGULARIZATION_RATE = hp.HParam('regularization_rate', hp.Discrete([0.01,0.1]))\n",
        "HP_LEARNING_RATE = hp.HParam('learning_rate', hp.Discrete([1e-4, 1e-3]))"
      ]
    },
    {
      "cell_type": "code",
      "execution_count": null,
      "metadata": {
        "id": "VJ4Lk_RvdISh",
        "outputId": "b9c8e16d-1658-43af-b475-007fee54a7d8"
      },
      "outputs": [
        {
          "name": "stdout",
          "output_type": "stream",
          "text": [
            "Epoch 1/2\n",
            "87/87 [==============================] - 19s 149ms/step - loss: 1.8140 - accuracy: 0.5858\n",
            "Epoch 2/2\n",
            "87/87 [==============================] - 18s 154ms/step - loss: 1.6789 - accuracy: 0.6392\n",
            "87/87 [==============================] - 7s 28ms/step - loss: 1.7280 - accuracy: 0.5662\n",
            "For the run 0, hparams num_units_1:32, num_units_2:32, dropout:0.2, regularization_rate:0.01, learning_rate:0.0001\n",
            "Epoch 1/2\n",
            "87/87 [==============================] - 22s 155ms/step - loss: 1.8592 - accuracy: 0.6018\n",
            "Epoch 2/2\n",
            "87/87 [==============================] - 18s 153ms/step - loss: 1.4449 - accuracy: 0.6886\n",
            "87/87 [==============================] - 7s 29ms/step - loss: 1.6198 - accuracy: 0.4947\n",
            "For the run 1, hparams num_units_1:32, num_units_2:32, dropout:0.2, regularization_rate:0.01, learning_rate:0.001\n",
            "Epoch 1/2\n",
            "87/87 [==============================] - 20s 153ms/step - loss: 10.3479 - accuracy: 0.5967\n",
            "Epoch 2/2\n",
            "87/87 [==============================] - 18s 154ms/step - loss: 8.0425 - accuracy: 0.6381\n",
            "87/87 [==============================] - 7s 29ms/step - loss: 7.3824 - accuracy: 0.5049\n",
            "For the run 2, hparams num_units_1:32, num_units_2:32, dropout:0.2, regularization_rate:0.1, learning_rate:0.0001\n",
            "Epoch 1/2\n",
            "87/87 [==============================] - 20s 154ms/step - loss: 5.5740 - accuracy: 0.5924\n",
            "Epoch 2/2\n",
            "87/87 [==============================] - 18s 153ms/step - loss: 2.9601 - accuracy: 0.6316\n",
            "87/87 [==============================] - 7s 28ms/step - loss: 2.4366 - accuracy: 0.5045\n",
            "For the run 3, hparams num_units_1:32, num_units_2:32, dropout:0.2, regularization_rate:0.1, learning_rate:0.001\n",
            "Epoch 1/2\n",
            "87/87 [==============================] - 20s 152ms/step - loss: 1.8268 - accuracy: 0.5608\n",
            "Epoch 2/2\n",
            "87/87 [==============================] - 18s 153ms/step - loss: 1.6592 - accuracy: 0.6624\n",
            "87/87 [==============================] - 7s 27ms/step - loss: 1.7093 - accuracy: 0.5089\n",
            "For the run 4, hparams num_units_1:32, num_units_2:32, dropout:0.3, regularization_rate:0.01, learning_rate:0.0001\n",
            "Epoch 1/2\n",
            "87/87 [==============================] - 20s 152ms/step - loss: 1.9319 - accuracy: 0.5506\n",
            "Epoch 2/2\n",
            "87/87 [==============================] - 18s 152ms/step - loss: 1.4418 - accuracy: 0.6138\n",
            "87/87 [==============================] - 7s 28ms/step - loss: 1.3806 - accuracy: 0.5183\n",
            "For the run 5, hparams num_units_1:32, num_units_2:32, dropout:0.3, regularization_rate:0.01, learning_rate:0.001\n",
            "Epoch 1/2\n",
            "87/87 [==============================] - 20s 155ms/step - loss: 9.9773 - accuracy: 0.5343\n",
            "Epoch 2/2\n",
            "87/87 [==============================] - 18s 155ms/step - loss: 7.9278 - accuracy: 0.6218\n",
            "87/87 [==============================] - 7s 28ms/step - loss: 7.3181 - accuracy: 0.5071\n",
            "For the run 6, hparams num_units_1:32, num_units_2:32, dropout:0.3, regularization_rate:0.1, learning_rate:0.0001\n",
            "Epoch 1/2\n",
            "87/87 [==============================] - 20s 153ms/step - loss: 5.7878 - accuracy: 0.5833\n",
            "Epoch 2/2\n",
            "87/87 [==============================] - 18s 154ms/step - loss: 3.1544 - accuracy: 0.5829\n",
            "87/87 [==============================] - 8s 28ms/step - loss: 2.6375 - accuracy: 0.4944\n",
            "For the run 7, hparams num_units_1:32, num_units_2:32, dropout:0.3, regularization_rate:0.1, learning_rate:0.001\n",
            "Epoch 1/2\n",
            "87/87 [==============================] - 22s 154ms/step - loss: 1.9115 - accuracy: 0.5858\n",
            "Epoch 2/2\n",
            "87/87 [==============================] - 18s 154ms/step - loss: 1.7786 - accuracy: 0.6632\n",
            "87/87 [==============================] - 8s 29ms/step - loss: 1.8247 - accuracy: 0.4947\n",
            "For the run 8, hparams num_units_1:32, num_units_2:64, dropout:0.2, regularization_rate:0.01, learning_rate:0.0001\n",
            "Epoch 1/2\n",
            "87/87 [==============================] - 20s 154ms/step - loss: 1.8122 - accuracy: 0.5869\n",
            "Epoch 2/2\n",
            "87/87 [==============================] - 18s 154ms/step - loss: 1.3310 - accuracy: 0.6225\n",
            "87/87 [==============================] - 8s 28ms/step - loss: 1.3172 - accuracy: 0.5049\n",
            "For the run 9, hparams num_units_1:32, num_units_2:64, dropout:0.2, regularization_rate:0.01, learning_rate:0.001\n",
            "Epoch 1/2\n",
            "87/87 [==============================] - 20s 154ms/step - loss: 11.4625 - accuracy: 0.5695\n",
            "Epoch 2/2\n",
            "87/87 [==============================] - 18s 154ms/step - loss: 9.1532 - accuracy: 0.6505\n",
            "87/87 [==============================] - 8s 27ms/step - loss: 8.3545 - accuracy: 0.4962\n",
            "For the run 10, hparams num_units_1:32, num_units_2:64, dropout:0.2, regularization_rate:0.1, learning_rate:0.0001\n",
            "Epoch 1/2\n",
            "87/87 [==============================] - 21s 155ms/step - loss: 6.8620 - accuracy: 0.5760\n",
            "Epoch 2/2\n",
            "87/87 [==============================] - 18s 156ms/step - loss: 3.1222 - accuracy: 0.6160\n",
            "87/87 [==============================] - 7s 27ms/step - loss: 2.5709 - accuracy: 0.5038\n",
            "For the run 11, hparams num_units_1:32, num_units_2:64, dropout:0.2, regularization_rate:0.1, learning_rate:0.001\n",
            "Epoch 1/2\n",
            "87/87 [==============================] - 20s 155ms/step - loss: 1.9672 - accuracy: 0.5579\n",
            "Epoch 2/2\n",
            "87/87 [==============================] - 19s 155ms/step - loss: 1.8071 - accuracy: 0.6185\n",
            "87/87 [==============================] - 8s 28ms/step - loss: 1.8848 - accuracy: 0.5045\n",
            "For the run 12, hparams num_units_1:32, num_units_2:64, dropout:0.3, regularization_rate:0.01, learning_rate:0.0001\n",
            "Epoch 1/2\n",
            "87/87 [==============================] - 20s 153ms/step - loss: 1.9244 - accuracy: 0.5858\n",
            "Epoch 2/2\n",
            "87/87 [==============================] - 19s 155ms/step - loss: 1.4194 - accuracy: 0.6294\n",
            "87/87 [==============================] - 8s 28ms/step - loss: 2.0589 - accuracy: 0.4958\n",
            "For the run 13, hparams num_units_1:32, num_units_2:64, dropout:0.3, regularization_rate:0.01, learning_rate:0.001\n",
            "Epoch 1/2\n",
            "87/87 [==============================] - 20s 154ms/step - loss: 11.2968 - accuracy: 0.6040\n",
            "Epoch 2/2\n",
            "87/87 [==============================] - 19s 154ms/step - loss: 8.9852 - accuracy: 0.6403\n",
            "87/87 [==============================] - 8s 28ms/step - loss: 8.1265 - accuracy: 0.5989\n",
            "For the run 14, hparams num_units_1:32, num_units_2:64, dropout:0.3, regularization_rate:0.1, learning_rate:0.0001\n",
            "Epoch 1/2\n",
            "87/87 [==============================] - 21s 153ms/step - loss: 6.3716 - accuracy: 0.5637\n",
            "Epoch 2/2\n",
            "87/87 [==============================] - 19s 155ms/step - loss: 3.0305 - accuracy: 0.5833\n",
            "87/87 [==============================] - 8s 28ms/step - loss: 2.4715 - accuracy: 0.4944\n",
            "For the run 15, hparams num_units_1:32, num_units_2:64, dropout:0.3, regularization_rate:0.1, learning_rate:0.001\n",
            "Epoch 1/2\n",
            "87/87 [==============================] - 23s 165ms/step - loss: 2.4754 - accuracy: 0.6454\n",
            "Epoch 2/2\n",
            "87/87 [==============================] - 19s 166ms/step - loss: 2.2003 - accuracy: 0.7564\n",
            "87/87 [==============================] - 8s 28ms/step - loss: 2.4284 - accuracy: 0.5234\n",
            "For the run 16, hparams num_units_1:64, num_units_2:32, dropout:0.2, regularization_rate:0.01, learning_rate:0.0001\n",
            "Epoch 1/2\n",
            "87/87 [==============================] - 22s 166ms/step - loss: 2.3569 - accuracy: 0.5768\n",
            "Epoch 2/2\n",
            "87/87 [==============================] - 20s 166ms/step - loss: 1.5681 - accuracy: 0.6218\n",
            "87/87 [==============================] - 8s 29ms/step - loss: 1.6782 - accuracy: 0.4958\n",
            "For the run 17, hparams num_units_1:64, num_units_2:32, dropout:0.2, regularization_rate:0.01, learning_rate:0.001\n",
            "Epoch 1/2\n",
            "87/87 [==============================] - 22s 166ms/step - loss: 16.2352 - accuracy: 0.6062\n",
            "Epoch 2/2\n",
            "87/87 [==============================] - 20s 167ms/step - loss: 11.2278 - accuracy: 0.6592\n",
            "87/87 [==============================] - 8s 29ms/step - loss: 9.5596 - accuracy: 0.5710\n",
            "For the run 18, hparams num_units_1:64, num_units_2:32, dropout:0.2, regularization_rate:0.1, learning_rate:0.0001\n",
            "Epoch 1/2\n",
            "87/87 [==============================] - 22s 167ms/step - loss: 7.6880 - accuracy: 0.5808\n",
            "Epoch 2/2\n",
            "87/87 [==============================] - 20s 166ms/step - loss: 3.8459 - accuracy: 0.6076\n",
            "87/87 [==============================] - 8s 29ms/step - loss: 3.2873 - accuracy: 0.5561\n",
            "For the run 19, hparams num_units_1:64, num_units_2:32, dropout:0.2, regularization_rate:0.1, learning_rate:0.001\n",
            "Epoch 1/2\n",
            "87/87 [==============================] - 22s 167ms/step - loss: 2.4976 - accuracy: 0.5971\n",
            "Epoch 2/2\n",
            "87/87 [==============================] - 20s 168ms/step - loss: 2.2913 - accuracy: 0.6377\n",
            "87/87 [==============================] - 8s 29ms/step - loss: 2.2754 - accuracy: 0.5241\n",
            "For the run 20, hparams num_units_1:64, num_units_2:32, dropout:0.3, regularization_rate:0.01, learning_rate:0.0001\n",
            "Epoch 1/2\n",
            "87/87 [==============================] - 22s 167ms/step - loss: 2.3469 - accuracy: 0.5978\n",
            "Epoch 2/2\n",
            "87/87 [==============================] - 20s 167ms/step - loss: 1.5113 - accuracy: 0.6385\n",
            "87/87 [==============================] - 8s 30ms/step - loss: 1.5528 - accuracy: 0.5024\n",
            "For the run 21, hparams num_units_1:64, num_units_2:32, dropout:0.3, regularization_rate:0.01, learning_rate:0.001\n",
            "Epoch 1/2\n",
            "87/87 [==============================] - 22s 167ms/step - loss: 16.1706 - accuracy: 0.6298\n",
            "Epoch 2/2\n",
            "87/87 [==============================] - 20s 166ms/step - loss: 11.5411 - accuracy: 0.7318\n",
            "87/87 [==============================] - 8s 29ms/step - loss: 10.0978 - accuracy: 0.5590\n",
            "For the run 22, hparams num_units_1:64, num_units_2:32, dropout:0.3, regularization_rate:0.1, learning_rate:0.0001\n",
            "Epoch 1/2\n",
            "87/87 [==============================] - 22s 167ms/step - loss: 7.8623 - accuracy: 0.6109\n",
            "Epoch 2/2\n",
            "87/87 [==============================] - 20s 167ms/step - loss: 4.3187 - accuracy: 0.6221\n",
            "87/87 [==============================] - 8s 29ms/step - loss: 3.3201 - accuracy: 0.5056\n",
            "For the run 23, hparams num_units_1:64, num_units_2:32, dropout:0.3, regularization_rate:0.1, learning_rate:0.001\n",
            "Epoch 1/2\n",
            "87/87 [==============================] - 24s 166ms/step - loss: 2.6840 - accuracy: 0.6163\n",
            "Epoch 2/2\n",
            "87/87 [==============================] - 20s 168ms/step - loss: 2.4574 - accuracy: 0.6806\n",
            "87/87 [==============================] - 8s 29ms/step - loss: 2.4396 - accuracy: 0.6298\n",
            "For the run 24, hparams num_units_1:64, num_units_2:64, dropout:0.2, regularization_rate:0.01, learning_rate:0.0001\n",
            "Epoch 1/2\n",
            "87/87 [==============================] - 22s 167ms/step - loss: 2.5718 - accuracy: 0.6051\n",
            "Epoch 2/2\n",
            "87/87 [==============================] - 20s 169ms/step - loss: 1.6420 - accuracy: 0.6544\n",
            "87/87 [==============================] - 8s 31ms/step - loss: 1.8308 - accuracy: 0.5071\n",
            "For the run 25, hparams num_units_1:64, num_units_2:64, dropout:0.2, regularization_rate:0.01, learning_rate:0.001\n",
            "Epoch 1/2\n",
            "87/87 [==============================] - 22s 170ms/step - loss: 17.9795 - accuracy: 0.6269\n",
            "Epoch 2/2\n",
            "87/87 [==============================] - 20s 164ms/step - loss: 12.5745 - accuracy: 0.6711\n",
            "87/87 [==============================] - 8s 28ms/step - loss: 10.8942 - accuracy: 0.5053\n",
            "For the run 26, hparams num_units_1:64, num_units_2:64, dropout:0.2, regularization_rate:0.1, learning_rate:0.0001\n",
            "Epoch 1/2\n",
            "87/87 [==============================] - 21s 163ms/step - loss: 9.1990 - accuracy: 0.6062\n",
            "Epoch 2/2\n",
            "87/87 [==============================] - 19s 162ms/step - loss: 4.0651 - accuracy: 0.6054\n",
            "87/87 [==============================] - 8s 29ms/step - loss: 3.6844 - accuracy: 0.5053\n",
            "For the run 27, hparams num_units_1:64, num_units_2:64, dropout:0.2, regularization_rate:0.1, learning_rate:0.001\n",
            "Epoch 1/2\n",
            "87/87 [==============================] - 21s 163ms/step - loss: 2.6912 - accuracy: 0.5971\n",
            "Epoch 2/2\n",
            "87/87 [==============================] - 19s 162ms/step - loss: 2.4639 - accuracy: 0.6555\n",
            "87/87 [==============================] - 8s 29ms/step - loss: 2.5057 - accuracy: 0.5096\n",
            "For the run 28, hparams num_units_1:64, num_units_2:64, dropout:0.3, regularization_rate:0.01, learning_rate:0.0001\n",
            "Epoch 1/2\n",
            "87/87 [==============================] - 21s 162ms/step - loss: 2.5826 - accuracy: 0.6225\n",
            "Epoch 2/2\n",
            "87/87 [==============================] - 20s 161ms/step - loss: 1.6996 - accuracy: 0.6875\n",
            "87/87 [==============================] - 8s 30ms/step - loss: 2.2522 - accuracy: 0.4955\n",
            "For the run 29, hparams num_units_1:64, num_units_2:64, dropout:0.3, regularization_rate:0.01, learning_rate:0.001\n",
            "Epoch 1/2\n",
            "87/87 [==============================] - 22s 162ms/step - loss: 17.8253 - accuracy: 0.5877\n",
            "Epoch 2/2\n",
            "87/87 [==============================] - 20s 164ms/step - loss: 12.9303 - accuracy: 0.6555\n",
            "87/87 [==============================] - 8s 28ms/step - loss: 11.6847 - accuracy: 0.5064\n",
            "For the run 30, hparams num_units_1:64, num_units_2:64, dropout:0.3, regularization_rate:0.1, learning_rate:0.0001\n",
            "Epoch 1/2\n",
            "87/87 [==============================] - 21s 161ms/step - loss: 9.4653 - accuracy: 0.5877\n",
            "Epoch 2/2\n",
            "87/87 [==============================] - 20s 162ms/step - loss: 3.9442 - accuracy: 0.6131\n",
            "87/87 [==============================] - 8s 28ms/step - loss: 3.8272 - accuracy: 0.4951\n",
            "For the run 31, hparams num_units_1:64, num_units_2:64, dropout:0.3, regularization_rate:0.1, learning_rate:0.001\n"
          ]
        }
      ],
      "source": [
        "run_number = 0\n",
        "for num_units_1 in HP_NUM_UNITS_1.domain.values:\n",
        "  for num_units_2 in HP_NUM_UNITS_2.domain.values:\n",
        "    for dropout_rate in HP_DROPOUT.domain.values:\n",
        "      for regularization_rate in HP_REGULARIZATION_RATE.domain.values:\n",
        "        for learning_rate in HP_LEARNING_RATE.domain.values:\n",
        "\n",
        "          hparams = {\n",
        "              HP_NUM_UNITS_1: num_units_1,\n",
        "              HP_NUM_UNITS_2: num_units_2,\n",
        "              HP_DROPOUT: dropout_rate,\n",
        "              HP_REGULARIZATION_RATE: regularization_rate,\n",
        "              HP_LEARNING_RATE: learning_rate,\n",
        "\n",
        "          }\n",
        "          file_writer = tf.summary.create_file_writer('logs/hparams-' + str(run_number))\n",
        "\n",
        "          with file_writer.as_default():\n",
        "              hp.hparams(hparams)\n",
        "              accuracy = model_tune(hparams)\n",
        "              tf.summary.scalar('accuracy', accuracy, step = 0)\n",
        "          print(\"For the run {}, hparams num_units_1:{}, num_units_2:{}, dropout:{}, regularization_rate:{}, learning_rate:{}\".format(run_number, hparams[HP_NUM_UNITS_1], hparams[HP_NUM_UNITS_2],\n",
        "                                                             hparams[HP_DROPOUT], hparams[HP_REGULARIZATION_RATE],\n",
        "                                                             hparams[HP_LEARNING_RATE]))\n",
        "          run_number += 1"
      ]
    },
    {
      "cell_type": "code",
      "execution_count": null,
      "metadata": {
        "id": "h4RqA5vikyJE"
      },
      "outputs": [],
      "source": []
    },
    {
      "cell_type": "markdown",
      "metadata": {
        "id": "mUFhhRI9dISh"
      },
      "source": [
        "# **Wandb Install, Login, Initialization and Configuration :**\n",
        "\n"
      ]
    },
    {
      "cell_type": "code",
      "execution_count": null,
      "metadata": {
        "colab": {
          "base_uri": "https://localhost:8080/"
        },
        "id": "_FWNhFHCdISi",
        "outputId": "28806a3d-66c4-4ee3-acec-4c0a00ffe317"
      },
      "outputs": [
        {
          "name": "stdout",
          "output_type": "stream",
          "text": [
            "Mounted at /content/drive\n"
          ]
        }
      ],
      "source": [
        "drive.mount('/content/drive')"
      ]
    },
    {
      "cell_type": "code",
      "execution_count": 7,
      "metadata": {
        "colab": {
          "base_uri": "https://localhost:8080/"
        },
        "id": "JudGJ_thdISi",
        "outputId": "2016d8d4-ea96-4802-f776-3164d9e0c470"
      },
      "outputs": [
        {
          "output_type": "stream",
          "name": "stdout",
          "text": [
            "Collecting wandb\n",
            "  Downloading wandb-0.16.3-py3-none-any.whl (2.2 MB)\n",
            "\u001b[2K     \u001b[90m━━━━━━━━━━━━━━━━━━━━━━━━━━━━━━━━━━━━━━━━\u001b[0m \u001b[32m2.2/2.2 MB\u001b[0m \u001b[31m16.3 MB/s\u001b[0m eta \u001b[36m0:00:00\u001b[0m\n",
            "\u001b[?25hRequirement already satisfied: Click!=8.0.0,>=7.1 in /usr/local/lib/python3.10/dist-packages (from wandb) (8.1.7)\n",
            "Collecting GitPython!=3.1.29,>=1.0.0 (from wandb)\n",
            "  Downloading GitPython-3.1.41-py3-none-any.whl (196 kB)\n",
            "\u001b[2K     \u001b[90m━━━━━━━━━━━━━━━━━━━━━━━━━━━━━━━━━━━━━━━━\u001b[0m \u001b[32m196.4/196.4 kB\u001b[0m \u001b[31m21.1 MB/s\u001b[0m eta \u001b[36m0:00:00\u001b[0m\n",
            "\u001b[?25hRequirement already satisfied: requests<3,>=2.0.0 in /usr/local/lib/python3.10/dist-packages (from wandb) (2.31.0)\n",
            "Requirement already satisfied: psutil>=5.0.0 in /usr/local/lib/python3.10/dist-packages (from wandb) (5.9.5)\n",
            "Collecting sentry-sdk>=1.0.0 (from wandb)\n",
            "  Downloading sentry_sdk-1.40.3-py2.py3-none-any.whl (257 kB)\n",
            "\u001b[2K     \u001b[90m━━━━━━━━━━━━━━━━━━━━━━━━━━━━━━━━━━━━━━━━\u001b[0m \u001b[32m257.8/257.8 kB\u001b[0m \u001b[31m25.4 MB/s\u001b[0m eta \u001b[36m0:00:00\u001b[0m\n",
            "\u001b[?25hCollecting docker-pycreds>=0.4.0 (from wandb)\n",
            "  Downloading docker_pycreds-0.4.0-py2.py3-none-any.whl (9.0 kB)\n",
            "Requirement already satisfied: PyYAML in /usr/local/lib/python3.10/dist-packages (from wandb) (6.0.1)\n",
            "Collecting setproctitle (from wandb)\n",
            "  Downloading setproctitle-1.3.3-cp310-cp310-manylinux_2_5_x86_64.manylinux1_x86_64.manylinux_2_17_x86_64.manylinux2014_x86_64.whl (30 kB)\n",
            "Requirement already satisfied: setuptools in /usr/local/lib/python3.10/dist-packages (from wandb) (67.7.2)\n",
            "Requirement already satisfied: appdirs>=1.4.3 in /usr/local/lib/python3.10/dist-packages (from wandb) (1.4.4)\n",
            "Requirement already satisfied: protobuf!=4.21.0,<5,>=3.19.0 in /usr/local/lib/python3.10/dist-packages (from wandb) (3.20.3)\n",
            "Requirement already satisfied: six>=1.4.0 in /usr/local/lib/python3.10/dist-packages (from docker-pycreds>=0.4.0->wandb) (1.16.0)\n",
            "Collecting gitdb<5,>=4.0.1 (from GitPython!=3.1.29,>=1.0.0->wandb)\n",
            "  Downloading gitdb-4.0.11-py3-none-any.whl (62 kB)\n",
            "\u001b[2K     \u001b[90m━━━━━━━━━━━━━━━━━━━━━━━━━━━━━━━━━━━━━━━━\u001b[0m \u001b[32m62.7/62.7 kB\u001b[0m \u001b[31m7.6 MB/s\u001b[0m eta \u001b[36m0:00:00\u001b[0m\n",
            "\u001b[?25hRequirement already satisfied: charset-normalizer<4,>=2 in /usr/local/lib/python3.10/dist-packages (from requests<3,>=2.0.0->wandb) (3.3.2)\n",
            "Requirement already satisfied: idna<4,>=2.5 in /usr/local/lib/python3.10/dist-packages (from requests<3,>=2.0.0->wandb) (3.6)\n",
            "Requirement already satisfied: urllib3<3,>=1.21.1 in /usr/local/lib/python3.10/dist-packages (from requests<3,>=2.0.0->wandb) (2.0.7)\n",
            "Requirement already satisfied: certifi>=2017.4.17 in /usr/local/lib/python3.10/dist-packages (from requests<3,>=2.0.0->wandb) (2024.2.2)\n",
            "Collecting smmap<6,>=3.0.1 (from gitdb<5,>=4.0.1->GitPython!=3.1.29,>=1.0.0->wandb)\n",
            "  Downloading smmap-5.0.1-py3-none-any.whl (24 kB)\n",
            "Installing collected packages: smmap, setproctitle, sentry-sdk, docker-pycreds, gitdb, GitPython, wandb\n",
            "Successfully installed GitPython-3.1.41 docker-pycreds-0.4.0 gitdb-4.0.11 sentry-sdk-1.40.3 setproctitle-1.3.3 smmap-5.0.1 wandb-0.16.3\n"
          ]
        }
      ],
      "source": [
        "!pip install wandb"
      ]
    },
    {
      "cell_type": "code",
      "execution_count": 27,
      "metadata": {
        "id": "TiFLBRDsdISi"
      },
      "outputs": [],
      "source": [
        "import wandb\n",
        "from wandb.keras import WandbCallback\n"
      ]
    },
    {
      "cell_type": "code",
      "execution_count": 9,
      "metadata": {
        "colab": {
          "base_uri": "https://localhost:8080/"
        },
        "id": "bb7Bpm9VdISi",
        "outputId": "adaa995b-8ced-4f24-dcc2-c92ac4d0fde7"
      },
      "outputs": [
        {
          "output_type": "stream",
          "name": "stdout",
          "text": [
            "\u001b[34m\u001b[1mwandb\u001b[0m: Logging into wandb.ai. (Learn how to deploy a W&B server locally: https://wandb.me/wandb-server)\n",
            "\u001b[34m\u001b[1mwandb\u001b[0m: You can find your API key in your browser here: https://wandb.ai/authorize\n",
            "\u001b[34m\u001b[1mwandb\u001b[0m: Paste an API key from your profile and hit enter, or press ctrl+c to quit: \n",
            "\u001b[34m\u001b[1mwandb\u001b[0m: Appending key for api.wandb.ai to your netrc file: /root/.netrc\n"
          ]
        }
      ],
      "source": [
        "!wandb login"
      ]
    },
    {
      "cell_type": "code",
      "execution_count": null,
      "metadata": {
        "id": "uW0ZyULOrmv2"
      },
      "outputs": [],
      "source": [
        "wandb.finish()"
      ]
    },
    {
      "cell_type": "code",
      "execution_count": 10,
      "metadata": {
        "colab": {
          "base_uri": "https://localhost:8080/",
          "height": 142
        },
        "id": "GfB9xHs6dISi",
        "outputId": "5ad13cc2-3e60-46da-b450-b8961efe5956"
      },
      "outputs": [
        {
          "output_type": "stream",
          "name": "stderr",
          "text": [
            "\u001b[34m\u001b[1mwandb\u001b[0m: Currently logged in as: \u001b[33mbargougui-haikel\u001b[0m. Use \u001b[1m`wandb login --relogin`\u001b[0m to force relogin\n"
          ]
        },
        {
          "output_type": "display_data",
          "data": {
            "text/plain": [
              "<IPython.core.display.HTML object>"
            ],
            "text/html": [
              "Tracking run with wandb version 0.16.3"
            ]
          },
          "metadata": {}
        },
        {
          "output_type": "display_data",
          "data": {
            "text/plain": [
              "<IPython.core.display.HTML object>"
            ],
            "text/html": [
              "Run data is saved locally in <code>/content/wandb/run-20240212_111000-hppg6psh</code>"
            ]
          },
          "metadata": {}
        },
        {
          "output_type": "display_data",
          "data": {
            "text/plain": [
              "<IPython.core.display.HTML object>"
            ],
            "text/html": [
              "Syncing run <strong><a href='https://wandb.ai/bargougui-haikel/Malaria-Detection/runs/hppg6psh' target=\"_blank\">golden-rabbit-70</a></strong> to <a href='https://wandb.ai/bargougui-haikel/Malaria-Detection' target=\"_blank\">Weights & Biases</a> (<a href='https://wandb.me/run' target=\"_blank\">docs</a>)<br/>"
            ]
          },
          "metadata": {}
        },
        {
          "output_type": "display_data",
          "data": {
            "text/plain": [
              "<IPython.core.display.HTML object>"
            ],
            "text/html": [
              " View project at <a href='https://wandb.ai/bargougui-haikel/Malaria-Detection' target=\"_blank\">https://wandb.ai/bargougui-haikel/Malaria-Detection</a>"
            ]
          },
          "metadata": {}
        },
        {
          "output_type": "display_data",
          "data": {
            "text/plain": [
              "<IPython.core.display.HTML object>"
            ],
            "text/html": [
              " View run at <a href='https://wandb.ai/bargougui-haikel/Malaria-Detection/runs/hppg6psh' target=\"_blank\">https://wandb.ai/bargougui-haikel/Malaria-Detection/runs/hppg6psh</a>"
            ]
          },
          "metadata": {}
        },
        {
          "output_type": "execute_result",
          "data": {
            "text/html": [
              "<button onClick=\"this.nextSibling.style.display='block';this.style.display='none';\">Display W&B run</button><iframe src='https://wandb.ai/bargougui-haikel/Malaria-Detection/runs/hppg6psh?jupyter=true' style='border:none;width:100%;height:420px;display:none;'></iframe>"
            ],
            "text/plain": [
              "<wandb.sdk.wandb_run.Run at 0x7f3098ca7130>"
            ]
          },
          "metadata": {},
          "execution_count": 10
        }
      ],
      "source": [
        "wandb.init(project=\"Malaria-Detection\", entity=\"bargougui-haikel\", sync_tensorboard=True)"
      ]
    },
    {
      "cell_type": "code",
      "execution_count": 13,
      "metadata": {
        "id": "TrLXApouk7qS",
        "colab": {
          "base_uri": "https://localhost:8080/"
        },
        "outputId": "e745380d-8177-4a6b-9e93-f0b4115e014d"
      },
      "outputs": [
        {
          "output_type": "stream",
          "name": "stdout",
          "text": [
            "1000\n",
            "2000\n",
            "3000\n",
            "4000\n",
            "5000\n",
            "6000\n",
            "7000\n",
            "8000\n",
            "9000\n",
            "10000\n",
            "11000\n",
            "12000\n",
            "13000\n",
            "14000\n",
            "15000\n",
            "16000\n",
            "17000\n",
            "18000\n",
            "19000\n",
            "20000\n",
            "21000\n",
            "22000\n",
            "23000\n",
            "24000\n",
            "25000\n",
            "26000\n",
            "27000\n"
          ]
        }
      ],
      "source": [
        "k = 0\n",
        "for data in dataset[0]:\n",
        "\n",
        "  with open('dataset/malaria_dataset_'+str(k) + '.npz', mode = 'wb') as file:\n",
        "      np.savez(file, data)\n",
        "  k += 1\n",
        "  if(k%1000 == 0):\n",
        "    print(k)\n"
      ]
    },
    {
      "cell_type": "code",
      "execution_count": 14,
      "metadata": {
        "id": "cxqV8ZsodISi"
      },
      "outputs": [],
      "source": [
        "def load_original_data():\n",
        "  with wandb.init(project=\"Malaria-Detection\", entity=\"bargougui-haikel\") as run:\n",
        "\n",
        "    original_data = wandb.Artifact(\n",
        "        name = \"new_dataset\",\n",
        "        type=\"raw_data\",\n",
        "        description = \"The Malaria dataset contains a total of 27,558 cell images with equal instances of parasitized and uninfected cells from the thin blood smear slide images of segmented cells.\",\n",
        "        metadata = {\"source\": \"TFDS\",\n",
        "                    \"homepage\": \"https://lhncbc.nlm.nih.gov/publication/pub9932\",\n",
        "                    \"source_code\": \"tfds.image_classification.Malaria\",\n",
        "                    \"version\": \"1.0.0\",\n",
        "                    \"download_size\": \"337.08 MiB\",\n",
        "                    }\n",
        "    )\n",
        "\n",
        "    original_data.add_dir('dataset/')\n",
        "\n",
        "    run.log_artifact(original_data)"
      ]
    },
    {
      "cell_type": "code",
      "execution_count": null,
      "metadata": {
        "id": "al_NEVftk6wk"
      },
      "outputs": [],
      "source": []
    },
    {
      "cell_type": "code",
      "execution_count": 15,
      "metadata": {
        "id": "o2dZiiDOjqzl"
      },
      "outputs": [],
      "source": [
        "load_original_data()"
      ]
    },
    {
      "cell_type": "markdown",
      "metadata": {
        "id": "-4w3GJ3vmRyN"
      },
      "source": [
        "### Data Preprocessing"
      ]
    },
    {
      "cell_type": "code",
      "execution_count": 17,
      "metadata": {
        "colab": {
          "base_uri": "https://localhost:8080/",
          "height": 208,
          "referenced_widgets": [
            "39699f6781cd49b7a3dd53a93e972609",
            "fd8e7a071bff4c2cad45660b0ecef420",
            "f290a10a43dc42e4adaa3ff8bf457d4d",
            "b784a949cf6b471e97fcefdf5a05dc57",
            "3595666f1fca4f41969df499c635170e",
            "4a9ce1761e214ef5a54e2837cf88baec",
            "43489dd1f98a484887f3845582e4ed66",
            "29644c12bd2947d494539f34b7b36997"
          ]
        },
        "id": "acMN8k9rmSOg",
        "outputId": "14b23009-ef59-4a5e-f22e-1ff110892c5f"
      },
      "outputs": [
        {
          "output_type": "display_data",
          "data": {
            "text/plain": [
              "<IPython.core.display.HTML object>"
            ],
            "text/html": [
              "Tracking run with wandb version 0.16.3"
            ]
          },
          "metadata": {}
        },
        {
          "output_type": "display_data",
          "data": {
            "text/plain": [
              "<IPython.core.display.HTML object>"
            ],
            "text/html": [
              "Run data is saved locally in <code>/content/wandb/run-20240212_104531-mslt0bqn</code>"
            ]
          },
          "metadata": {}
        },
        {
          "output_type": "display_data",
          "data": {
            "text/plain": [
              "<IPython.core.display.HTML object>"
            ],
            "text/html": [
              "Syncing run <strong><a href='https://wandb.ai/bargougui-haikel/Malaria-Detection/runs/mslt0bqn' target=\"_blank\">lucky-fish-63</a></strong> to <a href='https://wandb.ai/bargougui-haikel/Malaria-Detection' target=\"_blank\">Weights & Biases</a> (<a href='https://wandb.me/run' target=\"_blank\">docs</a>)<br/>"
            ]
          },
          "metadata": {}
        },
        {
          "output_type": "display_data",
          "data": {
            "text/plain": [
              "<IPython.core.display.HTML object>"
            ],
            "text/html": [
              " View project at <a href='https://wandb.ai/bargougui-haikel/Malaria-Detection' target=\"_blank\">https://wandb.ai/bargougui-haikel/Malaria-Detection</a>"
            ]
          },
          "metadata": {}
        },
        {
          "output_type": "display_data",
          "data": {
            "text/plain": [
              "<IPython.core.display.HTML object>"
            ],
            "text/html": [
              " View run at <a href='https://wandb.ai/bargougui-haikel/Malaria-Detection/runs/mslt0bqn' target=\"_blank\">https://wandb.ai/bargougui-haikel/Malaria-Detection/runs/mslt0bqn</a>"
            ]
          },
          "metadata": {}
        },
        {
          "output_type": "stream",
          "name": "stderr",
          "text": [
            "\u001b[34m\u001b[1mwandb\u001b[0m: Downloading large artifact new_dataset:v6, 1423.80MB. 27558 files... \n",
            "\u001b[34m\u001b[1mwandb\u001b[0m:   27558 of 27558 files downloaded.  \n",
            "Done. 0:2:58.2\n"
          ]
        },
        {
          "output_type": "display_data",
          "data": {
            "text/plain": [
              "VBox(children=(Label(value='0.001 MB of 0.001 MB uploaded\\r'), FloatProgress(value=1.0, max=1.0)))"
            ],
            "application/vnd.jupyter.widget-view+json": {
              "version_major": 2,
              "version_minor": 0,
              "model_id": "39699f6781cd49b7a3dd53a93e972609"
            }
          },
          "metadata": {}
        },
        {
          "output_type": "display_data",
          "data": {
            "text/plain": [
              "<IPython.core.display.HTML object>"
            ],
            "text/html": [
              " View run <strong style=\"color:#cdcd00\">lucky-fish-63</strong> at: <a href='https://wandb.ai/bargougui-haikel/Malaria-Detection/runs/mslt0bqn' target=\"_blank\">https://wandb.ai/bargougui-haikel/Malaria-Detection/runs/mslt0bqn</a><br/>Synced 5 W&B file(s), 0 media file(s), 0 artifact file(s) and 0 other file(s)"
            ]
          },
          "metadata": {}
        },
        {
          "output_type": "display_data",
          "data": {
            "text/plain": [
              "<IPython.core.display.HTML object>"
            ],
            "text/html": [
              "Find logs at: <code>./wandb/run-20240212_104531-mslt0bqn/logs</code>"
            ]
          },
          "metadata": {}
        }
      ],
      "source": [
        "# with wandb.init(project=\"Malaria-Detection\", entity=\"bargougui-haikel\") as run:\n",
        "#   artifact = run.use_artifact('bargougui-haikel/Malaria-Detection/new_dataset:v6', type='raw_data')\n",
        "#   artifact_dir = artifact.download()"
      ]
    },
    {
      "cell_type": "code",
      "execution_count": 16,
      "metadata": {
        "id": "vvCh9mCZmSR6"
      },
      "outputs": [],
      "source": [
        "IM_SIZE = 224\n",
        "def resize_rescale(image):\n",
        "  return tf.image.resize(image, (IM_SIZE, IM_SIZE))/255.0"
      ]
    },
    {
      "cell_type": "code",
      "execution_count": 17,
      "metadata": {
        "id": "EN0KcGVfkiQu"
      },
      "outputs": [],
      "source": [
        "import os\n",
        "def preprocess_data():\n",
        "  with wandb.init(project=\"Malaria-Detection\", entity=\"bargougui-haikel\") as run:\n",
        "\n",
        "    preprocessed_data = wandb.Artifact(\n",
        "        name = \"preprocessed_dataset\",\n",
        "        type=\"preprocessed_data\",\n",
        "        description = \"A Preprocessed version of the Malaria dataset\",\n",
        "\n",
        "    )\n",
        "\n",
        "    artifact_directory = \"dataset/\"\n",
        "\n",
        "    dataset_x = []\n",
        "    dataset_y = []\n",
        "\n",
        "    for f in os.listdir(artifact_directory)[:1000]:\n",
        "      with open(artifact_directory + f, 'rb') as file:\n",
        "        npz_array = np.load(file, allow_pickle = True)\n",
        "\n",
        "        x,y = npz_array.f.arr_0\n",
        "\n",
        "        dataset_x.append(resize_rescale(x))\n",
        "        dataset_y.append(y)\n",
        "\n",
        "    #dataset = tf.data.Dataset.from_tensor_slices((dataset_x, dataset_y))\n",
        "\n",
        "    with preprocessed_data.new_file(\"prep_dataset.npz\", mode = \"wb\") as file:\n",
        "        np.savez(file, [dataset_x, dataset_y])\n",
        "    run.log_artifact(preprocessed_data)"
      ]
    },
    {
      "cell_type": "code",
      "execution_count": 18,
      "metadata": {
        "id": "Z8O6TjdGoCXL"
      },
      "outputs": [],
      "source": [
        "preprocess_data()"
      ]
    },
    {
      "cell_type": "markdown",
      "metadata": {
        "id": "MqP-UGr2oMdm"
      },
      "source": [
        "### Data Splitting"
      ]
    },
    {
      "cell_type": "code",
      "execution_count": 19,
      "metadata": {
        "colab": {
          "base_uri": "https://localhost:8080/",
          "height": 295,
          "referenced_widgets": [
            "4895f979710a4da897e442a9a8709fc5",
            "099aa71b7c6441a4bd034aa0ec912c4b",
            "d56e2d7fadaf4c21ba6ace63603e2644",
            "c8b64f8ee828475f8478ebc1c3614cb2",
            "f6641a7e6aad4bcbbf4be658f70e9d80",
            "665ef5827da14f798127b2685b6d1ca5",
            "59182a612e334ff5af2392642c396ff2",
            "5d74af06152e4ece8a9ca58b35d3fa49",
            "6ec4fee45bf0472885f126b0f375816e",
            "eb4c041729b649b1a1ca361bc4c46ba4",
            "0f7be986ba62464db2636ba325d24c70",
            "7d91243c6bdb409fa559e47792602aea",
            "5cd1ebbb5a7546419dad0cacc2d74649",
            "d65436c3b68f4c86b1f600d598e0eb4d",
            "eb36ec426f37462b9ea2360366715bee",
            "16b8b03336f3485aa7aeb7cd3ca1f347"
          ]
        },
        "id": "PKXDCvTvoLvk",
        "outputId": "e2a656b9-2a0f-413e-acf2-eb847f0babe7"
      },
      "outputs": [
        {
          "output_type": "display_data",
          "data": {
            "text/plain": [
              "<IPython.core.display.HTML object>"
            ],
            "text/html": [
              "Finishing last run (ID:hppg6psh) before initializing another..."
            ]
          },
          "metadata": {}
        },
        {
          "output_type": "display_data",
          "data": {
            "text/plain": [
              "VBox(children=(Label(value='0.001 MB of 0.001 MB uploaded\\r'), FloatProgress(value=1.0, max=1.0)))"
            ],
            "application/vnd.jupyter.widget-view+json": {
              "version_major": 2,
              "version_minor": 0,
              "model_id": "4895f979710a4da897e442a9a8709fc5"
            }
          },
          "metadata": {}
        },
        {
          "output_type": "display_data",
          "data": {
            "text/plain": [
              "<IPython.core.display.HTML object>"
            ],
            "text/html": [
              " View run <strong style=\"color:#cdcd00\">golden-rabbit-70</strong> at: <a href='https://wandb.ai/bargougui-haikel/Malaria-Detection/runs/hppg6psh' target=\"_blank\">https://wandb.ai/bargougui-haikel/Malaria-Detection/runs/hppg6psh</a><br/>Synced 5 W&B file(s), 0 media file(s), 0 artifact file(s) and 0 other file(s)"
            ]
          },
          "metadata": {}
        },
        {
          "output_type": "display_data",
          "data": {
            "text/plain": [
              "<IPython.core.display.HTML object>"
            ],
            "text/html": [
              "Find logs at: <code>./wandb/run-20240212_111000-hppg6psh/logs</code>"
            ]
          },
          "metadata": {}
        },
        {
          "output_type": "display_data",
          "data": {
            "text/plain": [
              "<IPython.core.display.HTML object>"
            ],
            "text/html": [
              "Successfully finished last run (ID:hppg6psh). Initializing new run:<br/>"
            ]
          },
          "metadata": {}
        },
        {
          "output_type": "display_data",
          "data": {
            "text/plain": [
              "<IPython.core.display.HTML object>"
            ],
            "text/html": [
              "Tracking run with wandb version 0.16.3"
            ]
          },
          "metadata": {}
        },
        {
          "output_type": "display_data",
          "data": {
            "text/plain": [
              "<IPython.core.display.HTML object>"
            ],
            "text/html": [
              "Run data is saved locally in <code>/content/wandb/run-20240212_111346-hebjo98r</code>"
            ]
          },
          "metadata": {}
        },
        {
          "output_type": "display_data",
          "data": {
            "text/plain": [
              "<IPython.core.display.HTML object>"
            ],
            "text/html": [
              "Syncing run <strong><a href='https://wandb.ai/bargougui-haikel/Malaria-Detection/runs/hebjo98r' target=\"_blank\">filigreed-laughter-71</a></strong> to <a href='https://wandb.ai/bargougui-haikel/Malaria-Detection' target=\"_blank\">Weights & Biases</a> (<a href='https://wandb.me/run' target=\"_blank\">docs</a>)<br/>"
            ]
          },
          "metadata": {}
        },
        {
          "output_type": "display_data",
          "data": {
            "text/plain": [
              "<IPython.core.display.HTML object>"
            ],
            "text/html": [
              " View project at <a href='https://wandb.ai/bargougui-haikel/Malaria-Detection' target=\"_blank\">https://wandb.ai/bargougui-haikel/Malaria-Detection</a>"
            ]
          },
          "metadata": {}
        },
        {
          "output_type": "display_data",
          "data": {
            "text/plain": [
              "<IPython.core.display.HTML object>"
            ],
            "text/html": [
              " View run at <a href='https://wandb.ai/bargougui-haikel/Malaria-Detection/runs/hebjo98r' target=\"_blank\">https://wandb.ai/bargougui-haikel/Malaria-Detection/runs/hebjo98r</a>"
            ]
          },
          "metadata": {}
        },
        {
          "output_type": "stream",
          "name": "stderr",
          "text": [
            "\u001b[34m\u001b[1mwandb\u001b[0m: Downloading large artifact preprocessed_dataset:v3, 574.34MB. 1 files... \n",
            "\u001b[34m\u001b[1mwandb\u001b[0m:   1 of 1 files downloaded.  \n",
            "Done. 0:0:15.7\n"
          ]
        },
        {
          "output_type": "display_data",
          "data": {
            "text/plain": [
              "VBox(children=(Label(value='0.010 MB of 0.010 MB uploaded\\r'), FloatProgress(value=1.0, max=1.0)))"
            ],
            "application/vnd.jupyter.widget-view+json": {
              "version_major": 2,
              "version_minor": 0,
              "model_id": "6ec4fee45bf0472885f126b0f375816e"
            }
          },
          "metadata": {}
        },
        {
          "output_type": "display_data",
          "data": {
            "text/plain": [
              "<IPython.core.display.HTML object>"
            ],
            "text/html": [
              " View run <strong style=\"color:#cdcd00\">filigreed-laughter-71</strong> at: <a href='https://wandb.ai/bargougui-haikel/Malaria-Detection/runs/hebjo98r' target=\"_blank\">https://wandb.ai/bargougui-haikel/Malaria-Detection/runs/hebjo98r</a><br/>Synced 5 W&B file(s), 0 media file(s), 0 artifact file(s) and 0 other file(s)"
            ]
          },
          "metadata": {}
        },
        {
          "output_type": "display_data",
          "data": {
            "text/plain": [
              "<IPython.core.display.HTML object>"
            ],
            "text/html": [
              "Find logs at: <code>./wandb/run-20240212_111346-hebjo98r/logs</code>"
            ]
          },
          "metadata": {}
        }
      ],
      "source": [
        "with wandb.init(project=\"Malaria-Detection\", entity=\"bargougui-haikel\") as run:\n",
        " artifact = run.use_artifact('bargougui-haikel/Malaria-Detection/preprocessed_dataset:v3', type='preprocessed_data')\n",
        " artifact_dir = artifact.download()"
      ]
    },
    {
      "cell_type": "code",
      "execution_count": 20,
      "metadata": {
        "id": "YU8G6gRaoCY7"
      },
      "outputs": [],
      "source": [
        "def split_data():\n",
        "  with wandb.init(project=\"Malaria-Detection\", entity=\"bargougui-haikel\") as run:\n",
        "\n",
        "\n",
        "    train_data = wandb.Artifact(\n",
        "        name = \"train_dataset\",\n",
        "        type=\"preprocessed_data\",\n",
        "        description = \"Training dataset\",\n",
        "\n",
        "    )\n",
        "    val_data = wandb.Artifact(\n",
        "\n",
        "        name = \"val_dataset\",\n",
        "        type=\"preprocessed_data\",\n",
        "        description = \"Validation dataset\",\n",
        "\n",
        "        )\n",
        "    test_data = wandb.Artifact(\n",
        "        name = \"test_dataset\",\n",
        "        type=\"preprocessed_data\",\n",
        "        description = \"Test dataset\",\n",
        "\n",
        "        )\n",
        "\n",
        "    artifact_file = \"artifacts/preprocessed_dataset:v3/prep_dataset.npz\"\n",
        "\n",
        "    with open(artifact_file, 'rb') as file:\n",
        "      npz_arr = np.load(file, allow_pickle = True)\n",
        "      arr = npz_arr.f.arr_0\n",
        "\n",
        "    train_split = 0.8\n",
        "    val_split = 0.1\n",
        "    test_split = 0.1\n",
        "\n",
        "    data_len = len(arr[0])\n",
        "\n",
        "    train_arr = [arr[0][0:int(train_split*data_len)], arr[1][0:int(train_split*data_len)]]\n",
        "    val_arr = [arr[0][int(train_split*data_len):int((train_split+val_split)*data_len)], arr[1][int(train_split*data_len):int((train_split+val_split)*data_len)] ]\n",
        "    test_arr = [arr[0][int((train_split+val_split)*data_len):], arr[1][int((train_split+val_split)*data_len):] ]\n",
        "\n",
        "\n",
        "    with train_data.new_file(\"train_dataset.npz\", mode = \"wb\") as file:\n",
        "        np.savez(file, train_arr)\n",
        "\n",
        "    with val_data.new_file(\"val_dataset.npz\", mode = \"wb\") as file:\n",
        "        np.savez(file, val_arr)\n",
        "\n",
        "    with test_data.new_file(\"test_dataset.npz\", mode = \"wb\") as file:\n",
        "        np.savez(file, test_arr)\n",
        "\n",
        "\n",
        "    run.log_artifact(train_data)\n",
        "    run.log_artifact(val_data)\n",
        "    run.log_artifact(test_data)"
      ]
    },
    {
      "cell_type": "code",
      "execution_count": null,
      "metadata": {
        "colab": {
          "base_uri": "https://localhost:8080/",
          "height": 156,
          "referenced_widgets": [
            "9779d41c433f4a60869089a31ccb6c83",
            "37abdf18d7f14cf38e9c63751ded01dd",
            "d3ca4f2302fd445bb601dc0c9639aafd",
            "3609062aef8d4360aa7d573f624d981a",
            "ceeb263ae8524c689c5e19ce94dc6009",
            "62d9d1254058427d9f0d6758ca382e6e",
            "d4ad7deed96c448b8a67dc9e2682c0f4",
            "f26eed49c286401593b961bb676aa2ea"
          ]
        },
        "id": "4QTKRtlgoCch",
        "outputId": "fe78f1a2-6c20-490e-fe53-69b0e94059f0"
      },
      "outputs": [
        {
          "data": {
            "text/html": [
              "Tracking run with wandb version 0.16.3"
            ],
            "text/plain": [
              "<IPython.core.display.HTML object>"
            ]
          },
          "metadata": {},
          "output_type": "display_data"
        },
        {
          "data": {
            "text/html": [
              "Run data is saved locally in <code>/content/wandb/run-20240211_204842-w68ekynf</code>"
            ],
            "text/plain": [
              "<IPython.core.display.HTML object>"
            ]
          },
          "metadata": {},
          "output_type": "display_data"
        },
        {
          "data": {
            "text/html": [
              "Syncing run <strong><a href='https://wandb.ai/bargougui-haikel/Malaria-Detection/runs/w68ekynf' target=\"_blank\">chromatic-ox-43</a></strong> to <a href='https://wandb.ai/bargougui-haikel/Malaria-Detection' target=\"_blank\">Weights & Biases</a> (<a href='https://wandb.me/run' target=\"_blank\">docs</a>)<br/>"
            ],
            "text/plain": [
              "<IPython.core.display.HTML object>"
            ]
          },
          "metadata": {},
          "output_type": "display_data"
        },
        {
          "data": {
            "text/html": [
              " View project at <a href='https://wandb.ai/bargougui-haikel/Malaria-Detection' target=\"_blank\">https://wandb.ai/bargougui-haikel/Malaria-Detection</a>"
            ],
            "text/plain": [
              "<IPython.core.display.HTML object>"
            ]
          },
          "metadata": {},
          "output_type": "display_data"
        },
        {
          "data": {
            "text/html": [
              " View run at <a href='https://wandb.ai/bargougui-haikel/Malaria-Detection/runs/w68ekynf' target=\"_blank\">https://wandb.ai/bargougui-haikel/Malaria-Detection/runs/w68ekynf</a>"
            ],
            "text/plain": [
              "<IPython.core.display.HTML object>"
            ]
          },
          "metadata": {},
          "output_type": "display_data"
        },
        {
          "data": {
            "application/vnd.jupyter.widget-view+json": {
              "model_id": "9779d41c433f4a60869089a31ccb6c83",
              "version_major": 2,
              "version_minor": 0
            },
            "text/plain": [
              "VBox(children=(Label(value='114.236 MB of 574.349 MB uploaded\\r'), FloatProgress(value=0.198895852002816, max=…"
            ]
          },
          "metadata": {},
          "output_type": "display_data"
        },
        {
          "data": {
            "text/html": [
              " View run <strong style=\"color:#cdcd00\">chromatic-ox-43</strong> at: <a href='https://wandb.ai/bargougui-haikel/Malaria-Detection/runs/w68ekynf' target=\"_blank\">https://wandb.ai/bargougui-haikel/Malaria-Detection/runs/w68ekynf</a><br/>Synced 4 W&B file(s), 0 media file(s), 3 artifact file(s) and 0 other file(s)"
            ],
            "text/plain": [
              "<IPython.core.display.HTML object>"
            ]
          },
          "metadata": {},
          "output_type": "display_data"
        },
        {
          "data": {
            "text/html": [
              "Find logs at: <code>./wandb/run-20240211_204842-w68ekynf/logs</code>"
            ],
            "text/plain": [
              "<IPython.core.display.HTML object>"
            ]
          },
          "metadata": {},
          "output_type": "display_data"
        }
      ],
      "source": [
        "split_data()"
      ]
    },
    {
      "cell_type": "markdown",
      "metadata": {
        "id": "_bHtAzqEogCC"
      },
      "source": [
        "### Data augmentation"
      ]
    },
    {
      "cell_type": "code",
      "execution_count": null,
      "metadata": {
        "id": "uu5v9J0DogYn"
      },
      "outputs": [],
      "source": [
        "### tf.image augment\n",
        "def augment(image):\n",
        "  image = tf.image.rot90(image)\n",
        "  image = tf.image.flip_left_right(image)\n",
        "\n",
        "  return image"
      ]
    },
    {
      "cell_type": "code",
      "execution_count": null,
      "metadata": {
        "colab": {
          "base_uri": "https://localhost:8080/",
          "height": 208,
          "referenced_widgets": [
            "cf6493a99c694ea2b9cf0ff60cbda612",
            "16a837e1d19a41fc88ac2f05d295419a",
            "a27103bb02014d35a26bde245a9f2def",
            "3c1fb8bd64374cc59937bf468cff0a77",
            "1e1891c3f8a34a2d9dd421edee480305",
            "d1b841301c1e448b8a1d9434025f983c",
            "e85d2819a74341418f8eec1ae952791d",
            "92b43eb0147a486197c7ca838439a4aa"
          ]
        },
        "id": "lN8ntcUY7-Nh",
        "outputId": "9f522ecf-b492-45bd-e94b-d47319f6bb17"
      },
      "outputs": [
        {
          "data": {
            "text/html": [
              "Tracking run with wandb version 0.16.3"
            ],
            "text/plain": [
              "<IPython.core.display.HTML object>"
            ]
          },
          "metadata": {},
          "output_type": "display_data"
        },
        {
          "data": {
            "text/html": [
              "Run data is saved locally in <code>/content/wandb/run-20240211_205238-jz1pn7qs</code>"
            ],
            "text/plain": [
              "<IPython.core.display.HTML object>"
            ]
          },
          "metadata": {},
          "output_type": "display_data"
        },
        {
          "data": {
            "text/html": [
              "Syncing run <strong><a href='https://wandb.ai/bargougui-haikel/Malaria-Detection/runs/jz1pn7qs' target=\"_blank\">legendary-firecracker-45</a></strong> to <a href='https://wandb.ai/bargougui-haikel/Malaria-Detection' target=\"_blank\">Weights & Biases</a> (<a href='https://wandb.me/run' target=\"_blank\">docs</a>)<br/>"
            ],
            "text/plain": [
              "<IPython.core.display.HTML object>"
            ]
          },
          "metadata": {},
          "output_type": "display_data"
        },
        {
          "data": {
            "text/html": [
              " View project at <a href='https://wandb.ai/bargougui-haikel/Malaria-Detection' target=\"_blank\">https://wandb.ai/bargougui-haikel/Malaria-Detection</a>"
            ],
            "text/plain": [
              "<IPython.core.display.HTML object>"
            ]
          },
          "metadata": {},
          "output_type": "display_data"
        },
        {
          "data": {
            "text/html": [
              " View run at <a href='https://wandb.ai/bargougui-haikel/Malaria-Detection/runs/jz1pn7qs' target=\"_blank\">https://wandb.ai/bargougui-haikel/Malaria-Detection/runs/jz1pn7qs</a>"
            ],
            "text/plain": [
              "<IPython.core.display.HTML object>"
            ]
          },
          "metadata": {},
          "output_type": "display_data"
        },
        {
          "name": "stderr",
          "output_type": "stream",
          "text": [
            "\u001b[34m\u001b[1mwandb\u001b[0m: Downloading large artifact train_dataset:v0, 459.47MB. 1 files... \n",
            "\u001b[34m\u001b[1mwandb\u001b[0m:   1 of 1 files downloaded.  \n",
            "Done. 0:0:1.3\n"
          ]
        },
        {
          "data": {
            "application/vnd.jupyter.widget-view+json": {
              "model_id": "cf6493a99c694ea2b9cf0ff60cbda612",
              "version_major": 2,
              "version_minor": 0
            },
            "text/plain": [
              "VBox(children=(Label(value='0.010 MB of 0.010 MB uploaded\\r'), FloatProgress(value=1.0, max=1.0)))"
            ]
          },
          "metadata": {},
          "output_type": "display_data"
        },
        {
          "data": {
            "text/html": [
              " View run <strong style=\"color:#cdcd00\">legendary-firecracker-45</strong> at: <a href='https://wandb.ai/bargougui-haikel/Malaria-Detection/runs/jz1pn7qs' target=\"_blank\">https://wandb.ai/bargougui-haikel/Malaria-Detection/runs/jz1pn7qs</a><br/>Synced 5 W&B file(s), 0 media file(s), 0 artifact file(s) and 0 other file(s)"
            ],
            "text/plain": [
              "<IPython.core.display.HTML object>"
            ]
          },
          "metadata": {},
          "output_type": "display_data"
        },
        {
          "data": {
            "text/html": [
              "Find logs at: <code>./wandb/run-20240211_205238-jz1pn7qs/logs</code>"
            ],
            "text/plain": [
              "<IPython.core.display.HTML object>"
            ]
          },
          "metadata": {},
          "output_type": "display_data"
        }
      ],
      "source": [
        "with wandb.init(project=\"Malaria-Detection\", entity=\"bargougui-haikel\") as run:\n",
        "    artifact = run.use_artifact('bargougui-haikel/Malaria-Detection/train_dataset:v0', type='preprocessed_data')\n",
        "    artifact_dir = artifact.download()"
      ]
    },
    {
      "cell_type": "code",
      "execution_count": null,
      "metadata": {
        "id": "67_HuZ1pol3r"
      },
      "outputs": [],
      "source": [
        "def augment_data():\n",
        "  with wandb.init(project=\"Malaria-Detection\", entity=\"bargougui-haikel\") as run:\n",
        "\n",
        "\n",
        "    augmented_data = wandb.Artifact(\n",
        "        name = \"Augmented_dataset\",\n",
        "        type=\"preprocessed_data\",\n",
        "        description = \"An Augmented version of the Malaria train dataset\",\n",
        "    )\n",
        "\n",
        "    artifact_file = \"artifacts/train_dataset:v0/train_dataset.npz\"\n",
        "\n",
        "    dataset_x = []\n",
        "\n",
        "    with open(artifact_file, 'rb') as file:\n",
        "        npz_array = np.load(file, allow_pickle = True)\n",
        "\n",
        "        arr = npz_array.f.arr_0\n",
        "\n",
        "        for im in arr[0]:\n",
        "          dataset_x.append(augment(im))\n",
        "        dataset_y = arr[1]\n",
        "\n",
        "    with augmented_data.new_file(\"aug_dataset.npz\", mode = \"wb\") as file:\n",
        "        np.savez(file, [dataset_x, dataset_y])\n",
        "    run.log_artifact(augmented_data)"
      ]
    },
    {
      "cell_type": "code",
      "execution_count": null,
      "metadata": {
        "colab": {
          "background_save": true,
          "referenced_widgets": [
            "cedcde9a3b6046809faf160aa1663d02"
          ]
        },
        "id": "9xT9hPrson7U",
        "outputId": "fb5c89c5-47c0-47ea-9245-b7fe209a6052"
      },
      "outputs": [
        {
          "data": {
            "application/vnd.jupyter.widget-view+json": {
              "model_id": "cedcde9a3b6046809faf160aa1663d02",
              "version_major": 2,
              "version_minor": 0
            },
            "text/plain": [
              "VBox(children=(Label(value='Waiting for wandb.init()...\\r'), FloatProgress(value=0.01111293516666794, max=1.0)…"
            ]
          },
          "metadata": {},
          "output_type": "display_data"
        }
      ],
      "source": [
        "augment_data()"
      ]
    },
    {
      "cell_type": "code",
      "execution_count": null,
      "metadata": {
        "id": "7e_N1tGd8dVY"
      },
      "outputs": [],
      "source": []
    },
    {
      "cell_type": "code",
      "execution_count": null,
      "metadata": {
        "id": "TIs1TMQD-V6L"
      },
      "outputs": [],
      "source": [
        "#############"
      ]
    },
    {
      "cell_type": "code",
      "execution_count": 21,
      "metadata": {
        "id": "N-ysT3ce-V9o"
      },
      "outputs": [],
      "source": [
        "def log_model():\n",
        "  with wandb.init(project=\"Malaria-Detection\", entity=\"bargougui-haikel\") as run:\n",
        "\n",
        "\n",
        "    untrained_model = wandb.Artifact(\n",
        "        name = \"Untrained_model\",\n",
        "        type=\"model\",\n",
        "        description = \"The initial version of our lenet model\",\n",
        "        metadata = CONFIGURATION\n",
        "    )\n",
        "    filename = 'lenet.h5'\n",
        "    seq_model.save(filename)\n",
        "\n",
        "    untrained_model.add_file(filename)\n",
        "    wandb.save(filename)\n",
        "    run.log_artifact(untrained_model)"
      ]
    },
    {
      "cell_type": "code",
      "source": [
        "#log_model()"
      ],
      "metadata": {
        "id": "mSGnOErNB9hz"
      },
      "execution_count": null,
      "outputs": []
    },
    {
      "cell_type": "code",
      "source": [
        "wandb.config = {\n",
        "  \"LEARNING_RATE\": 0.001,\n",
        "  \"N_EPOCHS\": 1,\n",
        "  \"BATCH_SIZE\": 128,\n",
        "  \"DROPOUT_RATE\": 0.0,\n",
        "  \"IM_SIZE\": 224,\n",
        "  \"REGULARIZATION_RATE\": 0.0,\n",
        "  \"N_FILTERS\": 6,\n",
        "  \"KERNEL_SIZE\": 3,\n",
        "  \"N_STRIDES\": 1,\n",
        "  \"POOL_SIZE\": 2,\n",
        "  \"N_DENSE_1\": 100,\n",
        "  \"N_DENSE_2\": 10,\n",
        "}\n",
        "CONFIGURATION = wandb.config"
      ],
      "metadata": {
        "id": "hnIcVvg4CRQS"
      },
      "execution_count": 30,
      "outputs": []
    },
    {
      "cell_type": "code",
      "source": [],
      "metadata": {
        "id": "8-69i18VJafg"
      },
      "execution_count": null,
      "outputs": []
    },
    {
      "cell_type": "code",
      "source": [
        "BATCH_SIZE = 32\n",
        "val_dataset = (\n",
        "     val_dataset\n",
        "    .map(resize_rescale)\n",
        "    .batch(BATCH_SIZE)\n",
        "    .prefetch(tf.data.AUTOTUNE)\n",
        ")"
      ],
      "metadata": {
        "id": "Z63TWh7tIiRb"
      },
      "execution_count": 44,
      "outputs": []
    },
    {
      "cell_type": "code",
      "source": [
        "val_dataset"
      ],
      "metadata": {
        "colab": {
          "base_uri": "https://localhost:8080/"
        },
        "id": "ZICDVoYBIv2l",
        "outputId": "798a8e5e-3a3b-40c8-ecc4-b2a1c2a2ee76"
      },
      "execution_count": 45,
      "outputs": [
        {
          "output_type": "execute_result",
          "data": {
            "text/plain": [
              "<_PrefetchDataset element_spec=(TensorSpec(shape=(None, 224, 224, 3), dtype=tf.float32, name=None), TensorSpec(shape=(None,), dtype=tf.int64, name=None))>"
            ]
          },
          "metadata": {},
          "execution_count": 45
        }
      ]
    },
    {
      "cell_type": "code",
      "source": [
        "def train_and_log():\n",
        "  with wandb.init(project=\"Malaria-Detection\", entity=\"bargougui-haikel\") as run:\n",
        "\n",
        "    artifact = run.use_artifact('bargougui-haikel/Malaria-Detection/Augmented_dataset:v0', type='preprocessed_data')\n",
        "    artifact_dir = artifact.download()\n",
        "\n",
        "    trained_sequential_model = wandb.Artifact(\n",
        "        name = \"Trained_Sequential_model\",\n",
        "        type=\"model\",\n",
        "        description = \"A trained version of our model\",\n",
        "        metadata = CONFIGURATION,\n",
        "    )\n",
        "\n",
        "    artifact_file = \"artifacts/Augmented_dataset:v0/aug_dataset.npz\"\n",
        "\n",
        "    dataset_x = []\n",
        "\n",
        "    with open(artifact_file, 'rb') as file:\n",
        "        npz_array = np.load(file, allow_pickle = True)\n",
        "\n",
        "        arr = npz_array.f.arr_0\n",
        "\n",
        "        for im in arr[0]:\n",
        "          dataset_x.append(im)\n",
        "        dataset_y = arr[1]\n",
        "\n",
        "\n",
        "    d_x = tf.convert_to_tensor(dataset_x, dtype = tf.float32)\n",
        "    d_y = tf.convert_to_tensor(dataset_y, dtype = tf.float32)\n",
        "\n",
        "    d = tf.data.Dataset.from_tensor_slices((d_x,d_y))\n",
        "\n",
        "    train_d = (\n",
        "        d\n",
        "        .shuffle(buffer_size = 1024, reshuffle_each_iteration = True)\n",
        "        .batch(32)\n",
        "        .prefetch(tf.data.AUTOTUNE)\n",
        "    )\n",
        "\n",
        "\n",
        "    artifact = run.use_artifact('bargougui-haikel/Malaria-Detection/Untrained_model:v0', type='model')\n",
        "    artifact_dir = artifact.download()\n",
        "\n",
        "    artifact_file = \"artifacts/Untrained_model:v0/lenet.h5\"\n",
        "\n",
        "    seq_model = tf.keras.models.load_model(artifact_file)\n",
        "\n",
        "    metrics = [TruePositives(name='tp'),FalsePositives(name='fp'), TrueNegatives(name='tn'), FalseNegatives(name='fn'),\n",
        "                BinaryAccuracy(name='accuracy'), Precision(name='precision'), Recall(name='recall'), AUC(name='auc')]\n",
        "\n",
        "    seq_model.compile(optimizer = Adam(learning_rate = CONFIGURATION['LEARNING_RATE']),\n",
        "          loss = BinaryCrossentropy(),\n",
        "          metrics = metrics)\n",
        "\n",
        "    seq_model.fit(\n",
        "        train_d,\n",
        "        validation_data = val_dataset,\n",
        "        epochs = 3,\n",
        "        verbose = 1,\n",
        "        callbacks=[WandbCallback()],\n",
        "    )\n",
        "\n",
        "    filename = 'seq_trained.h5'\n",
        "    seq_model.save(filename)\n",
        "\n",
        "    trained_sequential_model.add_file(filename)\n",
        "    wandb.save(filename)\n",
        "    run.log_artifact(trained_sequential_model)"
      ],
      "metadata": {
        "id": "ymUKvObUCRSj"
      },
      "execution_count": 48,
      "outputs": []
    },
    {
      "cell_type": "code",
      "source": [
        "wandb.log({\"accuracy\": 0.9})"
      ],
      "metadata": {
        "colab": {
          "base_uri": "https://localhost:8080/",
          "height": 297
        },
        "id": "I4hl03FIMbW-",
        "outputId": "504c2ecd-c106-4a73-bbe3-10b2590ba3e0"
      },
      "execution_count": 50,
      "outputs": [
        {
          "output_type": "error",
          "ename": "Error",
          "evalue": "You must call wandb.init() before wandb.log()",
          "traceback": [
            "\u001b[0;31m---------------------------------------------------------------------------\u001b[0m",
            "\u001b[0;31mError\u001b[0m                                     Traceback (most recent call last)",
            "\u001b[0;32m<ipython-input-50-cb6a9b6fd42a>\u001b[0m in \u001b[0;36m<cell line: 1>\u001b[0;34m()\u001b[0m\n\u001b[0;32m----> 1\u001b[0;31m \u001b[0mwandb\u001b[0m\u001b[0;34m.\u001b[0m\u001b[0mlog\u001b[0m\u001b[0;34m(\u001b[0m\u001b[0;34m{\u001b[0m\u001b[0;34m\"accuracy\"\u001b[0m\u001b[0;34m:\u001b[0m \u001b[0;36m0.9\u001b[0m\u001b[0;34m}\u001b[0m\u001b[0;34m)\u001b[0m\u001b[0;34m\u001b[0m\u001b[0;34m\u001b[0m\u001b[0m\n\u001b[0m",
            "\u001b[0;32m/usr/local/lib/python3.10/dist-packages/wandb/sdk/lib/preinit.py\u001b[0m in \u001b[0;36mpreinit_wrapper\u001b[0;34m(*args, **kwargs)\u001b[0m\n\u001b[1;32m     34\u001b[0m ) -> Callable:\n\u001b[1;32m     35\u001b[0m     \u001b[0;32mdef\u001b[0m \u001b[0mpreinit_wrapper\u001b[0m\u001b[0;34m(\u001b[0m\u001b[0;34m*\u001b[0m\u001b[0margs\u001b[0m\u001b[0;34m:\u001b[0m \u001b[0mAny\u001b[0m\u001b[0;34m,\u001b[0m \u001b[0;34m**\u001b[0m\u001b[0mkwargs\u001b[0m\u001b[0;34m:\u001b[0m \u001b[0mAny\u001b[0m\u001b[0;34m)\u001b[0m \u001b[0;34m->\u001b[0m \u001b[0mAny\u001b[0m\u001b[0;34m:\u001b[0m\u001b[0;34m\u001b[0m\u001b[0;34m\u001b[0m\u001b[0m\n\u001b[0;32m---> 36\u001b[0;31m         \u001b[0;32mraise\u001b[0m \u001b[0mwandb\u001b[0m\u001b[0;34m.\u001b[0m\u001b[0mError\u001b[0m\u001b[0;34m(\u001b[0m\u001b[0;34mf\"You must call wandb.init() before {name}()\"\u001b[0m\u001b[0;34m)\u001b[0m\u001b[0;34m\u001b[0m\u001b[0;34m\u001b[0m\u001b[0m\n\u001b[0m\u001b[1;32m     37\u001b[0m \u001b[0;34m\u001b[0m\u001b[0m\n\u001b[1;32m     38\u001b[0m     \u001b[0mpreinit_wrapper\u001b[0m\u001b[0;34m.\u001b[0m\u001b[0m__name__\u001b[0m \u001b[0;34m=\u001b[0m \u001b[0mstr\u001b[0m\u001b[0;34m(\u001b[0m\u001b[0mname\u001b[0m\u001b[0;34m)\u001b[0m\u001b[0;34m\u001b[0m\u001b[0;34m\u001b[0m\u001b[0m\n",
            "\u001b[0;31mError\u001b[0m: You must call wandb.init() before wandb.log()"
          ]
        }
      ]
    },
    {
      "cell_type": "code",
      "source": [
        "sweep_config = {\n",
        "  \"name\" : \"Malaria-Prediction-Sweep\",\n",
        "  \"method\" : \"random\",\n",
        "  \"metric\": {\n",
        "      \"name\" : \"accuracy\",\n",
        "      \"goal\" : \"maximize\",\n",
        "  },\n",
        "  \"parameters\" : {\n",
        "\n",
        "    \"IM_SIZE\": {\n",
        "        \"value\" : 224,\n",
        "    },\n",
        "\n",
        "    \"N_EPOCHS\": {\n",
        "        \"value\" : 1,\n",
        "    },\n",
        "\n",
        "    \"KERNEL_SIZE\": {\n",
        "        \"value\" : 3,\n",
        "    },\n",
        "\n",
        "    \"N_STRIDES\": {\n",
        "        \"value\" : 1,\n",
        "    },\n",
        "\n",
        "    \"POOL_SIZE\": {\n",
        "        \"value\" : 224,\n",
        "    },\n",
        "\n",
        "    \"N_FILTERS\" : {\n",
        "        \"value\" : 6,\n",
        "    },\n",
        "\n",
        "    \"N_DENSE_1\" : {\n",
        "      \"values\" : [16, 32]\n",
        "    },\n",
        "\n",
        "    \"N_DENSE_2\" : {\n",
        "      \"values\" : [16, 32]\n",
        "    },\n",
        "\n",
        "    \"DROPOUT_RATE\":{\n",
        "      \"min\": 0.3,\n",
        "      \"max\": 0.4\n",
        "    },\n",
        "\n",
        "    \"REGULARIZATION_RATE\" :{\n",
        "      \"distribution\": \"uniform\",\n",
        "      \"min\": 0.001,\n",
        "      \"max\": 0.1\n",
        "    },\n",
        "\n",
        "    \"LEARNING_RATE\" :{\n",
        "      \"distribution\": \"uniform\",\n",
        "      \"min\": 1e-3,\n",
        "      \"max\": 1e-2\n",
        "    }\n",
        "  },\n",
        "}\n",
        "\n",
        "sweep_id = wandb.sweep(sweep_config)"
      ],
      "metadata": {
        "colab": {
          "base_uri": "https://localhost:8080/"
        },
        "id": "WcCXuXl9CRW1",
        "outputId": "a196164f-09e0-438b-89da-e2e3dde5506f"
      },
      "execution_count": 59,
      "outputs": [
        {
          "output_type": "stream",
          "name": "stdout",
          "text": [
            "Create sweep with ID: d3ab6lfj\n",
            "Sweep URL: https://wandb.ai/bargougui-haikel/uncategorized/sweeps/d3ab6lfj\n"
          ]
        }
      ]
    },
    {
      "cell_type": "code",
      "source": [
        "IM_SIZE = 224\n",
        "def model_tune(config):\n",
        "  seq_model = tf.keras.Sequential([\n",
        "    InputLayer(input_shape = (224, 224, 3)),\n",
        "\n",
        "    Conv2D(filters = 6 , kernel_size = 3, strides = 1 , padding='valid',\n",
        "          activation = 'relu',kernel_regularizer = L2(config['REGULARIZATION_RATE'])),\n",
        "    BatchNormalization(),\n",
        "    MaxPool2D (pool_size = 1, strides= config['N_STRIDES']*2),\n",
        "    Dropout(rate = config['DROPOUT_RATE'] ),\n",
        "\n",
        "    Conv2D(filters = 16, kernel_size = 3, strides = 1, padding='valid',\n",
        "          activation = 'relu', kernel_regularizer = L2(config['REGULARIZATION_RATE'])),\n",
        "    BatchNormalization(),\n",
        "    MaxPool2D (pool_size = 1, strides= 2),\n",
        "\n",
        "    Flatten(),\n",
        "\n",
        "    Dense( config['N_DENSE_1'], activation = \"relu\", kernel_regularizer = L2(config['REGULARIZATION_RATE'])),\n",
        "    BatchNormalization(),\n",
        "    Dropout(rate = DROPOUT_RATE),\n",
        "\n",
        "    Dense( config['N_DENSE_2'], activation = \"relu\", kernel_regularizer = L2(config['REGULARIZATION_RATE'])),\n",
        "    BatchNormalization(),\n",
        "\n",
        "    Dense(1, activation = \"sigmoid\"),\n",
        "\n",
        "  ])\n",
        "\n",
        "\n",
        "  return seq_model"
      ],
      "metadata": {
        "id": "H7z1h4EsCRY0"
      },
      "execution_count": 60,
      "outputs": []
    },
    {
      "cell_type": "code",
      "source": [
        "wandb.config = {\n",
        "  \"LEARNING_RATE\": 0.001,\n",
        "  \"N_EPOCHS\": 1,\n",
        "  \"BATCH_SIZE\": 128,\n",
        "  \"DROPOUT_RATE\": 0.0,\n",
        "  \"IM_SIZE\": 224,\n",
        "  \"REGULARIZATION_RATE\": 0.0,\n",
        "  \"N_FILTERS\": 6,\n",
        "  \"KERNEL_SIZE\": 3,\n",
        "  \"N_STRIDES\": 1,\n",
        "  \"POOL_SIZE\": 2,\n",
        "  \"N_DENSE_1\": 100,\n",
        "  \"N_DENSE_2\": 10,\n",
        "}\n",
        "CONFIGURATION = wandb.config"
      ],
      "metadata": {
        "id": "Snzk8CyGCRa2"
      },
      "execution_count": 61,
      "outputs": []
    },
    {
      "cell_type": "code",
      "source": [
        "def train():\n",
        "    with wandb.init(project=\"Malaria-Detection\", entity=\"bargougui-haikel\") as run:\n",
        "        config = wandb.config\n",
        "        model = model_tune(config)\n",
        "        model.compile(\n",
        "              optimizer= Adam(\n",
        "              learning_rate = config['LEARNING_RATE']),\n",
        "              loss='binary_crossentropy',\n",
        "              metrics=['accuracy'],\n",
        "              )\n",
        "        model.fit(val_dataset, epochs=4, callbacks = [WandbCallback()])\n",
        "\n",
        "count = 5 # number of runs to execute\n",
        "wandb.agent(sweep_id, function=train, count=count)"
      ],
      "metadata": {
        "colab": {
          "base_uri": "https://localhost:8080/",
          "height": 433
        },
        "id": "7VOO7i_hCRc-",
        "outputId": "6d07a0e9-c81c-4967-ebc2-a663d051935c"
      },
      "execution_count": null,
      "outputs": [
        {
          "output_type": "stream",
          "name": "stderr",
          "text": [
            "\u001b[34m\u001b[1mwandb\u001b[0m: Agent Starting Run: dpa4thu4 with config:\n",
            "\u001b[34m\u001b[1mwandb\u001b[0m: \tDROPOUT_RATE: 0.3545586691665501\n",
            "\u001b[34m\u001b[1mwandb\u001b[0m: \tIM_SIZE: 224\n",
            "\u001b[34m\u001b[1mwandb\u001b[0m: \tKERNEL_SIZE: 3\n",
            "\u001b[34m\u001b[1mwandb\u001b[0m: \tLEARNING_RATE: 0.003910799782307523\n",
            "\u001b[34m\u001b[1mwandb\u001b[0m: \tN_DENSE_1: 16\n",
            "\u001b[34m\u001b[1mwandb\u001b[0m: \tN_DENSE_2: 32\n",
            "\u001b[34m\u001b[1mwandb\u001b[0m: \tN_EPOCHS: 1\n",
            "\u001b[34m\u001b[1mwandb\u001b[0m: \tN_FILTERS: 6\n",
            "\u001b[34m\u001b[1mwandb\u001b[0m: \tN_STRIDES: 1\n",
            "\u001b[34m\u001b[1mwandb\u001b[0m: \tPOOL_SIZE: 224\n",
            "\u001b[34m\u001b[1mwandb\u001b[0m: \tREGULARIZATION_RATE: 0.08921929127663406\n",
            "\u001b[34m\u001b[1mwandb\u001b[0m: \u001b[33mWARNING\u001b[0m Ignored wandb.init() arg project when running a sweep.\n",
            "\u001b[34m\u001b[1mwandb\u001b[0m: \u001b[33mWARNING\u001b[0m Ignored wandb.init() arg entity when running a sweep.\n"
          ]
        },
        {
          "output_type": "display_data",
          "data": {
            "text/plain": [
              "<IPython.core.display.HTML object>"
            ],
            "text/html": [
              "Tracking run with wandb version 0.16.3"
            ]
          },
          "metadata": {}
        },
        {
          "output_type": "display_data",
          "data": {
            "text/plain": [
              "<IPython.core.display.HTML object>"
            ],
            "text/html": [
              "Run data is saved locally in <code>/content/wandb/run-20240212_130102-dpa4thu4</code>"
            ]
          },
          "metadata": {}
        },
        {
          "output_type": "display_data",
          "data": {
            "text/plain": [
              "<IPython.core.display.HTML object>"
            ],
            "text/html": [
              "Syncing run <strong><a href='https://wandb.ai/bargougui-haikel/uncategorized/runs/dpa4thu4' target=\"_blank\">fancy-sweep-1</a></strong> to <a href='https://wandb.ai/bargougui-haikel/uncategorized' target=\"_blank\">Weights & Biases</a> (<a href='https://wandb.me/run' target=\"_blank\">docs</a>)<br/>Sweep page: <a href='https://wandb.ai/bargougui-haikel/uncategorized/sweeps/d3ab6lfj' target=\"_blank\">https://wandb.ai/bargougui-haikel/uncategorized/sweeps/d3ab6lfj</a>"
            ]
          },
          "metadata": {}
        },
        {
          "output_type": "display_data",
          "data": {
            "text/plain": [
              "<IPython.core.display.HTML object>"
            ],
            "text/html": [
              " View project at <a href='https://wandb.ai/bargougui-haikel/uncategorized' target=\"_blank\">https://wandb.ai/bargougui-haikel/uncategorized</a>"
            ]
          },
          "metadata": {}
        },
        {
          "output_type": "display_data",
          "data": {
            "text/plain": [
              "<IPython.core.display.HTML object>"
            ],
            "text/html": [
              " View sweep at <a href='https://wandb.ai/bargougui-haikel/uncategorized/sweeps/d3ab6lfj' target=\"_blank\">https://wandb.ai/bargougui-haikel/uncategorized/sweeps/d3ab6lfj</a>"
            ]
          },
          "metadata": {}
        },
        {
          "output_type": "display_data",
          "data": {
            "text/plain": [
              "<IPython.core.display.HTML object>"
            ],
            "text/html": [
              " View run at <a href='https://wandb.ai/bargougui-haikel/uncategorized/runs/dpa4thu4' target=\"_blank\">https://wandb.ai/bargougui-haikel/uncategorized/runs/dpa4thu4</a>"
            ]
          },
          "metadata": {}
        },
        {
          "output_type": "stream",
          "name": "stdout",
          "text": [
            "Epoch 1/4\n",
            "87/87 [==============================] - 118s 1s/step - loss: 5.7518 - accuracy: 0.6762\n",
            "Epoch 2/4\n"
          ]
        }
      ]
    },
    {
      "cell_type": "code",
      "source": [],
      "metadata": {
        "id": "_AnsvStjCRgd"
      },
      "execution_count": null,
      "outputs": []
    }
  ],
  "metadata": {
    "accelerator": "GPU",
    "colab": {
      "collapsed_sections": [
        "EivSG5ZCIzGm",
        "blnD6X16fQpC",
        "3SKfgwQfDFqA",
        "K_LhczayOUdH",
        "WyZFq4Q3KF0I",
        "6rRvGIOXRnEq",
        "hqe_EMOSsJk9",
        "CdliCqmhsIc7",
        "exE0nUoO_AY_",
        "Ij2oK0mFIp0f",
        "Bv-mn7uewtDE",
        "fktyEIoxvm5R"
      ],
      "gpuType": "T4",
      "provenance": []
    },
    "kernelspec": {
      "display_name": "Python 3",
      "name": "python3"
    },
    "language_info": {
      "codemirror_mode": {
        "name": "ipython",
        "version": 3
      },
      "file_extension": ".py",
      "mimetype": "text/x-python",
      "name": "python",
      "nbconvert_exporter": "python",
      "pygments_lexer": "ipython3",
      "version": "3.11.5"
    },
    "widgets": {
      "application/vnd.jupyter.widget-state+json": {
        "16a837e1d19a41fc88ac2f05d295419a": {
          "model_module": "@jupyter-widgets/controls",
          "model_module_version": "1.5.0",
          "model_name": "LabelModel",
          "state": {
            "_dom_classes": [],
            "_model_module": "@jupyter-widgets/controls",
            "_model_module_version": "1.5.0",
            "_model_name": "LabelModel",
            "_view_count": null,
            "_view_module": "@jupyter-widgets/controls",
            "_view_module_version": "1.5.0",
            "_view_name": "LabelView",
            "description": "",
            "description_tooltip": null,
            "layout": "IPY_MODEL_1e1891c3f8a34a2d9dd421edee480305",
            "placeholder": "​",
            "style": "IPY_MODEL_d1b841301c1e448b8a1d9434025f983c",
            "value": "0.010 MB of 0.010 MB uploaded\r"
          }
        },
        "1e1891c3f8a34a2d9dd421edee480305": {
          "model_module": "@jupyter-widgets/base",
          "model_module_version": "1.2.0",
          "model_name": "LayoutModel",
          "state": {
            "_model_module": "@jupyter-widgets/base",
            "_model_module_version": "1.2.0",
            "_model_name": "LayoutModel",
            "_view_count": null,
            "_view_module": "@jupyter-widgets/base",
            "_view_module_version": "1.2.0",
            "_view_name": "LayoutView",
            "align_content": null,
            "align_items": null,
            "align_self": null,
            "border": null,
            "bottom": null,
            "display": null,
            "flex": null,
            "flex_flow": null,
            "grid_area": null,
            "grid_auto_columns": null,
            "grid_auto_flow": null,
            "grid_auto_rows": null,
            "grid_column": null,
            "grid_gap": null,
            "grid_row": null,
            "grid_template_areas": null,
            "grid_template_columns": null,
            "grid_template_rows": null,
            "height": null,
            "justify_content": null,
            "justify_items": null,
            "left": null,
            "margin": null,
            "max_height": null,
            "max_width": null,
            "min_height": null,
            "min_width": null,
            "object_fit": null,
            "object_position": null,
            "order": null,
            "overflow": null,
            "overflow_x": null,
            "overflow_y": null,
            "padding": null,
            "right": null,
            "top": null,
            "visibility": null,
            "width": null
          }
        },
        "3609062aef8d4360aa7d573f624d981a": {
          "model_module": "@jupyter-widgets/base",
          "model_module_version": "1.2.0",
          "model_name": "LayoutModel",
          "state": {
            "_model_module": "@jupyter-widgets/base",
            "_model_module_version": "1.2.0",
            "_model_name": "LayoutModel",
            "_view_count": null,
            "_view_module": "@jupyter-widgets/base",
            "_view_module_version": "1.2.0",
            "_view_name": "LayoutView",
            "align_content": null,
            "align_items": null,
            "align_self": null,
            "border": null,
            "bottom": null,
            "display": null,
            "flex": null,
            "flex_flow": null,
            "grid_area": null,
            "grid_auto_columns": null,
            "grid_auto_flow": null,
            "grid_auto_rows": null,
            "grid_column": null,
            "grid_gap": null,
            "grid_row": null,
            "grid_template_areas": null,
            "grid_template_columns": null,
            "grid_template_rows": null,
            "height": null,
            "justify_content": null,
            "justify_items": null,
            "left": null,
            "margin": null,
            "max_height": null,
            "max_width": null,
            "min_height": null,
            "min_width": null,
            "object_fit": null,
            "object_position": null,
            "order": null,
            "overflow": null,
            "overflow_x": null,
            "overflow_y": null,
            "padding": null,
            "right": null,
            "top": null,
            "visibility": null,
            "width": null
          }
        },
        "37abdf18d7f14cf38e9c63751ded01dd": {
          "model_module": "@jupyter-widgets/controls",
          "model_module_version": "1.5.0",
          "model_name": "LabelModel",
          "state": {
            "_dom_classes": [],
            "_model_module": "@jupyter-widgets/controls",
            "_model_module_version": "1.5.0",
            "_model_name": "LabelModel",
            "_view_count": null,
            "_view_module": "@jupyter-widgets/controls",
            "_view_module_version": "1.5.0",
            "_view_name": "LabelView",
            "description": "",
            "description_tooltip": null,
            "layout": "IPY_MODEL_ceeb263ae8524c689c5e19ce94dc6009",
            "placeholder": "​",
            "style": "IPY_MODEL_62d9d1254058427d9f0d6758ca382e6e",
            "value": "574.349 MB of 574.349 MB uploaded\r"
          }
        },
        "3c1fb8bd64374cc59937bf468cff0a77": {
          "model_module": "@jupyter-widgets/base",
          "model_module_version": "1.2.0",
          "model_name": "LayoutModel",
          "state": {
            "_model_module": "@jupyter-widgets/base",
            "_model_module_version": "1.2.0",
            "_model_name": "LayoutModel",
            "_view_count": null,
            "_view_module": "@jupyter-widgets/base",
            "_view_module_version": "1.2.0",
            "_view_name": "LayoutView",
            "align_content": null,
            "align_items": null,
            "align_self": null,
            "border": null,
            "bottom": null,
            "display": null,
            "flex": null,
            "flex_flow": null,
            "grid_area": null,
            "grid_auto_columns": null,
            "grid_auto_flow": null,
            "grid_auto_rows": null,
            "grid_column": null,
            "grid_gap": null,
            "grid_row": null,
            "grid_template_areas": null,
            "grid_template_columns": null,
            "grid_template_rows": null,
            "height": null,
            "justify_content": null,
            "justify_items": null,
            "left": null,
            "margin": null,
            "max_height": null,
            "max_width": null,
            "min_height": null,
            "min_width": null,
            "object_fit": null,
            "object_position": null,
            "order": null,
            "overflow": null,
            "overflow_x": null,
            "overflow_y": null,
            "padding": null,
            "right": null,
            "top": null,
            "visibility": null,
            "width": null
          }
        },
        "62d9d1254058427d9f0d6758ca382e6e": {
          "model_module": "@jupyter-widgets/controls",
          "model_module_version": "1.5.0",
          "model_name": "DescriptionStyleModel",
          "state": {
            "_model_module": "@jupyter-widgets/controls",
            "_model_module_version": "1.5.0",
            "_model_name": "DescriptionStyleModel",
            "_view_count": null,
            "_view_module": "@jupyter-widgets/base",
            "_view_module_version": "1.2.0",
            "_view_name": "StyleView",
            "description_width": ""
          }
        },
        "92b43eb0147a486197c7ca838439a4aa": {
          "model_module": "@jupyter-widgets/controls",
          "model_module_version": "1.5.0",
          "model_name": "ProgressStyleModel",
          "state": {
            "_model_module": "@jupyter-widgets/controls",
            "_model_module_version": "1.5.0",
            "_model_name": "ProgressStyleModel",
            "_view_count": null,
            "_view_module": "@jupyter-widgets/base",
            "_view_module_version": "1.2.0",
            "_view_name": "StyleView",
            "bar_color": null,
            "description_width": ""
          }
        },
        "9779d41c433f4a60869089a31ccb6c83": {
          "model_module": "@jupyter-widgets/controls",
          "model_module_version": "1.5.0",
          "model_name": "VBoxModel",
          "state": {
            "_dom_classes": [],
            "_model_module": "@jupyter-widgets/controls",
            "_model_module_version": "1.5.0",
            "_model_name": "VBoxModel",
            "_view_count": null,
            "_view_module": "@jupyter-widgets/controls",
            "_view_module_version": "1.5.0",
            "_view_name": "VBoxView",
            "box_style": "",
            "children": [
              "IPY_MODEL_37abdf18d7f14cf38e9c63751ded01dd",
              "IPY_MODEL_d3ca4f2302fd445bb601dc0c9639aafd"
            ],
            "layout": "IPY_MODEL_3609062aef8d4360aa7d573f624d981a"
          }
        },
        "a27103bb02014d35a26bde245a9f2def": {
          "model_module": "@jupyter-widgets/controls",
          "model_module_version": "1.5.0",
          "model_name": "FloatProgressModel",
          "state": {
            "_dom_classes": [],
            "_model_module": "@jupyter-widgets/controls",
            "_model_module_version": "1.5.0",
            "_model_name": "FloatProgressModel",
            "_view_count": null,
            "_view_module": "@jupyter-widgets/controls",
            "_view_module_version": "1.5.0",
            "_view_name": "ProgressView",
            "bar_style": "",
            "description": "",
            "description_tooltip": null,
            "layout": "IPY_MODEL_e85d2819a74341418f8eec1ae952791d",
            "max": 1,
            "min": 0,
            "orientation": "horizontal",
            "style": "IPY_MODEL_92b43eb0147a486197c7ca838439a4aa",
            "value": 1
          }
        },
        "ceeb263ae8524c689c5e19ce94dc6009": {
          "model_module": "@jupyter-widgets/base",
          "model_module_version": "1.2.0",
          "model_name": "LayoutModel",
          "state": {
            "_model_module": "@jupyter-widgets/base",
            "_model_module_version": "1.2.0",
            "_model_name": "LayoutModel",
            "_view_count": null,
            "_view_module": "@jupyter-widgets/base",
            "_view_module_version": "1.2.0",
            "_view_name": "LayoutView",
            "align_content": null,
            "align_items": null,
            "align_self": null,
            "border": null,
            "bottom": null,
            "display": null,
            "flex": null,
            "flex_flow": null,
            "grid_area": null,
            "grid_auto_columns": null,
            "grid_auto_flow": null,
            "grid_auto_rows": null,
            "grid_column": null,
            "grid_gap": null,
            "grid_row": null,
            "grid_template_areas": null,
            "grid_template_columns": null,
            "grid_template_rows": null,
            "height": null,
            "justify_content": null,
            "justify_items": null,
            "left": null,
            "margin": null,
            "max_height": null,
            "max_width": null,
            "min_height": null,
            "min_width": null,
            "object_fit": null,
            "object_position": null,
            "order": null,
            "overflow": null,
            "overflow_x": null,
            "overflow_y": null,
            "padding": null,
            "right": null,
            "top": null,
            "visibility": null,
            "width": null
          }
        },
        "cf6493a99c694ea2b9cf0ff60cbda612": {
          "model_module": "@jupyter-widgets/controls",
          "model_module_version": "1.5.0",
          "model_name": "VBoxModel",
          "state": {
            "_dom_classes": [],
            "_model_module": "@jupyter-widgets/controls",
            "_model_module_version": "1.5.0",
            "_model_name": "VBoxModel",
            "_view_count": null,
            "_view_module": "@jupyter-widgets/controls",
            "_view_module_version": "1.5.0",
            "_view_name": "VBoxView",
            "box_style": "",
            "children": [
              "IPY_MODEL_16a837e1d19a41fc88ac2f05d295419a",
              "IPY_MODEL_a27103bb02014d35a26bde245a9f2def"
            ],
            "layout": "IPY_MODEL_3c1fb8bd64374cc59937bf468cff0a77"
          }
        },
        "d1b841301c1e448b8a1d9434025f983c": {
          "model_module": "@jupyter-widgets/controls",
          "model_module_version": "1.5.0",
          "model_name": "DescriptionStyleModel",
          "state": {
            "_model_module": "@jupyter-widgets/controls",
            "_model_module_version": "1.5.0",
            "_model_name": "DescriptionStyleModel",
            "_view_count": null,
            "_view_module": "@jupyter-widgets/base",
            "_view_module_version": "1.2.0",
            "_view_name": "StyleView",
            "description_width": ""
          }
        },
        "d3ca4f2302fd445bb601dc0c9639aafd": {
          "model_module": "@jupyter-widgets/controls",
          "model_module_version": "1.5.0",
          "model_name": "FloatProgressModel",
          "state": {
            "_dom_classes": [],
            "_model_module": "@jupyter-widgets/controls",
            "_model_module_version": "1.5.0",
            "_model_name": "FloatProgressModel",
            "_view_count": null,
            "_view_module": "@jupyter-widgets/controls",
            "_view_module_version": "1.5.0",
            "_view_name": "ProgressView",
            "bar_style": "",
            "description": "",
            "description_tooltip": null,
            "layout": "IPY_MODEL_d4ad7deed96c448b8a67dc9e2682c0f4",
            "max": 1,
            "min": 0,
            "orientation": "horizontal",
            "style": "IPY_MODEL_f26eed49c286401593b961bb676aa2ea",
            "value": 1
          }
        },
        "d4ad7deed96c448b8a67dc9e2682c0f4": {
          "model_module": "@jupyter-widgets/base",
          "model_module_version": "1.2.0",
          "model_name": "LayoutModel",
          "state": {
            "_model_module": "@jupyter-widgets/base",
            "_model_module_version": "1.2.0",
            "_model_name": "LayoutModel",
            "_view_count": null,
            "_view_module": "@jupyter-widgets/base",
            "_view_module_version": "1.2.0",
            "_view_name": "LayoutView",
            "align_content": null,
            "align_items": null,
            "align_self": null,
            "border": null,
            "bottom": null,
            "display": null,
            "flex": null,
            "flex_flow": null,
            "grid_area": null,
            "grid_auto_columns": null,
            "grid_auto_flow": null,
            "grid_auto_rows": null,
            "grid_column": null,
            "grid_gap": null,
            "grid_row": null,
            "grid_template_areas": null,
            "grid_template_columns": null,
            "grid_template_rows": null,
            "height": null,
            "justify_content": null,
            "justify_items": null,
            "left": null,
            "margin": null,
            "max_height": null,
            "max_width": null,
            "min_height": null,
            "min_width": null,
            "object_fit": null,
            "object_position": null,
            "order": null,
            "overflow": null,
            "overflow_x": null,
            "overflow_y": null,
            "padding": null,
            "right": null,
            "top": null,
            "visibility": null,
            "width": null
          }
        },
        "e85d2819a74341418f8eec1ae952791d": {
          "model_module": "@jupyter-widgets/base",
          "model_module_version": "1.2.0",
          "model_name": "LayoutModel",
          "state": {
            "_model_module": "@jupyter-widgets/base",
            "_model_module_version": "1.2.0",
            "_model_name": "LayoutModel",
            "_view_count": null,
            "_view_module": "@jupyter-widgets/base",
            "_view_module_version": "1.2.0",
            "_view_name": "LayoutView",
            "align_content": null,
            "align_items": null,
            "align_self": null,
            "border": null,
            "bottom": null,
            "display": null,
            "flex": null,
            "flex_flow": null,
            "grid_area": null,
            "grid_auto_columns": null,
            "grid_auto_flow": null,
            "grid_auto_rows": null,
            "grid_column": null,
            "grid_gap": null,
            "grid_row": null,
            "grid_template_areas": null,
            "grid_template_columns": null,
            "grid_template_rows": null,
            "height": null,
            "justify_content": null,
            "justify_items": null,
            "left": null,
            "margin": null,
            "max_height": null,
            "max_width": null,
            "min_height": null,
            "min_width": null,
            "object_fit": null,
            "object_position": null,
            "order": null,
            "overflow": null,
            "overflow_x": null,
            "overflow_y": null,
            "padding": null,
            "right": null,
            "top": null,
            "visibility": null,
            "width": null
          }
        },
        "f26eed49c286401593b961bb676aa2ea": {
          "model_module": "@jupyter-widgets/controls",
          "model_module_version": "1.5.0",
          "model_name": "ProgressStyleModel",
          "state": {
            "_model_module": "@jupyter-widgets/controls",
            "_model_module_version": "1.5.0",
            "_model_name": "ProgressStyleModel",
            "_view_count": null,
            "_view_module": "@jupyter-widgets/base",
            "_view_module_version": "1.2.0",
            "_view_name": "StyleView",
            "bar_color": null,
            "description_width": ""
          }
        },
        "5a1e653e4d5d4f5cbb00aafefc099861": {
          "model_module": "@jupyter-widgets/controls",
          "model_name": "HBoxModel",
          "model_module_version": "1.5.0",
          "state": {
            "_dom_classes": [],
            "_model_module": "@jupyter-widgets/controls",
            "_model_module_version": "1.5.0",
            "_model_name": "HBoxModel",
            "_view_count": null,
            "_view_module": "@jupyter-widgets/controls",
            "_view_module_version": "1.5.0",
            "_view_name": "HBoxView",
            "box_style": "",
            "children": [
              "IPY_MODEL_a0b83278d3914dc0a44447c0d93e609b",
              "IPY_MODEL_7a39a1aa8e44461f8e03e9d9eef81dee",
              "IPY_MODEL_8d89c741ba8b4608a3c3e4b3df3c5e17"
            ],
            "layout": "IPY_MODEL_441cb178a0034fa281cb8fab537d427c"
          }
        },
        "a0b83278d3914dc0a44447c0d93e609b": {
          "model_module": "@jupyter-widgets/controls",
          "model_name": "HTMLModel",
          "model_module_version": "1.5.0",
          "state": {
            "_dom_classes": [],
            "_model_module": "@jupyter-widgets/controls",
            "_model_module_version": "1.5.0",
            "_model_name": "HTMLModel",
            "_view_count": null,
            "_view_module": "@jupyter-widgets/controls",
            "_view_module_version": "1.5.0",
            "_view_name": "HTMLView",
            "description": "",
            "description_tooltip": null,
            "layout": "IPY_MODEL_4d2e2d92f8b74022b3d428358c33b3aa",
            "placeholder": "​",
            "style": "IPY_MODEL_d49ba4aa01824fd384dc21e1fba1dcf6",
            "value": "Dl Completed...: 100%"
          }
        },
        "7a39a1aa8e44461f8e03e9d9eef81dee": {
          "model_module": "@jupyter-widgets/controls",
          "model_name": "FloatProgressModel",
          "model_module_version": "1.5.0",
          "state": {
            "_dom_classes": [],
            "_model_module": "@jupyter-widgets/controls",
            "_model_module_version": "1.5.0",
            "_model_name": "FloatProgressModel",
            "_view_count": null,
            "_view_module": "@jupyter-widgets/controls",
            "_view_module_version": "1.5.0",
            "_view_name": "ProgressView",
            "bar_style": "success",
            "description": "",
            "description_tooltip": null,
            "layout": "IPY_MODEL_c0d8b8a2972b4fb09a64b7ed39dff964",
            "max": 1,
            "min": 0,
            "orientation": "horizontal",
            "style": "IPY_MODEL_32ebe796058045b6ac489e388172a9fe",
            "value": 1
          }
        },
        "8d89c741ba8b4608a3c3e4b3df3c5e17": {
          "model_module": "@jupyter-widgets/controls",
          "model_name": "HTMLModel",
          "model_module_version": "1.5.0",
          "state": {
            "_dom_classes": [],
            "_model_module": "@jupyter-widgets/controls",
            "_model_module_version": "1.5.0",
            "_model_name": "HTMLModel",
            "_view_count": null,
            "_view_module": "@jupyter-widgets/controls",
            "_view_module_version": "1.5.0",
            "_view_name": "HTMLView",
            "description": "",
            "description_tooltip": null,
            "layout": "IPY_MODEL_f7e1c33a391e4669bb4e7559499da5fc",
            "placeholder": "​",
            "style": "IPY_MODEL_485c35b44d0f4a79b41d836f7840207e",
            "value": " 1/1 [01:38&lt;00:00,  5.15s/ url]"
          }
        },
        "441cb178a0034fa281cb8fab537d427c": {
          "model_module": "@jupyter-widgets/base",
          "model_name": "LayoutModel",
          "model_module_version": "1.2.0",
          "state": {
            "_model_module": "@jupyter-widgets/base",
            "_model_module_version": "1.2.0",
            "_model_name": "LayoutModel",
            "_view_count": null,
            "_view_module": "@jupyter-widgets/base",
            "_view_module_version": "1.2.0",
            "_view_name": "LayoutView",
            "align_content": null,
            "align_items": null,
            "align_self": null,
            "border": null,
            "bottom": null,
            "display": null,
            "flex": null,
            "flex_flow": null,
            "grid_area": null,
            "grid_auto_columns": null,
            "grid_auto_flow": null,
            "grid_auto_rows": null,
            "grid_column": null,
            "grid_gap": null,
            "grid_row": null,
            "grid_template_areas": null,
            "grid_template_columns": null,
            "grid_template_rows": null,
            "height": null,
            "justify_content": null,
            "justify_items": null,
            "left": null,
            "margin": null,
            "max_height": null,
            "max_width": null,
            "min_height": null,
            "min_width": null,
            "object_fit": null,
            "object_position": null,
            "order": null,
            "overflow": null,
            "overflow_x": null,
            "overflow_y": null,
            "padding": null,
            "right": null,
            "top": null,
            "visibility": null,
            "width": null
          }
        },
        "4d2e2d92f8b74022b3d428358c33b3aa": {
          "model_module": "@jupyter-widgets/base",
          "model_name": "LayoutModel",
          "model_module_version": "1.2.0",
          "state": {
            "_model_module": "@jupyter-widgets/base",
            "_model_module_version": "1.2.0",
            "_model_name": "LayoutModel",
            "_view_count": null,
            "_view_module": "@jupyter-widgets/base",
            "_view_module_version": "1.2.0",
            "_view_name": "LayoutView",
            "align_content": null,
            "align_items": null,
            "align_self": null,
            "border": null,
            "bottom": null,
            "display": null,
            "flex": null,
            "flex_flow": null,
            "grid_area": null,
            "grid_auto_columns": null,
            "grid_auto_flow": null,
            "grid_auto_rows": null,
            "grid_column": null,
            "grid_gap": null,
            "grid_row": null,
            "grid_template_areas": null,
            "grid_template_columns": null,
            "grid_template_rows": null,
            "height": null,
            "justify_content": null,
            "justify_items": null,
            "left": null,
            "margin": null,
            "max_height": null,
            "max_width": null,
            "min_height": null,
            "min_width": null,
            "object_fit": null,
            "object_position": null,
            "order": null,
            "overflow": null,
            "overflow_x": null,
            "overflow_y": null,
            "padding": null,
            "right": null,
            "top": null,
            "visibility": null,
            "width": null
          }
        },
        "d49ba4aa01824fd384dc21e1fba1dcf6": {
          "model_module": "@jupyter-widgets/controls",
          "model_name": "DescriptionStyleModel",
          "model_module_version": "1.5.0",
          "state": {
            "_model_module": "@jupyter-widgets/controls",
            "_model_module_version": "1.5.0",
            "_model_name": "DescriptionStyleModel",
            "_view_count": null,
            "_view_module": "@jupyter-widgets/base",
            "_view_module_version": "1.2.0",
            "_view_name": "StyleView",
            "description_width": ""
          }
        },
        "c0d8b8a2972b4fb09a64b7ed39dff964": {
          "model_module": "@jupyter-widgets/base",
          "model_name": "LayoutModel",
          "model_module_version": "1.2.0",
          "state": {
            "_model_module": "@jupyter-widgets/base",
            "_model_module_version": "1.2.0",
            "_model_name": "LayoutModel",
            "_view_count": null,
            "_view_module": "@jupyter-widgets/base",
            "_view_module_version": "1.2.0",
            "_view_name": "LayoutView",
            "align_content": null,
            "align_items": null,
            "align_self": null,
            "border": null,
            "bottom": null,
            "display": null,
            "flex": null,
            "flex_flow": null,
            "grid_area": null,
            "grid_auto_columns": null,
            "grid_auto_flow": null,
            "grid_auto_rows": null,
            "grid_column": null,
            "grid_gap": null,
            "grid_row": null,
            "grid_template_areas": null,
            "grid_template_columns": null,
            "grid_template_rows": null,
            "height": null,
            "justify_content": null,
            "justify_items": null,
            "left": null,
            "margin": null,
            "max_height": null,
            "max_width": null,
            "min_height": null,
            "min_width": null,
            "object_fit": null,
            "object_position": null,
            "order": null,
            "overflow": null,
            "overflow_x": null,
            "overflow_y": null,
            "padding": null,
            "right": null,
            "top": null,
            "visibility": null,
            "width": "20px"
          }
        },
        "32ebe796058045b6ac489e388172a9fe": {
          "model_module": "@jupyter-widgets/controls",
          "model_name": "ProgressStyleModel",
          "model_module_version": "1.5.0",
          "state": {
            "_model_module": "@jupyter-widgets/controls",
            "_model_module_version": "1.5.0",
            "_model_name": "ProgressStyleModel",
            "_view_count": null,
            "_view_module": "@jupyter-widgets/base",
            "_view_module_version": "1.2.0",
            "_view_name": "StyleView",
            "bar_color": null,
            "description_width": ""
          }
        },
        "f7e1c33a391e4669bb4e7559499da5fc": {
          "model_module": "@jupyter-widgets/base",
          "model_name": "LayoutModel",
          "model_module_version": "1.2.0",
          "state": {
            "_model_module": "@jupyter-widgets/base",
            "_model_module_version": "1.2.0",
            "_model_name": "LayoutModel",
            "_view_count": null,
            "_view_module": "@jupyter-widgets/base",
            "_view_module_version": "1.2.0",
            "_view_name": "LayoutView",
            "align_content": null,
            "align_items": null,
            "align_self": null,
            "border": null,
            "bottom": null,
            "display": null,
            "flex": null,
            "flex_flow": null,
            "grid_area": null,
            "grid_auto_columns": null,
            "grid_auto_flow": null,
            "grid_auto_rows": null,
            "grid_column": null,
            "grid_gap": null,
            "grid_row": null,
            "grid_template_areas": null,
            "grid_template_columns": null,
            "grid_template_rows": null,
            "height": null,
            "justify_content": null,
            "justify_items": null,
            "left": null,
            "margin": null,
            "max_height": null,
            "max_width": null,
            "min_height": null,
            "min_width": null,
            "object_fit": null,
            "object_position": null,
            "order": null,
            "overflow": null,
            "overflow_x": null,
            "overflow_y": null,
            "padding": null,
            "right": null,
            "top": null,
            "visibility": null,
            "width": null
          }
        },
        "485c35b44d0f4a79b41d836f7840207e": {
          "model_module": "@jupyter-widgets/controls",
          "model_name": "DescriptionStyleModel",
          "model_module_version": "1.5.0",
          "state": {
            "_model_module": "@jupyter-widgets/controls",
            "_model_module_version": "1.5.0",
            "_model_name": "DescriptionStyleModel",
            "_view_count": null,
            "_view_module": "@jupyter-widgets/base",
            "_view_module_version": "1.2.0",
            "_view_name": "StyleView",
            "description_width": ""
          }
        },
        "3491d64f75224965922f3196c2eab35a": {
          "model_module": "@jupyter-widgets/controls",
          "model_name": "HBoxModel",
          "model_module_version": "1.5.0",
          "state": {
            "_dom_classes": [],
            "_model_module": "@jupyter-widgets/controls",
            "_model_module_version": "1.5.0",
            "_model_name": "HBoxModel",
            "_view_count": null,
            "_view_module": "@jupyter-widgets/controls",
            "_view_module_version": "1.5.0",
            "_view_name": "HBoxView",
            "box_style": "",
            "children": [
              "IPY_MODEL_a5e252d996f84136bfda5a09088f6964",
              "IPY_MODEL_fdeac6c9ec154f81bc3ba571100d7a7a",
              "IPY_MODEL_fe5fb30a2cb745589021b174b34e02d2"
            ],
            "layout": "IPY_MODEL_375a4bba6ee644fca059145a886f003f"
          }
        },
        "a5e252d996f84136bfda5a09088f6964": {
          "model_module": "@jupyter-widgets/controls",
          "model_name": "HTMLModel",
          "model_module_version": "1.5.0",
          "state": {
            "_dom_classes": [],
            "_model_module": "@jupyter-widgets/controls",
            "_model_module_version": "1.5.0",
            "_model_name": "HTMLModel",
            "_view_count": null,
            "_view_module": "@jupyter-widgets/controls",
            "_view_module_version": "1.5.0",
            "_view_name": "HTMLView",
            "description": "",
            "description_tooltip": null,
            "layout": "IPY_MODEL_3368736ed1bc480aa1bdd81a022b2102",
            "placeholder": "​",
            "style": "IPY_MODEL_526d4626fc974317b62524d504d7e617",
            "value": "Dl Size...: 100%"
          }
        },
        "fdeac6c9ec154f81bc3ba571100d7a7a": {
          "model_module": "@jupyter-widgets/controls",
          "model_name": "FloatProgressModel",
          "model_module_version": "1.5.0",
          "state": {
            "_dom_classes": [],
            "_model_module": "@jupyter-widgets/controls",
            "_model_module_version": "1.5.0",
            "_model_name": "FloatProgressModel",
            "_view_count": null,
            "_view_module": "@jupyter-widgets/controls",
            "_view_module_version": "1.5.0",
            "_view_name": "ProgressView",
            "bar_style": "success",
            "description": "",
            "description_tooltip": null,
            "layout": "IPY_MODEL_e5f5384b80b84168bf87d4bfcccbb389",
            "max": 1,
            "min": 0,
            "orientation": "horizontal",
            "style": "IPY_MODEL_021a247d0bd84e86ba9b39bbcef2c381",
            "value": 1
          }
        },
        "fe5fb30a2cb745589021b174b34e02d2": {
          "model_module": "@jupyter-widgets/controls",
          "model_name": "HTMLModel",
          "model_module_version": "1.5.0",
          "state": {
            "_dom_classes": [],
            "_model_module": "@jupyter-widgets/controls",
            "_model_module_version": "1.5.0",
            "_model_name": "HTMLModel",
            "_view_count": null,
            "_view_module": "@jupyter-widgets/controls",
            "_view_module_version": "1.5.0",
            "_view_name": "HTMLView",
            "description": "",
            "description_tooltip": null,
            "layout": "IPY_MODEL_4f133573f24f4fc3b37212da4eca4cce",
            "placeholder": "​",
            "style": "IPY_MODEL_8320bffb04e848cb9691f51e29aa4445",
            "value": " 337/337 [01:38&lt;00:00, 67.51 MiB/s]"
          }
        },
        "375a4bba6ee644fca059145a886f003f": {
          "model_module": "@jupyter-widgets/base",
          "model_name": "LayoutModel",
          "model_module_version": "1.2.0",
          "state": {
            "_model_module": "@jupyter-widgets/base",
            "_model_module_version": "1.2.0",
            "_model_name": "LayoutModel",
            "_view_count": null,
            "_view_module": "@jupyter-widgets/base",
            "_view_module_version": "1.2.0",
            "_view_name": "LayoutView",
            "align_content": null,
            "align_items": null,
            "align_self": null,
            "border": null,
            "bottom": null,
            "display": null,
            "flex": null,
            "flex_flow": null,
            "grid_area": null,
            "grid_auto_columns": null,
            "grid_auto_flow": null,
            "grid_auto_rows": null,
            "grid_column": null,
            "grid_gap": null,
            "grid_row": null,
            "grid_template_areas": null,
            "grid_template_columns": null,
            "grid_template_rows": null,
            "height": null,
            "justify_content": null,
            "justify_items": null,
            "left": null,
            "margin": null,
            "max_height": null,
            "max_width": null,
            "min_height": null,
            "min_width": null,
            "object_fit": null,
            "object_position": null,
            "order": null,
            "overflow": null,
            "overflow_x": null,
            "overflow_y": null,
            "padding": null,
            "right": null,
            "top": null,
            "visibility": null,
            "width": null
          }
        },
        "3368736ed1bc480aa1bdd81a022b2102": {
          "model_module": "@jupyter-widgets/base",
          "model_name": "LayoutModel",
          "model_module_version": "1.2.0",
          "state": {
            "_model_module": "@jupyter-widgets/base",
            "_model_module_version": "1.2.0",
            "_model_name": "LayoutModel",
            "_view_count": null,
            "_view_module": "@jupyter-widgets/base",
            "_view_module_version": "1.2.0",
            "_view_name": "LayoutView",
            "align_content": null,
            "align_items": null,
            "align_self": null,
            "border": null,
            "bottom": null,
            "display": null,
            "flex": null,
            "flex_flow": null,
            "grid_area": null,
            "grid_auto_columns": null,
            "grid_auto_flow": null,
            "grid_auto_rows": null,
            "grid_column": null,
            "grid_gap": null,
            "grid_row": null,
            "grid_template_areas": null,
            "grid_template_columns": null,
            "grid_template_rows": null,
            "height": null,
            "justify_content": null,
            "justify_items": null,
            "left": null,
            "margin": null,
            "max_height": null,
            "max_width": null,
            "min_height": null,
            "min_width": null,
            "object_fit": null,
            "object_position": null,
            "order": null,
            "overflow": null,
            "overflow_x": null,
            "overflow_y": null,
            "padding": null,
            "right": null,
            "top": null,
            "visibility": null,
            "width": null
          }
        },
        "526d4626fc974317b62524d504d7e617": {
          "model_module": "@jupyter-widgets/controls",
          "model_name": "DescriptionStyleModel",
          "model_module_version": "1.5.0",
          "state": {
            "_model_module": "@jupyter-widgets/controls",
            "_model_module_version": "1.5.0",
            "_model_name": "DescriptionStyleModel",
            "_view_count": null,
            "_view_module": "@jupyter-widgets/base",
            "_view_module_version": "1.2.0",
            "_view_name": "StyleView",
            "description_width": ""
          }
        },
        "e5f5384b80b84168bf87d4bfcccbb389": {
          "model_module": "@jupyter-widgets/base",
          "model_name": "LayoutModel",
          "model_module_version": "1.2.0",
          "state": {
            "_model_module": "@jupyter-widgets/base",
            "_model_module_version": "1.2.0",
            "_model_name": "LayoutModel",
            "_view_count": null,
            "_view_module": "@jupyter-widgets/base",
            "_view_module_version": "1.2.0",
            "_view_name": "LayoutView",
            "align_content": null,
            "align_items": null,
            "align_self": null,
            "border": null,
            "bottom": null,
            "display": null,
            "flex": null,
            "flex_flow": null,
            "grid_area": null,
            "grid_auto_columns": null,
            "grid_auto_flow": null,
            "grid_auto_rows": null,
            "grid_column": null,
            "grid_gap": null,
            "grid_row": null,
            "grid_template_areas": null,
            "grid_template_columns": null,
            "grid_template_rows": null,
            "height": null,
            "justify_content": null,
            "justify_items": null,
            "left": null,
            "margin": null,
            "max_height": null,
            "max_width": null,
            "min_height": null,
            "min_width": null,
            "object_fit": null,
            "object_position": null,
            "order": null,
            "overflow": null,
            "overflow_x": null,
            "overflow_y": null,
            "padding": null,
            "right": null,
            "top": null,
            "visibility": null,
            "width": "20px"
          }
        },
        "021a247d0bd84e86ba9b39bbcef2c381": {
          "model_module": "@jupyter-widgets/controls",
          "model_name": "ProgressStyleModel",
          "model_module_version": "1.5.0",
          "state": {
            "_model_module": "@jupyter-widgets/controls",
            "_model_module_version": "1.5.0",
            "_model_name": "ProgressStyleModel",
            "_view_count": null,
            "_view_module": "@jupyter-widgets/base",
            "_view_module_version": "1.2.0",
            "_view_name": "StyleView",
            "bar_color": null,
            "description_width": ""
          }
        },
        "4f133573f24f4fc3b37212da4eca4cce": {
          "model_module": "@jupyter-widgets/base",
          "model_name": "LayoutModel",
          "model_module_version": "1.2.0",
          "state": {
            "_model_module": "@jupyter-widgets/base",
            "_model_module_version": "1.2.0",
            "_model_name": "LayoutModel",
            "_view_count": null,
            "_view_module": "@jupyter-widgets/base",
            "_view_module_version": "1.2.0",
            "_view_name": "LayoutView",
            "align_content": null,
            "align_items": null,
            "align_self": null,
            "border": null,
            "bottom": null,
            "display": null,
            "flex": null,
            "flex_flow": null,
            "grid_area": null,
            "grid_auto_columns": null,
            "grid_auto_flow": null,
            "grid_auto_rows": null,
            "grid_column": null,
            "grid_gap": null,
            "grid_row": null,
            "grid_template_areas": null,
            "grid_template_columns": null,
            "grid_template_rows": null,
            "height": null,
            "justify_content": null,
            "justify_items": null,
            "left": null,
            "margin": null,
            "max_height": null,
            "max_width": null,
            "min_height": null,
            "min_width": null,
            "object_fit": null,
            "object_position": null,
            "order": null,
            "overflow": null,
            "overflow_x": null,
            "overflow_y": null,
            "padding": null,
            "right": null,
            "top": null,
            "visibility": null,
            "width": null
          }
        },
        "8320bffb04e848cb9691f51e29aa4445": {
          "model_module": "@jupyter-widgets/controls",
          "model_name": "DescriptionStyleModel",
          "model_module_version": "1.5.0",
          "state": {
            "_model_module": "@jupyter-widgets/controls",
            "_model_module_version": "1.5.0",
            "_model_name": "DescriptionStyleModel",
            "_view_count": null,
            "_view_module": "@jupyter-widgets/base",
            "_view_module_version": "1.2.0",
            "_view_name": "StyleView",
            "description_width": ""
          }
        },
        "7d4312044f774f6aa36054f39e4bb337": {
          "model_module": "@jupyter-widgets/controls",
          "model_name": "HBoxModel",
          "model_module_version": "1.5.0",
          "state": {
            "_dom_classes": [],
            "_model_module": "@jupyter-widgets/controls",
            "_model_module_version": "1.5.0",
            "_model_name": "HBoxModel",
            "_view_count": null,
            "_view_module": "@jupyter-widgets/controls",
            "_view_module_version": "1.5.0",
            "_view_name": "HBoxView",
            "box_style": "",
            "children": [
              "IPY_MODEL_d0b617c303554f6b83114b70deb7cb43",
              "IPY_MODEL_58807a7123e24ff2b74044dbe553b5a0",
              "IPY_MODEL_f933193e809743a5be63e475021940cd"
            ],
            "layout": "IPY_MODEL_d8fb922cc8524cbf96216998e9fbad72"
          }
        },
        "d0b617c303554f6b83114b70deb7cb43": {
          "model_module": "@jupyter-widgets/controls",
          "model_name": "HTMLModel",
          "model_module_version": "1.5.0",
          "state": {
            "_dom_classes": [],
            "_model_module": "@jupyter-widgets/controls",
            "_model_module_version": "1.5.0",
            "_model_name": "HTMLModel",
            "_view_count": null,
            "_view_module": "@jupyter-widgets/controls",
            "_view_module_version": "1.5.0",
            "_view_name": "HTMLView",
            "description": "",
            "description_tooltip": null,
            "layout": "IPY_MODEL_694c478f53eb4d51b718725d27eca287",
            "placeholder": "​",
            "style": "IPY_MODEL_c761197a4a9f435cb77d9a0512f3ca7b",
            "value": "Extraction completed...: 100%"
          }
        },
        "58807a7123e24ff2b74044dbe553b5a0": {
          "model_module": "@jupyter-widgets/controls",
          "model_name": "FloatProgressModel",
          "model_module_version": "1.5.0",
          "state": {
            "_dom_classes": [],
            "_model_module": "@jupyter-widgets/controls",
            "_model_module_version": "1.5.0",
            "_model_name": "FloatProgressModel",
            "_view_count": null,
            "_view_module": "@jupyter-widgets/controls",
            "_view_module_version": "1.5.0",
            "_view_name": "ProgressView",
            "bar_style": "success",
            "description": "",
            "description_tooltip": null,
            "layout": "IPY_MODEL_2763448364b84a5ca11d446d7d1f3eeb",
            "max": 1,
            "min": 0,
            "orientation": "horizontal",
            "style": "IPY_MODEL_8708a3cca099498dada3fcaf9cb2c5e4",
            "value": 1
          }
        },
        "f933193e809743a5be63e475021940cd": {
          "model_module": "@jupyter-widgets/controls",
          "model_name": "HTMLModel",
          "model_module_version": "1.5.0",
          "state": {
            "_dom_classes": [],
            "_model_module": "@jupyter-widgets/controls",
            "_model_module_version": "1.5.0",
            "_model_name": "HTMLModel",
            "_view_count": null,
            "_view_module": "@jupyter-widgets/controls",
            "_view_module_version": "1.5.0",
            "_view_name": "HTMLView",
            "description": "",
            "description_tooltip": null,
            "layout": "IPY_MODEL_4a4867a1ddf34a8490a76f654207e420",
            "placeholder": "​",
            "style": "IPY_MODEL_92da05be76654fe6a84211bc9d6fc0c1",
            "value": " 27560/27560 [01:38&lt;00:00, 977.12 file/s]"
          }
        },
        "d8fb922cc8524cbf96216998e9fbad72": {
          "model_module": "@jupyter-widgets/base",
          "model_name": "LayoutModel",
          "model_module_version": "1.2.0",
          "state": {
            "_model_module": "@jupyter-widgets/base",
            "_model_module_version": "1.2.0",
            "_model_name": "LayoutModel",
            "_view_count": null,
            "_view_module": "@jupyter-widgets/base",
            "_view_module_version": "1.2.0",
            "_view_name": "LayoutView",
            "align_content": null,
            "align_items": null,
            "align_self": null,
            "border": null,
            "bottom": null,
            "display": null,
            "flex": null,
            "flex_flow": null,
            "grid_area": null,
            "grid_auto_columns": null,
            "grid_auto_flow": null,
            "grid_auto_rows": null,
            "grid_column": null,
            "grid_gap": null,
            "grid_row": null,
            "grid_template_areas": null,
            "grid_template_columns": null,
            "grid_template_rows": null,
            "height": null,
            "justify_content": null,
            "justify_items": null,
            "left": null,
            "margin": null,
            "max_height": null,
            "max_width": null,
            "min_height": null,
            "min_width": null,
            "object_fit": null,
            "object_position": null,
            "order": null,
            "overflow": null,
            "overflow_x": null,
            "overflow_y": null,
            "padding": null,
            "right": null,
            "top": null,
            "visibility": null,
            "width": null
          }
        },
        "694c478f53eb4d51b718725d27eca287": {
          "model_module": "@jupyter-widgets/base",
          "model_name": "LayoutModel",
          "model_module_version": "1.2.0",
          "state": {
            "_model_module": "@jupyter-widgets/base",
            "_model_module_version": "1.2.0",
            "_model_name": "LayoutModel",
            "_view_count": null,
            "_view_module": "@jupyter-widgets/base",
            "_view_module_version": "1.2.0",
            "_view_name": "LayoutView",
            "align_content": null,
            "align_items": null,
            "align_self": null,
            "border": null,
            "bottom": null,
            "display": null,
            "flex": null,
            "flex_flow": null,
            "grid_area": null,
            "grid_auto_columns": null,
            "grid_auto_flow": null,
            "grid_auto_rows": null,
            "grid_column": null,
            "grid_gap": null,
            "grid_row": null,
            "grid_template_areas": null,
            "grid_template_columns": null,
            "grid_template_rows": null,
            "height": null,
            "justify_content": null,
            "justify_items": null,
            "left": null,
            "margin": null,
            "max_height": null,
            "max_width": null,
            "min_height": null,
            "min_width": null,
            "object_fit": null,
            "object_position": null,
            "order": null,
            "overflow": null,
            "overflow_x": null,
            "overflow_y": null,
            "padding": null,
            "right": null,
            "top": null,
            "visibility": null,
            "width": null
          }
        },
        "c761197a4a9f435cb77d9a0512f3ca7b": {
          "model_module": "@jupyter-widgets/controls",
          "model_name": "DescriptionStyleModel",
          "model_module_version": "1.5.0",
          "state": {
            "_model_module": "@jupyter-widgets/controls",
            "_model_module_version": "1.5.0",
            "_model_name": "DescriptionStyleModel",
            "_view_count": null,
            "_view_module": "@jupyter-widgets/base",
            "_view_module_version": "1.2.0",
            "_view_name": "StyleView",
            "description_width": ""
          }
        },
        "2763448364b84a5ca11d446d7d1f3eeb": {
          "model_module": "@jupyter-widgets/base",
          "model_name": "LayoutModel",
          "model_module_version": "1.2.0",
          "state": {
            "_model_module": "@jupyter-widgets/base",
            "_model_module_version": "1.2.0",
            "_model_name": "LayoutModel",
            "_view_count": null,
            "_view_module": "@jupyter-widgets/base",
            "_view_module_version": "1.2.0",
            "_view_name": "LayoutView",
            "align_content": null,
            "align_items": null,
            "align_self": null,
            "border": null,
            "bottom": null,
            "display": null,
            "flex": null,
            "flex_flow": null,
            "grid_area": null,
            "grid_auto_columns": null,
            "grid_auto_flow": null,
            "grid_auto_rows": null,
            "grid_column": null,
            "grid_gap": null,
            "grid_row": null,
            "grid_template_areas": null,
            "grid_template_columns": null,
            "grid_template_rows": null,
            "height": null,
            "justify_content": null,
            "justify_items": null,
            "left": null,
            "margin": null,
            "max_height": null,
            "max_width": null,
            "min_height": null,
            "min_width": null,
            "object_fit": null,
            "object_position": null,
            "order": null,
            "overflow": null,
            "overflow_x": null,
            "overflow_y": null,
            "padding": null,
            "right": null,
            "top": null,
            "visibility": null,
            "width": "20px"
          }
        },
        "8708a3cca099498dada3fcaf9cb2c5e4": {
          "model_module": "@jupyter-widgets/controls",
          "model_name": "ProgressStyleModel",
          "model_module_version": "1.5.0",
          "state": {
            "_model_module": "@jupyter-widgets/controls",
            "_model_module_version": "1.5.0",
            "_model_name": "ProgressStyleModel",
            "_view_count": null,
            "_view_module": "@jupyter-widgets/base",
            "_view_module_version": "1.2.0",
            "_view_name": "StyleView",
            "bar_color": null,
            "description_width": ""
          }
        },
        "4a4867a1ddf34a8490a76f654207e420": {
          "model_module": "@jupyter-widgets/base",
          "model_name": "LayoutModel",
          "model_module_version": "1.2.0",
          "state": {
            "_model_module": "@jupyter-widgets/base",
            "_model_module_version": "1.2.0",
            "_model_name": "LayoutModel",
            "_view_count": null,
            "_view_module": "@jupyter-widgets/base",
            "_view_module_version": "1.2.0",
            "_view_name": "LayoutView",
            "align_content": null,
            "align_items": null,
            "align_self": null,
            "border": null,
            "bottom": null,
            "display": null,
            "flex": null,
            "flex_flow": null,
            "grid_area": null,
            "grid_auto_columns": null,
            "grid_auto_flow": null,
            "grid_auto_rows": null,
            "grid_column": null,
            "grid_gap": null,
            "grid_row": null,
            "grid_template_areas": null,
            "grid_template_columns": null,
            "grid_template_rows": null,
            "height": null,
            "justify_content": null,
            "justify_items": null,
            "left": null,
            "margin": null,
            "max_height": null,
            "max_width": null,
            "min_height": null,
            "min_width": null,
            "object_fit": null,
            "object_position": null,
            "order": null,
            "overflow": null,
            "overflow_x": null,
            "overflow_y": null,
            "padding": null,
            "right": null,
            "top": null,
            "visibility": null,
            "width": null
          }
        },
        "92da05be76654fe6a84211bc9d6fc0c1": {
          "model_module": "@jupyter-widgets/controls",
          "model_name": "DescriptionStyleModel",
          "model_module_version": "1.5.0",
          "state": {
            "_model_module": "@jupyter-widgets/controls",
            "_model_module_version": "1.5.0",
            "_model_name": "DescriptionStyleModel",
            "_view_count": null,
            "_view_module": "@jupyter-widgets/base",
            "_view_module_version": "1.2.0",
            "_view_name": "StyleView",
            "description_width": ""
          }
        },
        "f6722c01d7c0443a95cae30c0b101717": {
          "model_module": "@jupyter-widgets/controls",
          "model_name": "HBoxModel",
          "model_module_version": "1.5.0",
          "state": {
            "_dom_classes": [],
            "_model_module": "@jupyter-widgets/controls",
            "_model_module_version": "1.5.0",
            "_model_name": "HBoxModel",
            "_view_count": null,
            "_view_module": "@jupyter-widgets/controls",
            "_view_module_version": "1.5.0",
            "_view_name": "HBoxView",
            "box_style": "",
            "children": [
              "IPY_MODEL_f90ce616b5b347d5bb577413c974e48a",
              "IPY_MODEL_c958eceeb67a40dc9b86d88b53df67a2",
              "IPY_MODEL_8134ae1ab0af4f20bf152d0565c1cc2f"
            ],
            "layout": "IPY_MODEL_22607baac4414320a3135f208f99d251"
          }
        },
        "f90ce616b5b347d5bb577413c974e48a": {
          "model_module": "@jupyter-widgets/controls",
          "model_name": "HTMLModel",
          "model_module_version": "1.5.0",
          "state": {
            "_dom_classes": [],
            "_model_module": "@jupyter-widgets/controls",
            "_model_module_version": "1.5.0",
            "_model_name": "HTMLModel",
            "_view_count": null,
            "_view_module": "@jupyter-widgets/controls",
            "_view_module_version": "1.5.0",
            "_view_name": "HTMLView",
            "description": "",
            "description_tooltip": null,
            "layout": "IPY_MODEL_b128606d1537466bae6f77c644ee90b2",
            "placeholder": "​",
            "style": "IPY_MODEL_0d734e18201448c985adcd9125f7d9af",
            "value": "Generating splits...: 100%"
          }
        },
        "c958eceeb67a40dc9b86d88b53df67a2": {
          "model_module": "@jupyter-widgets/controls",
          "model_name": "FloatProgressModel",
          "model_module_version": "1.5.0",
          "state": {
            "_dom_classes": [],
            "_model_module": "@jupyter-widgets/controls",
            "_model_module_version": "1.5.0",
            "_model_name": "FloatProgressModel",
            "_view_count": null,
            "_view_module": "@jupyter-widgets/controls",
            "_view_module_version": "1.5.0",
            "_view_name": "ProgressView",
            "bar_style": "",
            "description": "",
            "description_tooltip": null,
            "layout": "IPY_MODEL_d8a312ef0a04454b9131a4388dd38418",
            "max": 1,
            "min": 0,
            "orientation": "horizontal",
            "style": "IPY_MODEL_2863a20b2b3a4f8593192e6850452950",
            "value": 1
          }
        },
        "8134ae1ab0af4f20bf152d0565c1cc2f": {
          "model_module": "@jupyter-widgets/controls",
          "model_name": "HTMLModel",
          "model_module_version": "1.5.0",
          "state": {
            "_dom_classes": [],
            "_model_module": "@jupyter-widgets/controls",
            "_model_module_version": "1.5.0",
            "_model_name": "HTMLModel",
            "_view_count": null,
            "_view_module": "@jupyter-widgets/controls",
            "_view_module_version": "1.5.0",
            "_view_name": "HTMLView",
            "description": "",
            "description_tooltip": null,
            "layout": "IPY_MODEL_97fcf992ee5e4dca923d8a4ffceb0544",
            "placeholder": "​",
            "style": "IPY_MODEL_960ee6a5a46e4d40a20be9a8ff1c0078",
            "value": " 1/1 [00:11&lt;00:00, 11.70s/ splits]"
          }
        },
        "22607baac4414320a3135f208f99d251": {
          "model_module": "@jupyter-widgets/base",
          "model_name": "LayoutModel",
          "model_module_version": "1.2.0",
          "state": {
            "_model_module": "@jupyter-widgets/base",
            "_model_module_version": "1.2.0",
            "_model_name": "LayoutModel",
            "_view_count": null,
            "_view_module": "@jupyter-widgets/base",
            "_view_module_version": "1.2.0",
            "_view_name": "LayoutView",
            "align_content": null,
            "align_items": null,
            "align_self": null,
            "border": null,
            "bottom": null,
            "display": null,
            "flex": null,
            "flex_flow": null,
            "grid_area": null,
            "grid_auto_columns": null,
            "grid_auto_flow": null,
            "grid_auto_rows": null,
            "grid_column": null,
            "grid_gap": null,
            "grid_row": null,
            "grid_template_areas": null,
            "grid_template_columns": null,
            "grid_template_rows": null,
            "height": null,
            "justify_content": null,
            "justify_items": null,
            "left": null,
            "margin": null,
            "max_height": null,
            "max_width": null,
            "min_height": null,
            "min_width": null,
            "object_fit": null,
            "object_position": null,
            "order": null,
            "overflow": null,
            "overflow_x": null,
            "overflow_y": null,
            "padding": null,
            "right": null,
            "top": null,
            "visibility": "hidden",
            "width": null
          }
        },
        "b128606d1537466bae6f77c644ee90b2": {
          "model_module": "@jupyter-widgets/base",
          "model_name": "LayoutModel",
          "model_module_version": "1.2.0",
          "state": {
            "_model_module": "@jupyter-widgets/base",
            "_model_module_version": "1.2.0",
            "_model_name": "LayoutModel",
            "_view_count": null,
            "_view_module": "@jupyter-widgets/base",
            "_view_module_version": "1.2.0",
            "_view_name": "LayoutView",
            "align_content": null,
            "align_items": null,
            "align_self": null,
            "border": null,
            "bottom": null,
            "display": null,
            "flex": null,
            "flex_flow": null,
            "grid_area": null,
            "grid_auto_columns": null,
            "grid_auto_flow": null,
            "grid_auto_rows": null,
            "grid_column": null,
            "grid_gap": null,
            "grid_row": null,
            "grid_template_areas": null,
            "grid_template_columns": null,
            "grid_template_rows": null,
            "height": null,
            "justify_content": null,
            "justify_items": null,
            "left": null,
            "margin": null,
            "max_height": null,
            "max_width": null,
            "min_height": null,
            "min_width": null,
            "object_fit": null,
            "object_position": null,
            "order": null,
            "overflow": null,
            "overflow_x": null,
            "overflow_y": null,
            "padding": null,
            "right": null,
            "top": null,
            "visibility": null,
            "width": null
          }
        },
        "0d734e18201448c985adcd9125f7d9af": {
          "model_module": "@jupyter-widgets/controls",
          "model_name": "DescriptionStyleModel",
          "model_module_version": "1.5.0",
          "state": {
            "_model_module": "@jupyter-widgets/controls",
            "_model_module_version": "1.5.0",
            "_model_name": "DescriptionStyleModel",
            "_view_count": null,
            "_view_module": "@jupyter-widgets/base",
            "_view_module_version": "1.2.0",
            "_view_name": "StyleView",
            "description_width": ""
          }
        },
        "d8a312ef0a04454b9131a4388dd38418": {
          "model_module": "@jupyter-widgets/base",
          "model_name": "LayoutModel",
          "model_module_version": "1.2.0",
          "state": {
            "_model_module": "@jupyter-widgets/base",
            "_model_module_version": "1.2.0",
            "_model_name": "LayoutModel",
            "_view_count": null,
            "_view_module": "@jupyter-widgets/base",
            "_view_module_version": "1.2.0",
            "_view_name": "LayoutView",
            "align_content": null,
            "align_items": null,
            "align_self": null,
            "border": null,
            "bottom": null,
            "display": null,
            "flex": null,
            "flex_flow": null,
            "grid_area": null,
            "grid_auto_columns": null,
            "grid_auto_flow": null,
            "grid_auto_rows": null,
            "grid_column": null,
            "grid_gap": null,
            "grid_row": null,
            "grid_template_areas": null,
            "grid_template_columns": null,
            "grid_template_rows": null,
            "height": null,
            "justify_content": null,
            "justify_items": null,
            "left": null,
            "margin": null,
            "max_height": null,
            "max_width": null,
            "min_height": null,
            "min_width": null,
            "object_fit": null,
            "object_position": null,
            "order": null,
            "overflow": null,
            "overflow_x": null,
            "overflow_y": null,
            "padding": null,
            "right": null,
            "top": null,
            "visibility": null,
            "width": null
          }
        },
        "2863a20b2b3a4f8593192e6850452950": {
          "model_module": "@jupyter-widgets/controls",
          "model_name": "ProgressStyleModel",
          "model_module_version": "1.5.0",
          "state": {
            "_model_module": "@jupyter-widgets/controls",
            "_model_module_version": "1.5.0",
            "_model_name": "ProgressStyleModel",
            "_view_count": null,
            "_view_module": "@jupyter-widgets/base",
            "_view_module_version": "1.2.0",
            "_view_name": "StyleView",
            "bar_color": null,
            "description_width": ""
          }
        },
        "97fcf992ee5e4dca923d8a4ffceb0544": {
          "model_module": "@jupyter-widgets/base",
          "model_name": "LayoutModel",
          "model_module_version": "1.2.0",
          "state": {
            "_model_module": "@jupyter-widgets/base",
            "_model_module_version": "1.2.0",
            "_model_name": "LayoutModel",
            "_view_count": null,
            "_view_module": "@jupyter-widgets/base",
            "_view_module_version": "1.2.0",
            "_view_name": "LayoutView",
            "align_content": null,
            "align_items": null,
            "align_self": null,
            "border": null,
            "bottom": null,
            "display": null,
            "flex": null,
            "flex_flow": null,
            "grid_area": null,
            "grid_auto_columns": null,
            "grid_auto_flow": null,
            "grid_auto_rows": null,
            "grid_column": null,
            "grid_gap": null,
            "grid_row": null,
            "grid_template_areas": null,
            "grid_template_columns": null,
            "grid_template_rows": null,
            "height": null,
            "justify_content": null,
            "justify_items": null,
            "left": null,
            "margin": null,
            "max_height": null,
            "max_width": null,
            "min_height": null,
            "min_width": null,
            "object_fit": null,
            "object_position": null,
            "order": null,
            "overflow": null,
            "overflow_x": null,
            "overflow_y": null,
            "padding": null,
            "right": null,
            "top": null,
            "visibility": null,
            "width": null
          }
        },
        "960ee6a5a46e4d40a20be9a8ff1c0078": {
          "model_module": "@jupyter-widgets/controls",
          "model_name": "DescriptionStyleModel",
          "model_module_version": "1.5.0",
          "state": {
            "_model_module": "@jupyter-widgets/controls",
            "_model_module_version": "1.5.0",
            "_model_name": "DescriptionStyleModel",
            "_view_count": null,
            "_view_module": "@jupyter-widgets/base",
            "_view_module_version": "1.2.0",
            "_view_name": "StyleView",
            "description_width": ""
          }
        },
        "79d1dd3ed0dd4eeaa132859e644c4ca8": {
          "model_module": "@jupyter-widgets/controls",
          "model_name": "HBoxModel",
          "model_module_version": "1.5.0",
          "state": {
            "_dom_classes": [],
            "_model_module": "@jupyter-widgets/controls",
            "_model_module_version": "1.5.0",
            "_model_name": "HBoxModel",
            "_view_count": null,
            "_view_module": "@jupyter-widgets/controls",
            "_view_module_version": "1.5.0",
            "_view_name": "HBoxView",
            "box_style": "",
            "children": [
              "IPY_MODEL_53001e53285f4c8db57e4d753194c16a",
              "IPY_MODEL_693410574b8d44709172102771ea670d",
              "IPY_MODEL_bceab133aedf4258b040aa9b9b738ddc"
            ],
            "layout": "IPY_MODEL_4370601277d1425a85a62d699d48a1bb"
          }
        },
        "53001e53285f4c8db57e4d753194c16a": {
          "model_module": "@jupyter-widgets/controls",
          "model_name": "HTMLModel",
          "model_module_version": "1.5.0",
          "state": {
            "_dom_classes": [],
            "_model_module": "@jupyter-widgets/controls",
            "_model_module_version": "1.5.0",
            "_model_name": "HTMLModel",
            "_view_count": null,
            "_view_module": "@jupyter-widgets/controls",
            "_view_module_version": "1.5.0",
            "_view_name": "HTMLView",
            "description": "",
            "description_tooltip": null,
            "layout": "IPY_MODEL_3edb0eb9eb974462a0adbae204e37ea1",
            "placeholder": "​",
            "style": "IPY_MODEL_27430a78727c4809801bf7d774bd3e2f",
            "value": "Generating train examples...: 100%"
          }
        },
        "693410574b8d44709172102771ea670d": {
          "model_module": "@jupyter-widgets/controls",
          "model_name": "FloatProgressModel",
          "model_module_version": "1.5.0",
          "state": {
            "_dom_classes": [],
            "_model_module": "@jupyter-widgets/controls",
            "_model_module_version": "1.5.0",
            "_model_name": "FloatProgressModel",
            "_view_count": null,
            "_view_module": "@jupyter-widgets/controls",
            "_view_module_version": "1.5.0",
            "_view_name": "ProgressView",
            "bar_style": "",
            "description": "",
            "description_tooltip": null,
            "layout": "IPY_MODEL_effb12877dce4afab87d445e042e11dd",
            "max": 27558,
            "min": 0,
            "orientation": "horizontal",
            "style": "IPY_MODEL_ffbb0c06d74e425795872dbe1f79565c",
            "value": 27558
          }
        },
        "bceab133aedf4258b040aa9b9b738ddc": {
          "model_module": "@jupyter-widgets/controls",
          "model_name": "HTMLModel",
          "model_module_version": "1.5.0",
          "state": {
            "_dom_classes": [],
            "_model_module": "@jupyter-widgets/controls",
            "_model_module_version": "1.5.0",
            "_model_name": "HTMLModel",
            "_view_count": null,
            "_view_module": "@jupyter-widgets/controls",
            "_view_module_version": "1.5.0",
            "_view_name": "HTMLView",
            "description": "",
            "description_tooltip": null,
            "layout": "IPY_MODEL_8f91e781326f4f3184401080bd4eb74e",
            "placeholder": "​",
            "style": "IPY_MODEL_7cfc6be0163047cfa2627d8f6616791c",
            "value": " 27532/27558 [00:10&lt;00:00, 2579.61 examples/s]"
          }
        },
        "4370601277d1425a85a62d699d48a1bb": {
          "model_module": "@jupyter-widgets/base",
          "model_name": "LayoutModel",
          "model_module_version": "1.2.0",
          "state": {
            "_model_module": "@jupyter-widgets/base",
            "_model_module_version": "1.2.0",
            "_model_name": "LayoutModel",
            "_view_count": null,
            "_view_module": "@jupyter-widgets/base",
            "_view_module_version": "1.2.0",
            "_view_name": "LayoutView",
            "align_content": null,
            "align_items": null,
            "align_self": null,
            "border": null,
            "bottom": null,
            "display": null,
            "flex": null,
            "flex_flow": null,
            "grid_area": null,
            "grid_auto_columns": null,
            "grid_auto_flow": null,
            "grid_auto_rows": null,
            "grid_column": null,
            "grid_gap": null,
            "grid_row": null,
            "grid_template_areas": null,
            "grid_template_columns": null,
            "grid_template_rows": null,
            "height": null,
            "justify_content": null,
            "justify_items": null,
            "left": null,
            "margin": null,
            "max_height": null,
            "max_width": null,
            "min_height": null,
            "min_width": null,
            "object_fit": null,
            "object_position": null,
            "order": null,
            "overflow": null,
            "overflow_x": null,
            "overflow_y": null,
            "padding": null,
            "right": null,
            "top": null,
            "visibility": "hidden",
            "width": null
          }
        },
        "3edb0eb9eb974462a0adbae204e37ea1": {
          "model_module": "@jupyter-widgets/base",
          "model_name": "LayoutModel",
          "model_module_version": "1.2.0",
          "state": {
            "_model_module": "@jupyter-widgets/base",
            "_model_module_version": "1.2.0",
            "_model_name": "LayoutModel",
            "_view_count": null,
            "_view_module": "@jupyter-widgets/base",
            "_view_module_version": "1.2.0",
            "_view_name": "LayoutView",
            "align_content": null,
            "align_items": null,
            "align_self": null,
            "border": null,
            "bottom": null,
            "display": null,
            "flex": null,
            "flex_flow": null,
            "grid_area": null,
            "grid_auto_columns": null,
            "grid_auto_flow": null,
            "grid_auto_rows": null,
            "grid_column": null,
            "grid_gap": null,
            "grid_row": null,
            "grid_template_areas": null,
            "grid_template_columns": null,
            "grid_template_rows": null,
            "height": null,
            "justify_content": null,
            "justify_items": null,
            "left": null,
            "margin": null,
            "max_height": null,
            "max_width": null,
            "min_height": null,
            "min_width": null,
            "object_fit": null,
            "object_position": null,
            "order": null,
            "overflow": null,
            "overflow_x": null,
            "overflow_y": null,
            "padding": null,
            "right": null,
            "top": null,
            "visibility": null,
            "width": null
          }
        },
        "27430a78727c4809801bf7d774bd3e2f": {
          "model_module": "@jupyter-widgets/controls",
          "model_name": "DescriptionStyleModel",
          "model_module_version": "1.5.0",
          "state": {
            "_model_module": "@jupyter-widgets/controls",
            "_model_module_version": "1.5.0",
            "_model_name": "DescriptionStyleModel",
            "_view_count": null,
            "_view_module": "@jupyter-widgets/base",
            "_view_module_version": "1.2.0",
            "_view_name": "StyleView",
            "description_width": ""
          }
        },
        "effb12877dce4afab87d445e042e11dd": {
          "model_module": "@jupyter-widgets/base",
          "model_name": "LayoutModel",
          "model_module_version": "1.2.0",
          "state": {
            "_model_module": "@jupyter-widgets/base",
            "_model_module_version": "1.2.0",
            "_model_name": "LayoutModel",
            "_view_count": null,
            "_view_module": "@jupyter-widgets/base",
            "_view_module_version": "1.2.0",
            "_view_name": "LayoutView",
            "align_content": null,
            "align_items": null,
            "align_self": null,
            "border": null,
            "bottom": null,
            "display": null,
            "flex": null,
            "flex_flow": null,
            "grid_area": null,
            "grid_auto_columns": null,
            "grid_auto_flow": null,
            "grid_auto_rows": null,
            "grid_column": null,
            "grid_gap": null,
            "grid_row": null,
            "grid_template_areas": null,
            "grid_template_columns": null,
            "grid_template_rows": null,
            "height": null,
            "justify_content": null,
            "justify_items": null,
            "left": null,
            "margin": null,
            "max_height": null,
            "max_width": null,
            "min_height": null,
            "min_width": null,
            "object_fit": null,
            "object_position": null,
            "order": null,
            "overflow": null,
            "overflow_x": null,
            "overflow_y": null,
            "padding": null,
            "right": null,
            "top": null,
            "visibility": null,
            "width": null
          }
        },
        "ffbb0c06d74e425795872dbe1f79565c": {
          "model_module": "@jupyter-widgets/controls",
          "model_name": "ProgressStyleModel",
          "model_module_version": "1.5.0",
          "state": {
            "_model_module": "@jupyter-widgets/controls",
            "_model_module_version": "1.5.0",
            "_model_name": "ProgressStyleModel",
            "_view_count": null,
            "_view_module": "@jupyter-widgets/base",
            "_view_module_version": "1.2.0",
            "_view_name": "StyleView",
            "bar_color": null,
            "description_width": ""
          }
        },
        "8f91e781326f4f3184401080bd4eb74e": {
          "model_module": "@jupyter-widgets/base",
          "model_name": "LayoutModel",
          "model_module_version": "1.2.0",
          "state": {
            "_model_module": "@jupyter-widgets/base",
            "_model_module_version": "1.2.0",
            "_model_name": "LayoutModel",
            "_view_count": null,
            "_view_module": "@jupyter-widgets/base",
            "_view_module_version": "1.2.0",
            "_view_name": "LayoutView",
            "align_content": null,
            "align_items": null,
            "align_self": null,
            "border": null,
            "bottom": null,
            "display": null,
            "flex": null,
            "flex_flow": null,
            "grid_area": null,
            "grid_auto_columns": null,
            "grid_auto_flow": null,
            "grid_auto_rows": null,
            "grid_column": null,
            "grid_gap": null,
            "grid_row": null,
            "grid_template_areas": null,
            "grid_template_columns": null,
            "grid_template_rows": null,
            "height": null,
            "justify_content": null,
            "justify_items": null,
            "left": null,
            "margin": null,
            "max_height": null,
            "max_width": null,
            "min_height": null,
            "min_width": null,
            "object_fit": null,
            "object_position": null,
            "order": null,
            "overflow": null,
            "overflow_x": null,
            "overflow_y": null,
            "padding": null,
            "right": null,
            "top": null,
            "visibility": null,
            "width": null
          }
        },
        "7cfc6be0163047cfa2627d8f6616791c": {
          "model_module": "@jupyter-widgets/controls",
          "model_name": "DescriptionStyleModel",
          "model_module_version": "1.5.0",
          "state": {
            "_model_module": "@jupyter-widgets/controls",
            "_model_module_version": "1.5.0",
            "_model_name": "DescriptionStyleModel",
            "_view_count": null,
            "_view_module": "@jupyter-widgets/base",
            "_view_module_version": "1.2.0",
            "_view_name": "StyleView",
            "description_width": ""
          }
        },
        "cfe8e179fb14499b921400ce84a17a82": {
          "model_module": "@jupyter-widgets/controls",
          "model_name": "HBoxModel",
          "model_module_version": "1.5.0",
          "state": {
            "_dom_classes": [],
            "_model_module": "@jupyter-widgets/controls",
            "_model_module_version": "1.5.0",
            "_model_name": "HBoxModel",
            "_view_count": null,
            "_view_module": "@jupyter-widgets/controls",
            "_view_module_version": "1.5.0",
            "_view_name": "HBoxView",
            "box_style": "",
            "children": [
              "IPY_MODEL_aae1008ae1bf44cd91bfc36b0218a7ae",
              "IPY_MODEL_4ef719175bc74cb5b590f0b32d27dd92",
              "IPY_MODEL_04e1bb8ef94842f1b7262644ab4a9afd"
            ],
            "layout": "IPY_MODEL_a8f5e1b92e674502875221bc3eb5520a"
          }
        },
        "aae1008ae1bf44cd91bfc36b0218a7ae": {
          "model_module": "@jupyter-widgets/controls",
          "model_name": "HTMLModel",
          "model_module_version": "1.5.0",
          "state": {
            "_dom_classes": [],
            "_model_module": "@jupyter-widgets/controls",
            "_model_module_version": "1.5.0",
            "_model_name": "HTMLModel",
            "_view_count": null,
            "_view_module": "@jupyter-widgets/controls",
            "_view_module_version": "1.5.0",
            "_view_name": "HTMLView",
            "description": "",
            "description_tooltip": null,
            "layout": "IPY_MODEL_75c15289a68e44a683175fc1637987ec",
            "placeholder": "​",
            "style": "IPY_MODEL_05dd01ea690b4a999819cdaeaa7438b0",
            "value": "Shuffling /root/tensorflow_datasets/malaria/1.0.0.incompleteY1UDWM/malaria-train.tfrecord*...:  93%"
          }
        },
        "4ef719175bc74cb5b590f0b32d27dd92": {
          "model_module": "@jupyter-widgets/controls",
          "model_name": "FloatProgressModel",
          "model_module_version": "1.5.0",
          "state": {
            "_dom_classes": [],
            "_model_module": "@jupyter-widgets/controls",
            "_model_module_version": "1.5.0",
            "_model_name": "FloatProgressModel",
            "_view_count": null,
            "_view_module": "@jupyter-widgets/controls",
            "_view_module_version": "1.5.0",
            "_view_name": "ProgressView",
            "bar_style": "",
            "description": "",
            "description_tooltip": null,
            "layout": "IPY_MODEL_d6de6e0da5304d9990e8fefb162691a6",
            "max": 27558,
            "min": 0,
            "orientation": "horizontal",
            "style": "IPY_MODEL_17a54d40eddd489185ab4ff5edc92bba",
            "value": 27558
          }
        },
        "04e1bb8ef94842f1b7262644ab4a9afd": {
          "model_module": "@jupyter-widgets/controls",
          "model_name": "HTMLModel",
          "model_module_version": "1.5.0",
          "state": {
            "_dom_classes": [],
            "_model_module": "@jupyter-widgets/controls",
            "_model_module_version": "1.5.0",
            "_model_name": "HTMLModel",
            "_view_count": null,
            "_view_module": "@jupyter-widgets/controls",
            "_view_module_version": "1.5.0",
            "_view_name": "HTMLView",
            "description": "",
            "description_tooltip": null,
            "layout": "IPY_MODEL_9dba7d410e214f25b8df0f506efa509a",
            "placeholder": "​",
            "style": "IPY_MODEL_07b967bfb30245f59b6492d64cb5dec9",
            "value": " 25568/27558 [00:01&lt;00:00, 21071.39 examples/s]"
          }
        },
        "a8f5e1b92e674502875221bc3eb5520a": {
          "model_module": "@jupyter-widgets/base",
          "model_name": "LayoutModel",
          "model_module_version": "1.2.0",
          "state": {
            "_model_module": "@jupyter-widgets/base",
            "_model_module_version": "1.2.0",
            "_model_name": "LayoutModel",
            "_view_count": null,
            "_view_module": "@jupyter-widgets/base",
            "_view_module_version": "1.2.0",
            "_view_name": "LayoutView",
            "align_content": null,
            "align_items": null,
            "align_self": null,
            "border": null,
            "bottom": null,
            "display": null,
            "flex": null,
            "flex_flow": null,
            "grid_area": null,
            "grid_auto_columns": null,
            "grid_auto_flow": null,
            "grid_auto_rows": null,
            "grid_column": null,
            "grid_gap": null,
            "grid_row": null,
            "grid_template_areas": null,
            "grid_template_columns": null,
            "grid_template_rows": null,
            "height": null,
            "justify_content": null,
            "justify_items": null,
            "left": null,
            "margin": null,
            "max_height": null,
            "max_width": null,
            "min_height": null,
            "min_width": null,
            "object_fit": null,
            "object_position": null,
            "order": null,
            "overflow": null,
            "overflow_x": null,
            "overflow_y": null,
            "padding": null,
            "right": null,
            "top": null,
            "visibility": "hidden",
            "width": null
          }
        },
        "75c15289a68e44a683175fc1637987ec": {
          "model_module": "@jupyter-widgets/base",
          "model_name": "LayoutModel",
          "model_module_version": "1.2.0",
          "state": {
            "_model_module": "@jupyter-widgets/base",
            "_model_module_version": "1.2.0",
            "_model_name": "LayoutModel",
            "_view_count": null,
            "_view_module": "@jupyter-widgets/base",
            "_view_module_version": "1.2.0",
            "_view_name": "LayoutView",
            "align_content": null,
            "align_items": null,
            "align_self": null,
            "border": null,
            "bottom": null,
            "display": null,
            "flex": null,
            "flex_flow": null,
            "grid_area": null,
            "grid_auto_columns": null,
            "grid_auto_flow": null,
            "grid_auto_rows": null,
            "grid_column": null,
            "grid_gap": null,
            "grid_row": null,
            "grid_template_areas": null,
            "grid_template_columns": null,
            "grid_template_rows": null,
            "height": null,
            "justify_content": null,
            "justify_items": null,
            "left": null,
            "margin": null,
            "max_height": null,
            "max_width": null,
            "min_height": null,
            "min_width": null,
            "object_fit": null,
            "object_position": null,
            "order": null,
            "overflow": null,
            "overflow_x": null,
            "overflow_y": null,
            "padding": null,
            "right": null,
            "top": null,
            "visibility": null,
            "width": null
          }
        },
        "05dd01ea690b4a999819cdaeaa7438b0": {
          "model_module": "@jupyter-widgets/controls",
          "model_name": "DescriptionStyleModel",
          "model_module_version": "1.5.0",
          "state": {
            "_model_module": "@jupyter-widgets/controls",
            "_model_module_version": "1.5.0",
            "_model_name": "DescriptionStyleModel",
            "_view_count": null,
            "_view_module": "@jupyter-widgets/base",
            "_view_module_version": "1.2.0",
            "_view_name": "StyleView",
            "description_width": ""
          }
        },
        "d6de6e0da5304d9990e8fefb162691a6": {
          "model_module": "@jupyter-widgets/base",
          "model_name": "LayoutModel",
          "model_module_version": "1.2.0",
          "state": {
            "_model_module": "@jupyter-widgets/base",
            "_model_module_version": "1.2.0",
            "_model_name": "LayoutModel",
            "_view_count": null,
            "_view_module": "@jupyter-widgets/base",
            "_view_module_version": "1.2.0",
            "_view_name": "LayoutView",
            "align_content": null,
            "align_items": null,
            "align_self": null,
            "border": null,
            "bottom": null,
            "display": null,
            "flex": null,
            "flex_flow": null,
            "grid_area": null,
            "grid_auto_columns": null,
            "grid_auto_flow": null,
            "grid_auto_rows": null,
            "grid_column": null,
            "grid_gap": null,
            "grid_row": null,
            "grid_template_areas": null,
            "grid_template_columns": null,
            "grid_template_rows": null,
            "height": null,
            "justify_content": null,
            "justify_items": null,
            "left": null,
            "margin": null,
            "max_height": null,
            "max_width": null,
            "min_height": null,
            "min_width": null,
            "object_fit": null,
            "object_position": null,
            "order": null,
            "overflow": null,
            "overflow_x": null,
            "overflow_y": null,
            "padding": null,
            "right": null,
            "top": null,
            "visibility": null,
            "width": null
          }
        },
        "17a54d40eddd489185ab4ff5edc92bba": {
          "model_module": "@jupyter-widgets/controls",
          "model_name": "ProgressStyleModel",
          "model_module_version": "1.5.0",
          "state": {
            "_model_module": "@jupyter-widgets/controls",
            "_model_module_version": "1.5.0",
            "_model_name": "ProgressStyleModel",
            "_view_count": null,
            "_view_module": "@jupyter-widgets/base",
            "_view_module_version": "1.2.0",
            "_view_name": "StyleView",
            "bar_color": null,
            "description_width": ""
          }
        },
        "9dba7d410e214f25b8df0f506efa509a": {
          "model_module": "@jupyter-widgets/base",
          "model_name": "LayoutModel",
          "model_module_version": "1.2.0",
          "state": {
            "_model_module": "@jupyter-widgets/base",
            "_model_module_version": "1.2.0",
            "_model_name": "LayoutModel",
            "_view_count": null,
            "_view_module": "@jupyter-widgets/base",
            "_view_module_version": "1.2.0",
            "_view_name": "LayoutView",
            "align_content": null,
            "align_items": null,
            "align_self": null,
            "border": null,
            "bottom": null,
            "display": null,
            "flex": null,
            "flex_flow": null,
            "grid_area": null,
            "grid_auto_columns": null,
            "grid_auto_flow": null,
            "grid_auto_rows": null,
            "grid_column": null,
            "grid_gap": null,
            "grid_row": null,
            "grid_template_areas": null,
            "grid_template_columns": null,
            "grid_template_rows": null,
            "height": null,
            "justify_content": null,
            "justify_items": null,
            "left": null,
            "margin": null,
            "max_height": null,
            "max_width": null,
            "min_height": null,
            "min_width": null,
            "object_fit": null,
            "object_position": null,
            "order": null,
            "overflow": null,
            "overflow_x": null,
            "overflow_y": null,
            "padding": null,
            "right": null,
            "top": null,
            "visibility": null,
            "width": null
          }
        },
        "07b967bfb30245f59b6492d64cb5dec9": {
          "model_module": "@jupyter-widgets/controls",
          "model_name": "DescriptionStyleModel",
          "model_module_version": "1.5.0",
          "state": {
            "_model_module": "@jupyter-widgets/controls",
            "_model_module_version": "1.5.0",
            "_model_name": "DescriptionStyleModel",
            "_view_count": null,
            "_view_module": "@jupyter-widgets/base",
            "_view_module_version": "1.2.0",
            "_view_name": "StyleView",
            "description_width": ""
          }
        },
        "39699f6781cd49b7a3dd53a93e972609": {
          "model_module": "@jupyter-widgets/controls",
          "model_name": "VBoxModel",
          "model_module_version": "1.5.0",
          "state": {
            "_dom_classes": [],
            "_model_module": "@jupyter-widgets/controls",
            "_model_module_version": "1.5.0",
            "_model_name": "VBoxModel",
            "_view_count": null,
            "_view_module": "@jupyter-widgets/controls",
            "_view_module_version": "1.5.0",
            "_view_name": "VBoxView",
            "box_style": "",
            "children": [
              "IPY_MODEL_fd8e7a071bff4c2cad45660b0ecef420",
              "IPY_MODEL_f290a10a43dc42e4adaa3ff8bf457d4d"
            ],
            "layout": "IPY_MODEL_b784a949cf6b471e97fcefdf5a05dc57"
          }
        },
        "fd8e7a071bff4c2cad45660b0ecef420": {
          "model_module": "@jupyter-widgets/controls",
          "model_name": "LabelModel",
          "model_module_version": "1.5.0",
          "state": {
            "_dom_classes": [],
            "_model_module": "@jupyter-widgets/controls",
            "_model_module_version": "1.5.0",
            "_model_name": "LabelModel",
            "_view_count": null,
            "_view_module": "@jupyter-widgets/controls",
            "_view_module_version": "1.5.0",
            "_view_name": "LabelView",
            "description": "",
            "description_tooltip": null,
            "layout": "IPY_MODEL_3595666f1fca4f41969df499c635170e",
            "placeholder": "​",
            "style": "IPY_MODEL_4a9ce1761e214ef5a54e2837cf88baec",
            "value": "0.010 MB of 0.010 MB uploaded\r"
          }
        },
        "f290a10a43dc42e4adaa3ff8bf457d4d": {
          "model_module": "@jupyter-widgets/controls",
          "model_name": "FloatProgressModel",
          "model_module_version": "1.5.0",
          "state": {
            "_dom_classes": [],
            "_model_module": "@jupyter-widgets/controls",
            "_model_module_version": "1.5.0",
            "_model_name": "FloatProgressModel",
            "_view_count": null,
            "_view_module": "@jupyter-widgets/controls",
            "_view_module_version": "1.5.0",
            "_view_name": "ProgressView",
            "bar_style": "",
            "description": "",
            "description_tooltip": null,
            "layout": "IPY_MODEL_43489dd1f98a484887f3845582e4ed66",
            "max": 1,
            "min": 0,
            "orientation": "horizontal",
            "style": "IPY_MODEL_29644c12bd2947d494539f34b7b36997",
            "value": 1
          }
        },
        "b784a949cf6b471e97fcefdf5a05dc57": {
          "model_module": "@jupyter-widgets/base",
          "model_name": "LayoutModel",
          "model_module_version": "1.2.0",
          "state": {
            "_model_module": "@jupyter-widgets/base",
            "_model_module_version": "1.2.0",
            "_model_name": "LayoutModel",
            "_view_count": null,
            "_view_module": "@jupyter-widgets/base",
            "_view_module_version": "1.2.0",
            "_view_name": "LayoutView",
            "align_content": null,
            "align_items": null,
            "align_self": null,
            "border": null,
            "bottom": null,
            "display": null,
            "flex": null,
            "flex_flow": null,
            "grid_area": null,
            "grid_auto_columns": null,
            "grid_auto_flow": null,
            "grid_auto_rows": null,
            "grid_column": null,
            "grid_gap": null,
            "grid_row": null,
            "grid_template_areas": null,
            "grid_template_columns": null,
            "grid_template_rows": null,
            "height": null,
            "justify_content": null,
            "justify_items": null,
            "left": null,
            "margin": null,
            "max_height": null,
            "max_width": null,
            "min_height": null,
            "min_width": null,
            "object_fit": null,
            "object_position": null,
            "order": null,
            "overflow": null,
            "overflow_x": null,
            "overflow_y": null,
            "padding": null,
            "right": null,
            "top": null,
            "visibility": null,
            "width": null
          }
        },
        "3595666f1fca4f41969df499c635170e": {
          "model_module": "@jupyter-widgets/base",
          "model_name": "LayoutModel",
          "model_module_version": "1.2.0",
          "state": {
            "_model_module": "@jupyter-widgets/base",
            "_model_module_version": "1.2.0",
            "_model_name": "LayoutModel",
            "_view_count": null,
            "_view_module": "@jupyter-widgets/base",
            "_view_module_version": "1.2.0",
            "_view_name": "LayoutView",
            "align_content": null,
            "align_items": null,
            "align_self": null,
            "border": null,
            "bottom": null,
            "display": null,
            "flex": null,
            "flex_flow": null,
            "grid_area": null,
            "grid_auto_columns": null,
            "grid_auto_flow": null,
            "grid_auto_rows": null,
            "grid_column": null,
            "grid_gap": null,
            "grid_row": null,
            "grid_template_areas": null,
            "grid_template_columns": null,
            "grid_template_rows": null,
            "height": null,
            "justify_content": null,
            "justify_items": null,
            "left": null,
            "margin": null,
            "max_height": null,
            "max_width": null,
            "min_height": null,
            "min_width": null,
            "object_fit": null,
            "object_position": null,
            "order": null,
            "overflow": null,
            "overflow_x": null,
            "overflow_y": null,
            "padding": null,
            "right": null,
            "top": null,
            "visibility": null,
            "width": null
          }
        },
        "4a9ce1761e214ef5a54e2837cf88baec": {
          "model_module": "@jupyter-widgets/controls",
          "model_name": "DescriptionStyleModel",
          "model_module_version": "1.5.0",
          "state": {
            "_model_module": "@jupyter-widgets/controls",
            "_model_module_version": "1.5.0",
            "_model_name": "DescriptionStyleModel",
            "_view_count": null,
            "_view_module": "@jupyter-widgets/base",
            "_view_module_version": "1.2.0",
            "_view_name": "StyleView",
            "description_width": ""
          }
        },
        "43489dd1f98a484887f3845582e4ed66": {
          "model_module": "@jupyter-widgets/base",
          "model_name": "LayoutModel",
          "model_module_version": "1.2.0",
          "state": {
            "_model_module": "@jupyter-widgets/base",
            "_model_module_version": "1.2.0",
            "_model_name": "LayoutModel",
            "_view_count": null,
            "_view_module": "@jupyter-widgets/base",
            "_view_module_version": "1.2.0",
            "_view_name": "LayoutView",
            "align_content": null,
            "align_items": null,
            "align_self": null,
            "border": null,
            "bottom": null,
            "display": null,
            "flex": null,
            "flex_flow": null,
            "grid_area": null,
            "grid_auto_columns": null,
            "grid_auto_flow": null,
            "grid_auto_rows": null,
            "grid_column": null,
            "grid_gap": null,
            "grid_row": null,
            "grid_template_areas": null,
            "grid_template_columns": null,
            "grid_template_rows": null,
            "height": null,
            "justify_content": null,
            "justify_items": null,
            "left": null,
            "margin": null,
            "max_height": null,
            "max_width": null,
            "min_height": null,
            "min_width": null,
            "object_fit": null,
            "object_position": null,
            "order": null,
            "overflow": null,
            "overflow_x": null,
            "overflow_y": null,
            "padding": null,
            "right": null,
            "top": null,
            "visibility": null,
            "width": null
          }
        },
        "29644c12bd2947d494539f34b7b36997": {
          "model_module": "@jupyter-widgets/controls",
          "model_name": "ProgressStyleModel",
          "model_module_version": "1.5.0",
          "state": {
            "_model_module": "@jupyter-widgets/controls",
            "_model_module_version": "1.5.0",
            "_model_name": "ProgressStyleModel",
            "_view_count": null,
            "_view_module": "@jupyter-widgets/base",
            "_view_module_version": "1.2.0",
            "_view_name": "StyleView",
            "bar_color": null,
            "description_width": ""
          }
        },
        "4895f979710a4da897e442a9a8709fc5": {
          "model_module": "@jupyter-widgets/controls",
          "model_name": "VBoxModel",
          "model_module_version": "1.5.0",
          "state": {
            "_dom_classes": [],
            "_model_module": "@jupyter-widgets/controls",
            "_model_module_version": "1.5.0",
            "_model_name": "VBoxModel",
            "_view_count": null,
            "_view_module": "@jupyter-widgets/controls",
            "_view_module_version": "1.5.0",
            "_view_name": "VBoxView",
            "box_style": "",
            "children": [
              "IPY_MODEL_099aa71b7c6441a4bd034aa0ec912c4b",
              "IPY_MODEL_d56e2d7fadaf4c21ba6ace63603e2644"
            ],
            "layout": "IPY_MODEL_c8b64f8ee828475f8478ebc1c3614cb2"
          }
        },
        "099aa71b7c6441a4bd034aa0ec912c4b": {
          "model_module": "@jupyter-widgets/controls",
          "model_name": "LabelModel",
          "model_module_version": "1.5.0",
          "state": {
            "_dom_classes": [],
            "_model_module": "@jupyter-widgets/controls",
            "_model_module_version": "1.5.0",
            "_model_name": "LabelModel",
            "_view_count": null,
            "_view_module": "@jupyter-widgets/controls",
            "_view_module_version": "1.5.0",
            "_view_name": "LabelView",
            "description": "",
            "description_tooltip": null,
            "layout": "IPY_MODEL_f6641a7e6aad4bcbbf4be658f70e9d80",
            "placeholder": "​",
            "style": "IPY_MODEL_665ef5827da14f798127b2685b6d1ca5",
            "value": "0.010 MB of 0.010 MB uploaded\r"
          }
        },
        "d56e2d7fadaf4c21ba6ace63603e2644": {
          "model_module": "@jupyter-widgets/controls",
          "model_name": "FloatProgressModel",
          "model_module_version": "1.5.0",
          "state": {
            "_dom_classes": [],
            "_model_module": "@jupyter-widgets/controls",
            "_model_module_version": "1.5.0",
            "_model_name": "FloatProgressModel",
            "_view_count": null,
            "_view_module": "@jupyter-widgets/controls",
            "_view_module_version": "1.5.0",
            "_view_name": "ProgressView",
            "bar_style": "",
            "description": "",
            "description_tooltip": null,
            "layout": "IPY_MODEL_59182a612e334ff5af2392642c396ff2",
            "max": 1,
            "min": 0,
            "orientation": "horizontal",
            "style": "IPY_MODEL_5d74af06152e4ece8a9ca58b35d3fa49",
            "value": 1
          }
        },
        "c8b64f8ee828475f8478ebc1c3614cb2": {
          "model_module": "@jupyter-widgets/base",
          "model_name": "LayoutModel",
          "model_module_version": "1.2.0",
          "state": {
            "_model_module": "@jupyter-widgets/base",
            "_model_module_version": "1.2.0",
            "_model_name": "LayoutModel",
            "_view_count": null,
            "_view_module": "@jupyter-widgets/base",
            "_view_module_version": "1.2.0",
            "_view_name": "LayoutView",
            "align_content": null,
            "align_items": null,
            "align_self": null,
            "border": null,
            "bottom": null,
            "display": null,
            "flex": null,
            "flex_flow": null,
            "grid_area": null,
            "grid_auto_columns": null,
            "grid_auto_flow": null,
            "grid_auto_rows": null,
            "grid_column": null,
            "grid_gap": null,
            "grid_row": null,
            "grid_template_areas": null,
            "grid_template_columns": null,
            "grid_template_rows": null,
            "height": null,
            "justify_content": null,
            "justify_items": null,
            "left": null,
            "margin": null,
            "max_height": null,
            "max_width": null,
            "min_height": null,
            "min_width": null,
            "object_fit": null,
            "object_position": null,
            "order": null,
            "overflow": null,
            "overflow_x": null,
            "overflow_y": null,
            "padding": null,
            "right": null,
            "top": null,
            "visibility": null,
            "width": null
          }
        },
        "f6641a7e6aad4bcbbf4be658f70e9d80": {
          "model_module": "@jupyter-widgets/base",
          "model_name": "LayoutModel",
          "model_module_version": "1.2.0",
          "state": {
            "_model_module": "@jupyter-widgets/base",
            "_model_module_version": "1.2.0",
            "_model_name": "LayoutModel",
            "_view_count": null,
            "_view_module": "@jupyter-widgets/base",
            "_view_module_version": "1.2.0",
            "_view_name": "LayoutView",
            "align_content": null,
            "align_items": null,
            "align_self": null,
            "border": null,
            "bottom": null,
            "display": null,
            "flex": null,
            "flex_flow": null,
            "grid_area": null,
            "grid_auto_columns": null,
            "grid_auto_flow": null,
            "grid_auto_rows": null,
            "grid_column": null,
            "grid_gap": null,
            "grid_row": null,
            "grid_template_areas": null,
            "grid_template_columns": null,
            "grid_template_rows": null,
            "height": null,
            "justify_content": null,
            "justify_items": null,
            "left": null,
            "margin": null,
            "max_height": null,
            "max_width": null,
            "min_height": null,
            "min_width": null,
            "object_fit": null,
            "object_position": null,
            "order": null,
            "overflow": null,
            "overflow_x": null,
            "overflow_y": null,
            "padding": null,
            "right": null,
            "top": null,
            "visibility": null,
            "width": null
          }
        },
        "665ef5827da14f798127b2685b6d1ca5": {
          "model_module": "@jupyter-widgets/controls",
          "model_name": "DescriptionStyleModel",
          "model_module_version": "1.5.0",
          "state": {
            "_model_module": "@jupyter-widgets/controls",
            "_model_module_version": "1.5.0",
            "_model_name": "DescriptionStyleModel",
            "_view_count": null,
            "_view_module": "@jupyter-widgets/base",
            "_view_module_version": "1.2.0",
            "_view_name": "StyleView",
            "description_width": ""
          }
        },
        "59182a612e334ff5af2392642c396ff2": {
          "model_module": "@jupyter-widgets/base",
          "model_name": "LayoutModel",
          "model_module_version": "1.2.0",
          "state": {
            "_model_module": "@jupyter-widgets/base",
            "_model_module_version": "1.2.0",
            "_model_name": "LayoutModel",
            "_view_count": null,
            "_view_module": "@jupyter-widgets/base",
            "_view_module_version": "1.2.0",
            "_view_name": "LayoutView",
            "align_content": null,
            "align_items": null,
            "align_self": null,
            "border": null,
            "bottom": null,
            "display": null,
            "flex": null,
            "flex_flow": null,
            "grid_area": null,
            "grid_auto_columns": null,
            "grid_auto_flow": null,
            "grid_auto_rows": null,
            "grid_column": null,
            "grid_gap": null,
            "grid_row": null,
            "grid_template_areas": null,
            "grid_template_columns": null,
            "grid_template_rows": null,
            "height": null,
            "justify_content": null,
            "justify_items": null,
            "left": null,
            "margin": null,
            "max_height": null,
            "max_width": null,
            "min_height": null,
            "min_width": null,
            "object_fit": null,
            "object_position": null,
            "order": null,
            "overflow": null,
            "overflow_x": null,
            "overflow_y": null,
            "padding": null,
            "right": null,
            "top": null,
            "visibility": null,
            "width": null
          }
        },
        "5d74af06152e4ece8a9ca58b35d3fa49": {
          "model_module": "@jupyter-widgets/controls",
          "model_name": "ProgressStyleModel",
          "model_module_version": "1.5.0",
          "state": {
            "_model_module": "@jupyter-widgets/controls",
            "_model_module_version": "1.5.0",
            "_model_name": "ProgressStyleModel",
            "_view_count": null,
            "_view_module": "@jupyter-widgets/base",
            "_view_module_version": "1.2.0",
            "_view_name": "StyleView",
            "bar_color": null,
            "description_width": ""
          }
        },
        "6ec4fee45bf0472885f126b0f375816e": {
          "model_module": "@jupyter-widgets/controls",
          "model_name": "VBoxModel",
          "model_module_version": "1.5.0",
          "state": {
            "_dom_classes": [],
            "_model_module": "@jupyter-widgets/controls",
            "_model_module_version": "1.5.0",
            "_model_name": "VBoxModel",
            "_view_count": null,
            "_view_module": "@jupyter-widgets/controls",
            "_view_module_version": "1.5.0",
            "_view_name": "VBoxView",
            "box_style": "",
            "children": [
              "IPY_MODEL_eb4c041729b649b1a1ca361bc4c46ba4",
              "IPY_MODEL_0f7be986ba62464db2636ba325d24c70"
            ],
            "layout": "IPY_MODEL_7d91243c6bdb409fa559e47792602aea"
          }
        },
        "eb4c041729b649b1a1ca361bc4c46ba4": {
          "model_module": "@jupyter-widgets/controls",
          "model_name": "LabelModel",
          "model_module_version": "1.5.0",
          "state": {
            "_dom_classes": [],
            "_model_module": "@jupyter-widgets/controls",
            "_model_module_version": "1.5.0",
            "_model_name": "LabelModel",
            "_view_count": null,
            "_view_module": "@jupyter-widgets/controls",
            "_view_module_version": "1.5.0",
            "_view_name": "LabelView",
            "description": "",
            "description_tooltip": null,
            "layout": "IPY_MODEL_5cd1ebbb5a7546419dad0cacc2d74649",
            "placeholder": "​",
            "style": "IPY_MODEL_d65436c3b68f4c86b1f600d598e0eb4d",
            "value": "0.010 MB of 0.010 MB uploaded\r"
          }
        },
        "0f7be986ba62464db2636ba325d24c70": {
          "model_module": "@jupyter-widgets/controls",
          "model_name": "FloatProgressModel",
          "model_module_version": "1.5.0",
          "state": {
            "_dom_classes": [],
            "_model_module": "@jupyter-widgets/controls",
            "_model_module_version": "1.5.0",
            "_model_name": "FloatProgressModel",
            "_view_count": null,
            "_view_module": "@jupyter-widgets/controls",
            "_view_module_version": "1.5.0",
            "_view_name": "ProgressView",
            "bar_style": "",
            "description": "",
            "description_tooltip": null,
            "layout": "IPY_MODEL_eb36ec426f37462b9ea2360366715bee",
            "max": 1,
            "min": 0,
            "orientation": "horizontal",
            "style": "IPY_MODEL_16b8b03336f3485aa7aeb7cd3ca1f347",
            "value": 1
          }
        },
        "7d91243c6bdb409fa559e47792602aea": {
          "model_module": "@jupyter-widgets/base",
          "model_name": "LayoutModel",
          "model_module_version": "1.2.0",
          "state": {
            "_model_module": "@jupyter-widgets/base",
            "_model_module_version": "1.2.0",
            "_model_name": "LayoutModel",
            "_view_count": null,
            "_view_module": "@jupyter-widgets/base",
            "_view_module_version": "1.2.0",
            "_view_name": "LayoutView",
            "align_content": null,
            "align_items": null,
            "align_self": null,
            "border": null,
            "bottom": null,
            "display": null,
            "flex": null,
            "flex_flow": null,
            "grid_area": null,
            "grid_auto_columns": null,
            "grid_auto_flow": null,
            "grid_auto_rows": null,
            "grid_column": null,
            "grid_gap": null,
            "grid_row": null,
            "grid_template_areas": null,
            "grid_template_columns": null,
            "grid_template_rows": null,
            "height": null,
            "justify_content": null,
            "justify_items": null,
            "left": null,
            "margin": null,
            "max_height": null,
            "max_width": null,
            "min_height": null,
            "min_width": null,
            "object_fit": null,
            "object_position": null,
            "order": null,
            "overflow": null,
            "overflow_x": null,
            "overflow_y": null,
            "padding": null,
            "right": null,
            "top": null,
            "visibility": null,
            "width": null
          }
        },
        "5cd1ebbb5a7546419dad0cacc2d74649": {
          "model_module": "@jupyter-widgets/base",
          "model_name": "LayoutModel",
          "model_module_version": "1.2.0",
          "state": {
            "_model_module": "@jupyter-widgets/base",
            "_model_module_version": "1.2.0",
            "_model_name": "LayoutModel",
            "_view_count": null,
            "_view_module": "@jupyter-widgets/base",
            "_view_module_version": "1.2.0",
            "_view_name": "LayoutView",
            "align_content": null,
            "align_items": null,
            "align_self": null,
            "border": null,
            "bottom": null,
            "display": null,
            "flex": null,
            "flex_flow": null,
            "grid_area": null,
            "grid_auto_columns": null,
            "grid_auto_flow": null,
            "grid_auto_rows": null,
            "grid_column": null,
            "grid_gap": null,
            "grid_row": null,
            "grid_template_areas": null,
            "grid_template_columns": null,
            "grid_template_rows": null,
            "height": null,
            "justify_content": null,
            "justify_items": null,
            "left": null,
            "margin": null,
            "max_height": null,
            "max_width": null,
            "min_height": null,
            "min_width": null,
            "object_fit": null,
            "object_position": null,
            "order": null,
            "overflow": null,
            "overflow_x": null,
            "overflow_y": null,
            "padding": null,
            "right": null,
            "top": null,
            "visibility": null,
            "width": null
          }
        },
        "d65436c3b68f4c86b1f600d598e0eb4d": {
          "model_module": "@jupyter-widgets/controls",
          "model_name": "DescriptionStyleModel",
          "model_module_version": "1.5.0",
          "state": {
            "_model_module": "@jupyter-widgets/controls",
            "_model_module_version": "1.5.0",
            "_model_name": "DescriptionStyleModel",
            "_view_count": null,
            "_view_module": "@jupyter-widgets/base",
            "_view_module_version": "1.2.0",
            "_view_name": "StyleView",
            "description_width": ""
          }
        },
        "eb36ec426f37462b9ea2360366715bee": {
          "model_module": "@jupyter-widgets/base",
          "model_name": "LayoutModel",
          "model_module_version": "1.2.0",
          "state": {
            "_model_module": "@jupyter-widgets/base",
            "_model_module_version": "1.2.0",
            "_model_name": "LayoutModel",
            "_view_count": null,
            "_view_module": "@jupyter-widgets/base",
            "_view_module_version": "1.2.0",
            "_view_name": "LayoutView",
            "align_content": null,
            "align_items": null,
            "align_self": null,
            "border": null,
            "bottom": null,
            "display": null,
            "flex": null,
            "flex_flow": null,
            "grid_area": null,
            "grid_auto_columns": null,
            "grid_auto_flow": null,
            "grid_auto_rows": null,
            "grid_column": null,
            "grid_gap": null,
            "grid_row": null,
            "grid_template_areas": null,
            "grid_template_columns": null,
            "grid_template_rows": null,
            "height": null,
            "justify_content": null,
            "justify_items": null,
            "left": null,
            "margin": null,
            "max_height": null,
            "max_width": null,
            "min_height": null,
            "min_width": null,
            "object_fit": null,
            "object_position": null,
            "order": null,
            "overflow": null,
            "overflow_x": null,
            "overflow_y": null,
            "padding": null,
            "right": null,
            "top": null,
            "visibility": null,
            "width": null
          }
        },
        "16b8b03336f3485aa7aeb7cd3ca1f347": {
          "model_module": "@jupyter-widgets/controls",
          "model_name": "ProgressStyleModel",
          "model_module_version": "1.5.0",
          "state": {
            "_model_module": "@jupyter-widgets/controls",
            "_model_module_version": "1.5.0",
            "_model_name": "ProgressStyleModel",
            "_view_count": null,
            "_view_module": "@jupyter-widgets/base",
            "_view_module_version": "1.2.0",
            "_view_name": "StyleView",
            "bar_color": null,
            "description_width": ""
          }
        }
      }
    }
  },
  "nbformat": 4,
  "nbformat_minor": 0
}